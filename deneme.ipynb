{
 "cells": [
  {
   "cell_type": "code",
   "execution_count": 1,
   "metadata": {},
   "outputs": [],
   "source": [
    "# Temel çizimler için kullanılır\n",
    "import matplotlib.pyplot as plt\n",
    "\n",
    "# Grafik noktasında yüksek seviyeli bir arayüz sağlar\n",
    "import seaborn as sns\n",
    "\n",
    "# Veri analizi ve manipülasyonu için kullanılır\n",
    "import pandas as pd\n",
    "\n",
    "# Bilimsel hesaplamalar ve matematiksel işlemler için kullanılır\n",
    "import numpy as np\n",
    "\n",
    "# Metin karşılaştırma ve eşleştirme işlemleri için kullanılır\n",
    "import fuzzywuzzy\n",
    "\n",
    "# Kategorik verileri sayısala çevirmek için kullanılır\n",
    "from sklearn.preprocessing import LabelEncoder\n",
    "\n",
    "# Veri normalleştirme işlemi için kullanılır\n",
    "from mlxtend.preprocessing import minmax_scaling\n",
    "\n",
    "# Hicri ve miladi takvim dönüşümü için kullanılır\n",
    "from hijri_converter import convert\n",
    "\n",
    "# Metin formatındaki tarih ve saatleri ayrıştırmak için kullanılır\n",
    "from dateutil import parser\n",
    "\n",
    "#Uyarı sistemini kontrol etmek için kullanılır\n",
    "import warnings\n",
    "warnings.filterwarnings(\"ignore\", category=FutureWarning)"
   ]
  },
  {
   "cell_type": "code",
   "execution_count": 5399,
   "metadata": {},
   "outputs": [],
   "source": [
    "# Dosya uygun formatta okunur \n",
    "data = pd.read_csv(\"PakistanSuicideAttacks.csv\", encoding=\"ISO-8859-1\")"
   ]
  },
  {
   "cell_type": "code",
   "execution_count": 5400,
   "metadata": {},
   "outputs": [
    {
     "data": {
      "text/html": [
       "<div>\n",
       "<style scoped>\n",
       "    .dataframe tbody tr th:only-of-type {\n",
       "        vertical-align: middle;\n",
       "    }\n",
       "\n",
       "    .dataframe tbody tr th {\n",
       "        vertical-align: top;\n",
       "    }\n",
       "\n",
       "    .dataframe thead th {\n",
       "        text-align: right;\n",
       "    }\n",
       "</style>\n",
       "<table border=\"1\" class=\"dataframe\">\n",
       "  <thead>\n",
       "    <tr style=\"text-align: right;\">\n",
       "      <th></th>\n",
       "      <th>S#</th>\n",
       "      <th>Date</th>\n",
       "      <th>Islamic Date</th>\n",
       "      <th>Blast Day Type</th>\n",
       "      <th>Holiday Type</th>\n",
       "      <th>Time</th>\n",
       "      <th>City</th>\n",
       "      <th>Latitude</th>\n",
       "      <th>Longitude</th>\n",
       "      <th>Province</th>\n",
       "      <th>...</th>\n",
       "      <th>Targeted Sect if any</th>\n",
       "      <th>Killed Min</th>\n",
       "      <th>Killed Max</th>\n",
       "      <th>Injured Min</th>\n",
       "      <th>Injured Max</th>\n",
       "      <th>No. of Suicide Blasts</th>\n",
       "      <th>Explosive Weight (max)</th>\n",
       "      <th>Hospital Names</th>\n",
       "      <th>Temperature(C)</th>\n",
       "      <th>Temperature(F)</th>\n",
       "    </tr>\n",
       "  </thead>\n",
       "  <tbody>\n",
       "    <tr>\n",
       "      <th>0</th>\n",
       "      <td>1</td>\n",
       "      <td>Sunday-November 19-1995</td>\n",
       "      <td>25 Jumaada al-THaany 1416 A.H</td>\n",
       "      <td>Holiday</td>\n",
       "      <td>Weekend</td>\n",
       "      <td>NaN</td>\n",
       "      <td>Islamabad</td>\n",
       "      <td>33.718000</td>\n",
       "      <td>73.0718</td>\n",
       "      <td>Capital</td>\n",
       "      <td>...</td>\n",
       "      <td>NaN</td>\n",
       "      <td>14.0</td>\n",
       "      <td>15.0</td>\n",
       "      <td>NaN</td>\n",
       "      <td>60</td>\n",
       "      <td>2.0</td>\n",
       "      <td>NaN</td>\n",
       "      <td>NaN</td>\n",
       "      <td>15.835</td>\n",
       "      <td>60.503</td>\n",
       "    </tr>\n",
       "    <tr>\n",
       "      <th>1</th>\n",
       "      <td>2</td>\n",
       "      <td>Monday-November 6-2000</td>\n",
       "      <td>10 SHa`baan 1421 A.H</td>\n",
       "      <td>Working Day</td>\n",
       "      <td>NaN</td>\n",
       "      <td>NaN</td>\n",
       "      <td>Karachi</td>\n",
       "      <td>24.991800</td>\n",
       "      <td>66.9911</td>\n",
       "      <td>Sindh</td>\n",
       "      <td>...</td>\n",
       "      <td>NaN</td>\n",
       "      <td>NaN</td>\n",
       "      <td>3.0</td>\n",
       "      <td>NaN</td>\n",
       "      <td>3</td>\n",
       "      <td>1.0</td>\n",
       "      <td>NaN</td>\n",
       "      <td>NaN</td>\n",
       "      <td>23.770</td>\n",
       "      <td>74.786</td>\n",
       "    </tr>\n",
       "    <tr>\n",
       "      <th>2</th>\n",
       "      <td>3</td>\n",
       "      <td>Wednesday-May 8-2002</td>\n",
       "      <td>25 safar 1423 A.H</td>\n",
       "      <td>Working Day</td>\n",
       "      <td>NaN</td>\n",
       "      <td>7:45 AM</td>\n",
       "      <td>Karachi</td>\n",
       "      <td>24.991800</td>\n",
       "      <td>66.9911</td>\n",
       "      <td>Sindh</td>\n",
       "      <td>...</td>\n",
       "      <td>Christian</td>\n",
       "      <td>13.0</td>\n",
       "      <td>15.0</td>\n",
       "      <td>20.0</td>\n",
       "      <td>40</td>\n",
       "      <td>1.0</td>\n",
       "      <td>2.5 Kg</td>\n",
       "      <td>1.Jinnah Postgraduate Medical Center 2. Civil ...</td>\n",
       "      <td>31.460</td>\n",
       "      <td>88.628</td>\n",
       "    </tr>\n",
       "    <tr>\n",
       "      <th>3</th>\n",
       "      <td>4</td>\n",
       "      <td>Friday-June 14-2002</td>\n",
       "      <td>3 Raby` al-THaany 1423 A.H</td>\n",
       "      <td>Working Day</td>\n",
       "      <td>NaN</td>\n",
       "      <td>11:10:00 AM</td>\n",
       "      <td>Karachi</td>\n",
       "      <td>24.991800</td>\n",
       "      <td>66.9911</td>\n",
       "      <td>Sindh</td>\n",
       "      <td>...</td>\n",
       "      <td>Christian</td>\n",
       "      <td>NaN</td>\n",
       "      <td>12.0</td>\n",
       "      <td>NaN</td>\n",
       "      <td>51</td>\n",
       "      <td>1.0</td>\n",
       "      <td>NaN</td>\n",
       "      <td>NaN</td>\n",
       "      <td>31.430</td>\n",
       "      <td>88.574</td>\n",
       "    </tr>\n",
       "    <tr>\n",
       "      <th>4</th>\n",
       "      <td>5</td>\n",
       "      <td>Friday-July 4-2003</td>\n",
       "      <td>4 Jumaada al-awal 1424 A.H</td>\n",
       "      <td>Working Day</td>\n",
       "      <td>NaN</td>\n",
       "      <td>NaN</td>\n",
       "      <td>Quetta</td>\n",
       "      <td>30.209500</td>\n",
       "      <td>67.0182</td>\n",
       "      <td>Baluchistan</td>\n",
       "      <td>...</td>\n",
       "      <td>Shiite</td>\n",
       "      <td>44.0</td>\n",
       "      <td>47.0</td>\n",
       "      <td>NaN</td>\n",
       "      <td>65</td>\n",
       "      <td>1.0</td>\n",
       "      <td>NaN</td>\n",
       "      <td>1.CMH Quetta \\n2.Civil Hospital 3. Boland Medi...</td>\n",
       "      <td>33.120</td>\n",
       "      <td>91.616</td>\n",
       "    </tr>\n",
       "    <tr>\n",
       "      <th>...</th>\n",
       "      <td>...</td>\n",
       "      <td>...</td>\n",
       "      <td>...</td>\n",
       "      <td>...</td>\n",
       "      <td>...</td>\n",
       "      <td>...</td>\n",
       "      <td>...</td>\n",
       "      <td>...</td>\n",
       "      <td>...</td>\n",
       "      <td>...</td>\n",
       "      <td>...</td>\n",
       "      <td>...</td>\n",
       "      <td>...</td>\n",
       "      <td>...</td>\n",
       "      <td>...</td>\n",
       "      <td>...</td>\n",
       "      <td>...</td>\n",
       "      <td>...</td>\n",
       "      <td>...</td>\n",
       "      <td>...</td>\n",
       "      <td>...</td>\n",
       "    </tr>\n",
       "    <tr>\n",
       "      <th>491</th>\n",
       "      <td>492</td>\n",
       "      <td>Thursday-October-05-2017</td>\n",
       "      <td>13 MuHarram 1439 A.H</td>\n",
       "      <td>Working Day</td>\n",
       "      <td>NaN</td>\n",
       "      <td>NaN</td>\n",
       "      <td>Quetta</td>\n",
       "      <td>28.571051</td>\n",
       "      <td>67.496895</td>\n",
       "      <td>Balochistan</td>\n",
       "      <td>...</td>\n",
       "      <td>NaN</td>\n",
       "      <td>21.0</td>\n",
       "      <td>22.0</td>\n",
       "      <td>25.0</td>\n",
       "      <td>NaN</td>\n",
       "      <td>1.0</td>\n",
       "      <td>NaN</td>\n",
       "      <td>Larkana Hospital, Gandawah District Headquarte...</td>\n",
       "      <td>27.800</td>\n",
       "      <td>81.000</td>\n",
       "    </tr>\n",
       "    <tr>\n",
       "      <th>492</th>\n",
       "      <td>493</td>\n",
       "      <td>Thursday-October-19-2017</td>\n",
       "      <td>27 MuHarram 1439 A.H</td>\n",
       "      <td>Working Day</td>\n",
       "      <td>NaN</td>\n",
       "      <td>8:00 AM</td>\n",
       "      <td>Quetta</td>\n",
       "      <td>NaN</td>\n",
       "      <td>NaN</td>\n",
       "      <td>Balochistan</td>\n",
       "      <td>...</td>\n",
       "      <td>NaN</td>\n",
       "      <td>7.0</td>\n",
       "      <td>7.0</td>\n",
       "      <td>22.0</td>\n",
       "      <td>22</td>\n",
       "      <td>1.0</td>\n",
       "      <td>NaN</td>\n",
       "      <td>NaN</td>\n",
       "      <td>26.000</td>\n",
       "      <td>79.000</td>\n",
       "    </tr>\n",
       "    <tr>\n",
       "      <th>493</th>\n",
       "      <td>494</td>\n",
       "      <td>Thursday-November-9-2017</td>\n",
       "      <td>19 Safar 1439 A.H</td>\n",
       "      <td>Working Day</td>\n",
       "      <td>NaN</td>\n",
       "      <td>7:00 AM</td>\n",
       "      <td>Quetta</td>\n",
       "      <td>30.221057</td>\n",
       "      <td>67.002524</td>\n",
       "      <td>Balochistan</td>\n",
       "      <td>...</td>\n",
       "      <td>NaN</td>\n",
       "      <td>2.0</td>\n",
       "      <td>2.0</td>\n",
       "      <td>8.0</td>\n",
       "      <td>8</td>\n",
       "      <td>1.0</td>\n",
       "      <td>15KG</td>\n",
       "      <td>Combined Military Hospital (CMH)-(Quetta), Civ...</td>\n",
       "      <td>25.000</td>\n",
       "      <td>77.000</td>\n",
       "    </tr>\n",
       "    <tr>\n",
       "      <th>494</th>\n",
       "      <td>495</td>\n",
       "      <td>Friday-November-24-2017</td>\n",
       "      <td>5 Rabi Al-Awwal 1439 A.H</td>\n",
       "      <td>Working Day</td>\n",
       "      <td>NaN</td>\n",
       "      <td>7:00 AM</td>\n",
       "      <td>Peshawar</td>\n",
       "      <td>33.970623</td>\n",
       "      <td>71.43862</td>\n",
       "      <td>KPK</td>\n",
       "      <td>...</td>\n",
       "      <td>NaN</td>\n",
       "      <td>1.0</td>\n",
       "      <td>3.0</td>\n",
       "      <td>6.0</td>\n",
       "      <td>8</td>\n",
       "      <td>1.0</td>\n",
       "      <td>20KG</td>\n",
       "      <td>Hayatabad Medical Complex(Peshawar)</td>\n",
       "      <td>22.000</td>\n",
       "      <td>72.000</td>\n",
       "    </tr>\n",
       "    <tr>\n",
       "      <th>495</th>\n",
       "      <td>496</td>\n",
       "      <td>Saturday-November-25-2017</td>\n",
       "      <td>6 Rabi Al-Awwal 1439 A.H</td>\n",
       "      <td>Working Day</td>\n",
       "      <td>NaN</td>\n",
       "      <td>7:00 AM</td>\n",
       "      <td>Quetta</td>\n",
       "      <td>30.139626</td>\n",
       "      <td>66.981476</td>\n",
       "      <td>Balochistan</td>\n",
       "      <td>...</td>\n",
       "      <td>NaN</td>\n",
       "      <td>4.0</td>\n",
       "      <td>4.0</td>\n",
       "      <td>16.0</td>\n",
       "      <td>22</td>\n",
       "      <td>1.0</td>\n",
       "      <td>10KG</td>\n",
       "      <td>Civil Hospital(Quetta)</td>\n",
       "      <td>29.000</td>\n",
       "      <td>84.000</td>\n",
       "    </tr>\n",
       "  </tbody>\n",
       "</table>\n",
       "<p>496 rows × 26 columns</p>\n",
       "</div>"
      ],
      "text/plain": [
       "      S#                       Date                   Islamic Date  \\\n",
       "0      1    Sunday-November 19-1995  25 Jumaada al-THaany 1416 A.H   \n",
       "1      2     Monday-November 6-2000           10 SHa`baan 1421 A.H   \n",
       "2      3       Wednesday-May 8-2002              25 safar 1423 A.H   \n",
       "3      4        Friday-June 14-2002     3 Raby` al-THaany 1423 A.H   \n",
       "4      5         Friday-July 4-2003     4 Jumaada al-awal 1424 A.H   \n",
       "..   ...                        ...                            ...   \n",
       "491  492   Thursday-October-05-2017           13 MuHarram 1439 A.H   \n",
       "492  493   Thursday-October-19-2017           27 MuHarram 1439 A.H   \n",
       "493  494   Thursday-November-9-2017              19 Safar 1439 A.H   \n",
       "494  495    Friday-November-24-2017       5 Rabi Al-Awwal 1439 A.H   \n",
       "495  496  Saturday-November-25-2017       6 Rabi Al-Awwal 1439 A.H   \n",
       "\n",
       "    Blast Day Type Holiday Type         Time       City   Latitude  Longitude  \\\n",
       "0          Holiday      Weekend          NaN  Islamabad  33.718000    73.0718   \n",
       "1      Working Day          NaN          NaN    Karachi  24.991800    66.9911   \n",
       "2      Working Day          NaN      7:45 AM   Karachi   24.991800    66.9911   \n",
       "3      Working Day          NaN  11:10:00 AM    Karachi  24.991800    66.9911   \n",
       "4      Working Day          NaN          NaN     Quetta  30.209500    67.0182   \n",
       "..             ...          ...          ...        ...        ...        ...   \n",
       "491    Working Day          NaN          NaN     Quetta  28.571051  67.496895   \n",
       "492    Working Day          NaN      8:00 AM     Quetta        NaN        NaN   \n",
       "493    Working Day          NaN      7:00 AM     Quetta  30.221057  67.002524   \n",
       "494    Working Day          NaN      7:00 AM   Peshawar  33.970623   71.43862   \n",
       "495    Working Day          NaN      7:00 AM     Quetta  30.139626  66.981476   \n",
       "\n",
       "        Province  ... Targeted Sect if any Killed Min Killed Max Injured Min  \\\n",
       "0        Capital  ...                  NaN       14.0       15.0         NaN   \n",
       "1          Sindh  ...                  NaN        NaN        3.0         NaN   \n",
       "2          Sindh  ...            Christian       13.0       15.0        20.0   \n",
       "3          Sindh  ...            Christian        NaN       12.0         NaN   \n",
       "4    Baluchistan  ...               Shiite       44.0       47.0         NaN   \n",
       "..           ...  ...                  ...        ...        ...         ...   \n",
       "491  Balochistan  ...                  NaN       21.0       22.0        25.0   \n",
       "492  Balochistan  ...                  NaN        7.0        7.0        22.0   \n",
       "493  Balochistan  ...                  NaN        2.0        2.0         8.0   \n",
       "494          KPK  ...                  NaN        1.0        3.0         6.0   \n",
       "495  Balochistan  ...                  NaN        4.0        4.0        16.0   \n",
       "\n",
       "    Injured Max No. of Suicide Blasts Explosive Weight (max)  \\\n",
       "0            60                   2.0                    NaN   \n",
       "1             3                   1.0                    NaN   \n",
       "2            40                   1.0                 2.5 Kg   \n",
       "3            51                   1.0                    NaN   \n",
       "4            65                   1.0                    NaN   \n",
       "..          ...                   ...                    ...   \n",
       "491         NaN                   1.0                    NaN   \n",
       "492          22                   1.0                    NaN   \n",
       "493           8                   1.0                   15KG   \n",
       "494           8                   1.0                   20KG   \n",
       "495          22                   1.0                   10KG   \n",
       "\n",
       "                                        Hospital Names  Temperature(C)  \\\n",
       "0                                                  NaN          15.835   \n",
       "1                                                  NaN          23.770   \n",
       "2    1.Jinnah Postgraduate Medical Center 2. Civil ...          31.460   \n",
       "3                                                  NaN          31.430   \n",
       "4    1.CMH Quetta \\n2.Civil Hospital 3. Boland Medi...          33.120   \n",
       "..                                                 ...             ...   \n",
       "491  Larkana Hospital, Gandawah District Headquarte...          27.800   \n",
       "492                                                NaN          26.000   \n",
       "493  Combined Military Hospital (CMH)-(Quetta), Civ...          25.000   \n",
       "494                Hayatabad Medical Complex(Peshawar)          22.000   \n",
       "495                             Civil Hospital(Quetta)          29.000   \n",
       "\n",
       "     Temperature(F)  \n",
       "0            60.503  \n",
       "1            74.786  \n",
       "2            88.628  \n",
       "3            88.574  \n",
       "4            91.616  \n",
       "..              ...  \n",
       "491          81.000  \n",
       "492          79.000  \n",
       "493          77.000  \n",
       "494          72.000  \n",
       "495          84.000  \n",
       "\n",
       "[496 rows x 26 columns]"
      ]
     },
     "execution_count": 5400,
     "metadata": {},
     "output_type": "execute_result"
    }
   ],
   "source": [
    "data"
   ]
  },
  {
   "cell_type": "code",
   "execution_count": 5401,
   "metadata": {},
   "outputs": [
    {
     "data": {
      "text/html": [
       "<div>\n",
       "<style scoped>\n",
       "    .dataframe tbody tr th:only-of-type {\n",
       "        vertical-align: middle;\n",
       "    }\n",
       "\n",
       "    .dataframe tbody tr th {\n",
       "        vertical-align: top;\n",
       "    }\n",
       "\n",
       "    .dataframe thead th {\n",
       "        text-align: right;\n",
       "    }\n",
       "</style>\n",
       "<table border=\"1\" class=\"dataframe\">\n",
       "  <thead>\n",
       "    <tr style=\"text-align: right;\">\n",
       "      <th></th>\n",
       "      <th>S#</th>\n",
       "      <th>Date</th>\n",
       "      <th>Islamic Date</th>\n",
       "      <th>Blast Day Type</th>\n",
       "      <th>Holiday Type</th>\n",
       "      <th>Time</th>\n",
       "      <th>City</th>\n",
       "      <th>Latitude</th>\n",
       "      <th>Longitude</th>\n",
       "      <th>Province</th>\n",
       "      <th>...</th>\n",
       "      <th>Targeted Sect if any</th>\n",
       "      <th>Killed Min</th>\n",
       "      <th>Killed Max</th>\n",
       "      <th>Injured Min</th>\n",
       "      <th>Injured Max</th>\n",
       "      <th>No. of Suicide Blasts</th>\n",
       "      <th>Explosive Weight (max)</th>\n",
       "      <th>Hospital Names</th>\n",
       "      <th>Temperature(C)</th>\n",
       "      <th>Temperature(F)</th>\n",
       "    </tr>\n",
       "  </thead>\n",
       "  <tbody>\n",
       "    <tr>\n",
       "      <th>0</th>\n",
       "      <td>1</td>\n",
       "      <td>Sunday-November 19-1995</td>\n",
       "      <td>25 Jumaada al-THaany 1416 A.H</td>\n",
       "      <td>Holiday</td>\n",
       "      <td>Weekend</td>\n",
       "      <td>NaN</td>\n",
       "      <td>Islamabad</td>\n",
       "      <td>33.7180</td>\n",
       "      <td>73.0718</td>\n",
       "      <td>Capital</td>\n",
       "      <td>...</td>\n",
       "      <td>NaN</td>\n",
       "      <td>14.0</td>\n",
       "      <td>15.0</td>\n",
       "      <td>NaN</td>\n",
       "      <td>60</td>\n",
       "      <td>2.0</td>\n",
       "      <td>NaN</td>\n",
       "      <td>NaN</td>\n",
       "      <td>15.835</td>\n",
       "      <td>60.503</td>\n",
       "    </tr>\n",
       "    <tr>\n",
       "      <th>1</th>\n",
       "      <td>2</td>\n",
       "      <td>Monday-November 6-2000</td>\n",
       "      <td>10 SHa`baan 1421 A.H</td>\n",
       "      <td>Working Day</td>\n",
       "      <td>NaN</td>\n",
       "      <td>NaN</td>\n",
       "      <td>Karachi</td>\n",
       "      <td>24.9918</td>\n",
       "      <td>66.9911</td>\n",
       "      <td>Sindh</td>\n",
       "      <td>...</td>\n",
       "      <td>NaN</td>\n",
       "      <td>NaN</td>\n",
       "      <td>3.0</td>\n",
       "      <td>NaN</td>\n",
       "      <td>3</td>\n",
       "      <td>1.0</td>\n",
       "      <td>NaN</td>\n",
       "      <td>NaN</td>\n",
       "      <td>23.770</td>\n",
       "      <td>74.786</td>\n",
       "    </tr>\n",
       "    <tr>\n",
       "      <th>2</th>\n",
       "      <td>3</td>\n",
       "      <td>Wednesday-May 8-2002</td>\n",
       "      <td>25 safar 1423 A.H</td>\n",
       "      <td>Working Day</td>\n",
       "      <td>NaN</td>\n",
       "      <td>7:45 AM</td>\n",
       "      <td>Karachi</td>\n",
       "      <td>24.9918</td>\n",
       "      <td>66.9911</td>\n",
       "      <td>Sindh</td>\n",
       "      <td>...</td>\n",
       "      <td>Christian</td>\n",
       "      <td>13.0</td>\n",
       "      <td>15.0</td>\n",
       "      <td>20.0</td>\n",
       "      <td>40</td>\n",
       "      <td>1.0</td>\n",
       "      <td>2.5 Kg</td>\n",
       "      <td>1.Jinnah Postgraduate Medical Center 2. Civil ...</td>\n",
       "      <td>31.460</td>\n",
       "      <td>88.628</td>\n",
       "    </tr>\n",
       "    <tr>\n",
       "      <th>3</th>\n",
       "      <td>4</td>\n",
       "      <td>Friday-June 14-2002</td>\n",
       "      <td>3 Raby` al-THaany 1423 A.H</td>\n",
       "      <td>Working Day</td>\n",
       "      <td>NaN</td>\n",
       "      <td>11:10:00 AM</td>\n",
       "      <td>Karachi</td>\n",
       "      <td>24.9918</td>\n",
       "      <td>66.9911</td>\n",
       "      <td>Sindh</td>\n",
       "      <td>...</td>\n",
       "      <td>Christian</td>\n",
       "      <td>NaN</td>\n",
       "      <td>12.0</td>\n",
       "      <td>NaN</td>\n",
       "      <td>51</td>\n",
       "      <td>1.0</td>\n",
       "      <td>NaN</td>\n",
       "      <td>NaN</td>\n",
       "      <td>31.430</td>\n",
       "      <td>88.574</td>\n",
       "    </tr>\n",
       "    <tr>\n",
       "      <th>4</th>\n",
       "      <td>5</td>\n",
       "      <td>Friday-July 4-2003</td>\n",
       "      <td>4 Jumaada al-awal 1424 A.H</td>\n",
       "      <td>Working Day</td>\n",
       "      <td>NaN</td>\n",
       "      <td>NaN</td>\n",
       "      <td>Quetta</td>\n",
       "      <td>30.2095</td>\n",
       "      <td>67.0182</td>\n",
       "      <td>Baluchistan</td>\n",
       "      <td>...</td>\n",
       "      <td>Shiite</td>\n",
       "      <td>44.0</td>\n",
       "      <td>47.0</td>\n",
       "      <td>NaN</td>\n",
       "      <td>65</td>\n",
       "      <td>1.0</td>\n",
       "      <td>NaN</td>\n",
       "      <td>1.CMH Quetta \\n2.Civil Hospital 3. Boland Medi...</td>\n",
       "      <td>33.120</td>\n",
       "      <td>91.616</td>\n",
       "    </tr>\n",
       "  </tbody>\n",
       "</table>\n",
       "<p>5 rows × 26 columns</p>\n",
       "</div>"
      ],
      "text/plain": [
       "   S#                     Date                   Islamic Date Blast Day Type  \\\n",
       "0   1  Sunday-November 19-1995  25 Jumaada al-THaany 1416 A.H        Holiday   \n",
       "1   2   Monday-November 6-2000           10 SHa`baan 1421 A.H    Working Day   \n",
       "2   3     Wednesday-May 8-2002              25 safar 1423 A.H    Working Day   \n",
       "3   4      Friday-June 14-2002     3 Raby` al-THaany 1423 A.H    Working Day   \n",
       "4   5       Friday-July 4-2003     4 Jumaada al-awal 1424 A.H    Working Day   \n",
       "\n",
       "  Holiday Type         Time       City  Latitude Longitude     Province  ...  \\\n",
       "0      Weekend          NaN  Islamabad   33.7180   73.0718      Capital  ...   \n",
       "1          NaN          NaN    Karachi   24.9918   66.9911        Sindh  ...   \n",
       "2          NaN      7:45 AM   Karachi    24.9918   66.9911        Sindh  ...   \n",
       "3          NaN  11:10:00 AM    Karachi   24.9918   66.9911        Sindh  ...   \n",
       "4          NaN          NaN     Quetta   30.2095   67.0182  Baluchistan  ...   \n",
       "\n",
       "  Targeted Sect if any Killed Min Killed Max Injured Min Injured Max  \\\n",
       "0                  NaN       14.0       15.0         NaN          60   \n",
       "1                  NaN        NaN        3.0         NaN           3   \n",
       "2            Christian       13.0       15.0        20.0          40   \n",
       "3            Christian        NaN       12.0         NaN          51   \n",
       "4               Shiite       44.0       47.0         NaN          65   \n",
       "\n",
       "  No. of Suicide Blasts Explosive Weight (max)  \\\n",
       "0                   2.0                    NaN   \n",
       "1                   1.0                    NaN   \n",
       "2                   1.0                 2.5 Kg   \n",
       "3                   1.0                    NaN   \n",
       "4                   1.0                    NaN   \n",
       "\n",
       "                                      Hospital Names  Temperature(C)  \\\n",
       "0                                                NaN          15.835   \n",
       "1                                                NaN          23.770   \n",
       "2  1.Jinnah Postgraduate Medical Center 2. Civil ...          31.460   \n",
       "3                                                NaN          31.430   \n",
       "4  1.CMH Quetta \\n2.Civil Hospital 3. Boland Medi...          33.120   \n",
       "\n",
       "   Temperature(F)  \n",
       "0          60.503  \n",
       "1          74.786  \n",
       "2          88.628  \n",
       "3          88.574  \n",
       "4          91.616  \n",
       "\n",
       "[5 rows x 26 columns]"
      ]
     },
     "execution_count": 5401,
     "metadata": {},
     "output_type": "execute_result"
    }
   ],
   "source": [
    "# veri setinden ilk beş veriyi listeler\n",
    "data.head()"
   ]
  },
  {
   "cell_type": "code",
   "execution_count": 5402,
   "metadata": {},
   "outputs": [
    {
     "data": {
      "text/plain": [
       "S#                           int64\n",
       "Date                        object\n",
       "Islamic Date                object\n",
       "Blast Day Type              object\n",
       "Holiday Type                object\n",
       "Time                        object\n",
       "City                        object\n",
       "Latitude                   float64\n",
       "Longitude                   object\n",
       "Province                    object\n",
       "Location                    object\n",
       "Location Category           object\n",
       "Location Sensitivity        object\n",
       "Open/Closed Space           object\n",
       "Influencing Event/Event     object\n",
       "Target Type                 object\n",
       "Targeted Sect if any        object\n",
       "Killed Min                 float64\n",
       "Killed Max                 float64\n",
       "Injured Min                float64\n",
       "Injured Max                 object\n",
       "No. of Suicide Blasts      float64\n",
       "Explosive Weight (max)      object\n",
       "Hospital Names              object\n",
       "Temperature(C)             float64\n",
       "Temperature(F)             float64\n",
       "dtype: object"
      ]
     },
     "execution_count": 5402,
     "metadata": {},
     "output_type": "execute_result"
    }
   ],
   "source": [
    "# veri setindeki sutunların veri tiplerini gösterir\n",
    "data.dtypes"
   ]
  },
  {
   "cell_type": "code",
   "execution_count": 5403,
   "metadata": {},
   "outputs": [
    {
     "data": {
      "text/plain": [
       "Index(['S#', 'Date', 'Islamic Date', 'Blast Day Type', 'Holiday Type', 'Time',\n",
       "       'City', 'Latitude', 'Longitude', 'Province', 'Location',\n",
       "       'Location Category', 'Location Sensitivity', 'Open/Closed Space',\n",
       "       'Influencing Event/Event', 'Target Type', 'Targeted Sect if any',\n",
       "       'Killed Min', 'Killed Max', 'Injured Min', 'Injured Max',\n",
       "       'No. of Suicide Blasts', 'Explosive Weight (max)', 'Hospital Names',\n",
       "       'Temperature(C)', 'Temperature(F)'],\n",
       "      dtype='object')"
      ]
     },
     "execution_count": 5403,
     "metadata": {},
     "output_type": "execute_result"
    }
   ],
   "source": [
    "# veri setinin sutun adlarını gösterir\n",
    "data.columns"
   ]
  },
  {
   "cell_type": "code",
   "execution_count": 5404,
   "metadata": {},
   "outputs": [
    {
     "data": {
      "text/plain": [
       "S#                           0\n",
       "Date                         0\n",
       "Islamic Date               154\n",
       "Blast Day Type              10\n",
       "Holiday Type               424\n",
       "Time                       211\n",
       "City                         0\n",
       "Latitude                     3\n",
       "Longitude                    3\n",
       "Province                     0\n",
       "Location                     3\n",
       "Location Category           35\n",
       "Location Sensitivity        36\n",
       "Open/Closed Space           35\n",
       "Influencing Event/Event    305\n",
       "Target Type                 26\n",
       "Targeted Sect if any       399\n",
       "Killed Min                 146\n",
       "Killed Max                  16\n",
       "Injured Min                131\n",
       "Injured Max                 32\n",
       "No. of Suicide Blasts       82\n",
       "Explosive Weight (max)     324\n",
       "Hospital Names             199\n",
       "Temperature(C)               5\n",
       "Temperature(F)               7\n",
       "dtype: int64"
      ]
     },
     "execution_count": 5404,
     "metadata": {},
     "output_type": "execute_result"
    }
   ],
   "source": [
    "# veri setindeki null değerleri gösterir\n",
    "data.isnull().sum()"
   ]
  },
  {
   "cell_type": "code",
   "execution_count": 5405,
   "metadata": {},
   "outputs": [
    {
     "data": {
      "text/plain": [
       "<Axes: >"
      ]
     },
     "execution_count": 5405,
     "metadata": {},
     "output_type": "execute_result"
    },
    {
     "data": {
      "image/png": "[encoded data removed]",
      "text/plain": [
       "<Figure size 640x480 with 1 Axes>"
      ]
     },
     "metadata": {},
     "output_type": "display_data"
    }
   ],
   "source": [
    "# veri setinde null değere sahip olanları görsel bir şekilde gösterir\n",
    "sns.heatmap(data.isnull(), cbar=False)"
   ]
  },
  {
   "cell_type": "code",
   "execution_count": 5406,
   "metadata": {},
   "outputs": [
    {
     "name": "stdout",
     "output_type": "stream",
     "text": [
      "<class 'pandas.core.frame.DataFrame'>\n",
      "RangeIndex: 496 entries, 0 to 495\n",
      "Data columns (total 26 columns):\n",
      " #   Column                   Non-Null Count  Dtype  \n",
      "---  ------                   --------------  -----  \n",
      " 0   S#                       496 non-null    int64  \n",
      " 1   Date                     496 non-null    object \n",
      " 2   Islamic Date             342 non-null    object \n",
      " 3   Blast Day Type           486 non-null    object \n",
      " 4   Holiday Type             72 non-null     object \n",
      " 5   Time                     285 non-null    object \n",
      " 6   City                     496 non-null    object \n",
      " 7   Latitude                 493 non-null    float64\n",
      " 8   Longitude                493 non-null    object \n",
      " 9   Province                 496 non-null    object \n",
      " 10  Location                 493 non-null    object \n",
      " 11  Location Category        461 non-null    object \n",
      " 12  Location Sensitivity     460 non-null    object \n",
      " 13  Open/Closed Space        461 non-null    object \n",
      " 14  Influencing Event/Event  191 non-null    object \n",
      " 15  Target Type              470 non-null    object \n",
      " 16  Targeted Sect if any     97 non-null     object \n",
      " 17  Killed Min               350 non-null    float64\n",
      " 18  Killed Max               480 non-null    float64\n",
      " 19  Injured Min              365 non-null    float64\n",
      " 20  Injured Max              464 non-null    object \n",
      " 21  No. of Suicide Blasts    414 non-null    float64\n",
      " 22  Explosive Weight (max)   172 non-null    object \n",
      " 23  Hospital Names           297 non-null    object \n",
      " 24  Temperature(C)           491 non-null    float64\n",
      " 25  Temperature(F)           489 non-null    float64\n",
      "dtypes: float64(7), int64(1), object(18)\n",
      "memory usage: 100.9+ KB\n"
     ]
    }
   ],
   "source": [
    "data.info()"
   ]
  },
  {
   "cell_type": "code",
   "execution_count": 5407,
   "metadata": {},
   "outputs": [
    {
     "data": {
      "text/html": [
       "<div>\n",
       "<style scoped>\n",
       "    .dataframe tbody tr th:only-of-type {\n",
       "        vertical-align: middle;\n",
       "    }\n",
       "\n",
       "    .dataframe tbody tr th {\n",
       "        vertical-align: top;\n",
       "    }\n",
       "\n",
       "    .dataframe thead th {\n",
       "        text-align: right;\n",
       "    }\n",
       "</style>\n",
       "<table border=\"1\" class=\"dataframe\">\n",
       "  <thead>\n",
       "    <tr style=\"text-align: right;\">\n",
       "      <th></th>\n",
       "      <th>S#</th>\n",
       "      <th>Latitude</th>\n",
       "      <th>Killed Min</th>\n",
       "      <th>Killed Max</th>\n",
       "      <th>Injured Min</th>\n",
       "      <th>No. of Suicide Blasts</th>\n",
       "      <th>Temperature(C)</th>\n",
       "      <th>Temperature(F)</th>\n",
       "    </tr>\n",
       "  </thead>\n",
       "  <tbody>\n",
       "    <tr>\n",
       "      <th>count</th>\n",
       "      <td>496.000000</td>\n",
       "      <td>493.000000</td>\n",
       "      <td>350.000000</td>\n",
       "      <td>480.000000</td>\n",
       "      <td>365.000000</td>\n",
       "      <td>414.000000</td>\n",
       "      <td>491.000000</td>\n",
       "      <td>489.000000</td>\n",
       "    </tr>\n",
       "    <tr>\n",
       "      <th>mean</th>\n",
       "      <td>248.500000</td>\n",
       "      <td>32.614705</td>\n",
       "      <td>14.725714</td>\n",
       "      <td>15.206250</td>\n",
       "      <td>31.397260</td>\n",
       "      <td>1.115942</td>\n",
       "      <td>21.111599</td>\n",
       "      <td>69.972579</td>\n",
       "    </tr>\n",
       "    <tr>\n",
       "      <th>std</th>\n",
       "      <td>143.327132</td>\n",
       "      <td>2.475917</td>\n",
       "      <td>17.600930</td>\n",
       "      <td>20.270436</td>\n",
       "      <td>38.603842</td>\n",
       "      <td>0.394989</td>\n",
       "      <td>8.369068</td>\n",
       "      <td>15.069622</td>\n",
       "    </tr>\n",
       "    <tr>\n",
       "      <th>min</th>\n",
       "      <td>1.000000</td>\n",
       "      <td>24.879503</td>\n",
       "      <td>0.000000</td>\n",
       "      <td>0.000000</td>\n",
       "      <td>0.000000</td>\n",
       "      <td>1.000000</td>\n",
       "      <td>-2.370000</td>\n",
       "      <td>27.734000</td>\n",
       "    </tr>\n",
       "    <tr>\n",
       "      <th>25%</th>\n",
       "      <td>124.750000</td>\n",
       "      <td>31.823800</td>\n",
       "      <td>3.000000</td>\n",
       "      <td>3.000000</td>\n",
       "      <td>7.000000</td>\n",
       "      <td>1.000000</td>\n",
       "      <td>14.690000</td>\n",
       "      <td>58.370000</td>\n",
       "    </tr>\n",
       "    <tr>\n",
       "      <th>50%</th>\n",
       "      <td>248.500000</td>\n",
       "      <td>33.583300</td>\n",
       "      <td>8.000000</td>\n",
       "      <td>8.000000</td>\n",
       "      <td>20.000000</td>\n",
       "      <td>1.000000</td>\n",
       "      <td>21.405000</td>\n",
       "      <td>70.529000</td>\n",
       "    </tr>\n",
       "    <tr>\n",
       "      <th>75%</th>\n",
       "      <td>372.250000</td>\n",
       "      <td>34.004300</td>\n",
       "      <td>20.000000</td>\n",
       "      <td>18.250000</td>\n",
       "      <td>40.000000</td>\n",
       "      <td>1.000000</td>\n",
       "      <td>28.115000</td>\n",
       "      <td>82.499000</td>\n",
       "    </tr>\n",
       "    <tr>\n",
       "      <th>max</th>\n",
       "      <td>496.000000</td>\n",
       "      <td>35.383300</td>\n",
       "      <td>125.000000</td>\n",
       "      <td>148.000000</td>\n",
       "      <td>320.000000</td>\n",
       "      <td>4.000000</td>\n",
       "      <td>44.000000</td>\n",
       "      <td>111.000000</td>\n",
       "    </tr>\n",
       "  </tbody>\n",
       "</table>\n",
       "</div>"
      ],
      "text/plain": [
       "               S#    Latitude  Killed Min  Killed Max  Injured Min  \\\n",
       "count  496.000000  493.000000  350.000000  480.000000   365.000000   \n",
       "mean   248.500000   32.614705   14.725714   15.206250    31.397260   \n",
       "std    143.327132    2.475917   17.600930   20.270436    38.603842   \n",
       "min      1.000000   24.879503    0.000000    0.000000     0.000000   \n",
       "25%    124.750000   31.823800    3.000000    3.000000     7.000000   \n",
       "50%    248.500000   33.583300    8.000000    8.000000    20.000000   \n",
       "75%    372.250000   34.004300   20.000000   18.250000    40.000000   \n",
       "max    496.000000   35.383300  125.000000  148.000000   320.000000   \n",
       "\n",
       "       No. of Suicide Blasts  Temperature(C)  Temperature(F)  \n",
       "count             414.000000      491.000000      489.000000  \n",
       "mean                1.115942       21.111599       69.972579  \n",
       "std                 0.394989        8.369068       15.069622  \n",
       "min                 1.000000       -2.370000       27.734000  \n",
       "25%                 1.000000       14.690000       58.370000  \n",
       "50%                 1.000000       21.405000       70.529000  \n",
       "75%                 1.000000       28.115000       82.499000  \n",
       "max                 4.000000       44.000000      111.000000  "
      ]
     },
     "execution_count": 5407,
     "metadata": {},
     "output_type": "execute_result"
    }
   ],
   "source": [
    "data.describe()\n",
    "# count: Toplam veri sayısı (eksik veriler hariç)\n",
    "# mean: Ortalama değer\n",
    "# std: Standart sapma\n",
    "# min: En küçük değer\n",
    "# 25%: Birinci çeyrek (Q1)\n",
    "# 50%: Medyan (ikinci çeyrek, Q2)\n",
    "# 75%: Üçüncü çeyrek (Q3)\n",
    "# max: En büyük değer"
   ]
  },
  {
   "cell_type": "code",
   "execution_count": 5408,
   "metadata": {},
   "outputs": [
    {
     "data": {
      "text/html": [
       "<div>\n",
       "<style scoped>\n",
       "    .dataframe tbody tr th:only-of-type {\n",
       "        vertical-align: middle;\n",
       "    }\n",
       "\n",
       "    .dataframe tbody tr th {\n",
       "        vertical-align: top;\n",
       "    }\n",
       "\n",
       "    .dataframe thead th {\n",
       "        text-align: right;\n",
       "    }\n",
       "</style>\n",
       "<table border=\"1\" class=\"dataframe\">\n",
       "  <thead>\n",
       "    <tr style=\"text-align: right;\">\n",
       "      <th></th>\n",
       "      <th>Date</th>\n",
       "      <th>Islamic Date</th>\n",
       "      <th>Blast Day Type</th>\n",
       "      <th>Holiday Type</th>\n",
       "      <th>Time</th>\n",
       "      <th>City</th>\n",
       "      <th>Latitude</th>\n",
       "      <th>Longitude</th>\n",
       "      <th>Province</th>\n",
       "      <th>Location</th>\n",
       "      <th>...</th>\n",
       "      <th>Targeted Sect if any</th>\n",
       "      <th>Killed Min</th>\n",
       "      <th>Killed Max</th>\n",
       "      <th>Injured Min</th>\n",
       "      <th>Injured Max</th>\n",
       "      <th>No. of Suicide Blasts</th>\n",
       "      <th>Explosive Weight (max)</th>\n",
       "      <th>Hospital Names</th>\n",
       "      <th>Temperature(C)</th>\n",
       "      <th>Temperature(F)</th>\n",
       "    </tr>\n",
       "  </thead>\n",
       "  <tbody>\n",
       "    <tr>\n",
       "      <th>0</th>\n",
       "      <td>Sunday-November 19-1995</td>\n",
       "      <td>25 Jumaada al-THaany 1416 A.H</td>\n",
       "      <td>Holiday</td>\n",
       "      <td>Weekend</td>\n",
       "      <td>NaN</td>\n",
       "      <td>Islamabad</td>\n",
       "      <td>33.7180</td>\n",
       "      <td>73.0718</td>\n",
       "      <td>Capital</td>\n",
       "      <td>Egyptian Embassy</td>\n",
       "      <td>...</td>\n",
       "      <td>NaN</td>\n",
       "      <td>14.0</td>\n",
       "      <td>15.0</td>\n",
       "      <td>NaN</td>\n",
       "      <td>60</td>\n",
       "      <td>2.0</td>\n",
       "      <td>NaN</td>\n",
       "      <td>NaN</td>\n",
       "      <td>15.835</td>\n",
       "      <td>60.503</td>\n",
       "    </tr>\n",
       "    <tr>\n",
       "      <th>1</th>\n",
       "      <td>Monday-November 6-2000</td>\n",
       "      <td>10 SHa`baan 1421 A.H</td>\n",
       "      <td>Working Day</td>\n",
       "      <td>NaN</td>\n",
       "      <td>NaN</td>\n",
       "      <td>Karachi</td>\n",
       "      <td>24.9918</td>\n",
       "      <td>66.9911</td>\n",
       "      <td>Sindh</td>\n",
       "      <td>office of Nawa-e-Waqt</td>\n",
       "      <td>...</td>\n",
       "      <td>NaN</td>\n",
       "      <td>NaN</td>\n",
       "      <td>3.0</td>\n",
       "      <td>NaN</td>\n",
       "      <td>3</td>\n",
       "      <td>1.0</td>\n",
       "      <td>NaN</td>\n",
       "      <td>NaN</td>\n",
       "      <td>23.770</td>\n",
       "      <td>74.786</td>\n",
       "    </tr>\n",
       "  </tbody>\n",
       "</table>\n",
       "<p>2 rows × 25 columns</p>\n",
       "</div>"
      ],
      "text/plain": [
       "                      Date                   Islamic Date Blast Day Type  \\\n",
       "0  Sunday-November 19-1995  25 Jumaada al-THaany 1416 A.H        Holiday   \n",
       "1   Monday-November 6-2000           10 SHa`baan 1421 A.H    Working Day   \n",
       "\n",
       "  Holiday Type Time       City  Latitude Longitude Province  \\\n",
       "0      Weekend  NaN  Islamabad   33.7180   73.0718  Capital   \n",
       "1          NaN  NaN    Karachi   24.9918   66.9911    Sindh   \n",
       "\n",
       "                Location  ... Targeted Sect if any Killed Min Killed Max  \\\n",
       "0       Egyptian Embassy  ...                  NaN       14.0       15.0   \n",
       "1  office of Nawa-e-Waqt  ...                  NaN        NaN        3.0   \n",
       "\n",
       "  Injured Min Injured Max No. of Suicide Blasts  Explosive Weight (max)  \\\n",
       "0         NaN          60                   2.0                     NaN   \n",
       "1         NaN           3                   1.0                     NaN   \n",
       "\n",
       "   Hospital Names  Temperature(C) Temperature(F)  \n",
       "0             NaN          15.835         60.503  \n",
       "1             NaN          23.770         74.786  \n",
       "\n",
       "[2 rows x 25 columns]"
      ]
     },
     "execution_count": 5408,
     "metadata": {},
     "output_type": "execute_result"
    }
   ],
   "source": [
    "df = data.drop('S#', axis = 1, inplace = False)\n",
    "# index sutunu zaten var olduğu için  s# sütunun kaldırdık\n",
    "# axis = 1 : sutun değeri için\n",
    "# axis = 0 : satır değeri için\n",
    "# inplace = True : Orjinal veri üzerinde bu işlemi yapar\n",
    "# inplace = False : Değişiklikleri yeni bir değişkene atar\n",
    "\n",
    "df.head(2)"
   ]
  },
  {
   "cell_type": "code",
   "execution_count": 5409,
   "metadata": {},
   "outputs": [
    {
     "data": {
      "text/plain": [
       "(496, 25)"
      ]
     },
     "execution_count": 5409,
     "metadata": {},
     "output_type": "execute_result"
    }
   ],
   "source": [
    "df.shape # yeni dataFrame"
   ]
  },
  {
   "cell_type": "code",
   "execution_count": 5410,
   "metadata": {},
   "outputs": [
    {
     "data": {
      "text/plain": [
       "(496, 26)"
      ]
     },
     "execution_count": 5410,
     "metadata": {},
     "output_type": "execute_result"
    }
   ],
   "source": [
    "data.shape # eski dataFrame"
   ]
  },
  {
   "cell_type": "code",
   "execution_count": 5411,
   "metadata": {},
   "outputs": [
    {
     "name": "stdout",
     "output_type": "stream",
     "text": [
      "Number of Null Values in 'Blast Day Type' Column:  10\n",
      "\n",
      "Number of Null Values in 'City' Column:  0\n",
      "\n",
      "Number of Null Values in 'Province' Column:  0\n",
      "\n",
      "Number of Null Values in 'Location Category' Column:  35\n",
      "\n",
      "Number of Null Values in 'Location Senstivity' Column:  36\n",
      "\n",
      "Number of Null Values in 'Target Type' Column:  26\n",
      "\n",
      "Number of Null Values in 'Target Sect if any' Column:  399\n",
      "\n",
      "Number of Null Values in 'Killed Min' Column:  146\n",
      "\n",
      "Number of Null Values in 'Killed Max' Column:  16\n",
      "\n",
      "Number of Null Values in 'Explosive Weight (max)' Column:  324\n"
     ]
    }
   ],
   "source": [
    "#firstly lets check how many null values are in Blast Day type Column\n",
    "print(\"Number of Null Values in 'Blast Day Type' Column: \", df['Blast Day Type'].isnull().sum())\n",
    "\n",
    "#Null values in the City Column\n",
    "print(\"\\nNumber of Null Values in 'City' Column: \", df['City'].isnull().sum())\n",
    "\n",
    "#Null values in the Province Column\n",
    "print(\"\\nNumber of Null Values in 'Province' Column: \",df['Province'].isnull().sum())\n",
    "\n",
    "#Number of Null values in the Location Category Column\n",
    "print(\"\\nNumber of Null Values in 'Location Category' Column: \", df['Location Category'].isnull().sum())\n",
    "\n",
    "#Number of Null Values in the Location Senstivity Column\n",
    "print(\"\\nNumber of Null Values in 'Location Senstivity' Column: \", df['Location Sensitivity'].isnull().sum())\n",
    "\n",
    "#number of null values in target type\n",
    "print(\"\\nNumber of Null Values in 'Target Type' Column: \", df['Target Type'].isnull().sum())\n",
    "\n",
    "#number of null values in Target Sect if any \n",
    "print(\"\\nNumber of Null Values in 'Target Sect if any' Column: \", df['Targeted Sect if any'].isnull().sum())\n",
    "\n",
    "#number of null values in Killed Min\n",
    "print(\"\\nNumber of Null Values in 'Killed Min' Column: \", df['Killed Min'].isnull().sum())\n",
    "\n",
    "#number of null values in Killed Max\n",
    "print(\"\\nNumber of Null Values in 'Killed Max' Column: \", df['Killed Max'].isnull().sum())\n",
    "\n",
    "#number of null values in Explosive Weight (max)\n",
    "print(\"\\nNumber of Null Values in 'Explosive Weight (max)' Column: \", df['Explosive Weight (max)'].isnull().sum())"
   ]
  },
  {
   "cell_type": "code",
   "execution_count": 5412,
   "metadata": {},
   "outputs": [
    {
     "name": "stdout",
     "output_type": "stream",
     "text": [
      "Most Repeated Category is:  Working Day\n",
      "Number of Null Values in 'Blast Day' Column after Replacement:  10\n"
     ]
    }
   ],
   "source": [
    "#finding most repeated category\n",
    "most_repeated_in_Blast_Day_Type = df['Blast Day Type'].mode()\n",
    "\n",
    "#model will give us index and value of mode(most repeated category)\n",
    "print(\"Most Repeated Category is: \", most_repeated_in_Blast_Day_Type[0])\n",
    "\n",
    "#replacing nan with it\n",
    "df['Blast Day Type'] = df['Blast Day Type'].fillna(most_repeated_in_Blast_Day_Type)\n",
    "\n",
    "#Now number of Null values after replacing Null values \n",
    "print(\"Number of Null Values in 'Blast Day' Column after Replacement: \", df['Blast Day Type'].isnull().sum())"
   ]
  },
  {
   "cell_type": "code",
   "execution_count": 5413,
   "metadata": {},
   "outputs": [
    {
     "data": {
      "text/plain": [
       "Blast Day Type\n",
       "Working Day    403\n",
       "Holiday         78\n",
       "Weekend          5\n",
       "Name: count, dtype: int64"
      ]
     },
     "execution_count": 5413,
     "metadata": {},
     "output_type": "execute_result"
    }
   ],
   "source": [
    "df['Blast Day Type'].value_counts()"
   ]
  },
  {
   "cell_type": "code",
   "execution_count": 5414,
   "metadata": {},
   "outputs": [
    {
     "data": {
      "text/plain": [
       "Location Category\n",
       "Police                        92\n",
       "Mobile                        70\n",
       "Military                      70\n",
       "Religious                     57\n",
       "Market                        40\n",
       "Park/Ground                   32\n",
       "Residence                     25\n",
       "Government                    19\n",
       "Hotel                         10\n",
       "Office Building                9\n",
       "Foreign                        6\n",
       "Educational                    6\n",
       "Hospital                       5\n",
       "Transport                      5\n",
       "Bank                           4\n",
       "Commercial/residence           2\n",
       "Airport                        1\n",
       "Civilian                       1\n",
       "Foreigner                      1\n",
       "Government/Office Building     1\n",
       "Government Official            1\n",
       "foreign                        1\n",
       "Residential Building           1\n",
       "                               1\n",
       "Highway                        1\n",
       "Name: count, dtype: int64"
      ]
     },
     "execution_count": 5414,
     "metadata": {},
     "output_type": "execute_result"
    }
   ],
   "source": [
    "df['Location Category'].value_counts()"
   ]
  },
  {
   "cell_type": "code",
   "execution_count": 5415,
   "metadata": {},
   "outputs": [
    {
     "data": {
      "text/plain": [
       "0"
      ]
     },
     "execution_count": 5415,
     "metadata": {},
     "output_type": "execute_result"
    }
   ],
   "source": [
    "df['Location Category'] = df['Location Category'].fillna('Unknown')\n",
    "df['Location Category'].isna().sum()"
   ]
  },
  {
   "cell_type": "code",
   "execution_count": 5416,
   "metadata": {},
   "outputs": [
    {
     "data": {
      "text/plain": [
       "Location Sensitivity\n",
       "High      264\n",
       "Low       118\n",
       "Medium     75\n",
       "low         3\n",
       "Name: count, dtype: int64"
      ]
     },
     "execution_count": 5416,
     "metadata": {},
     "output_type": "execute_result"
    }
   ],
   "source": [
    "#Categories and Value Count of each category in the column\n",
    "df['Location Sensitivity'].value_counts()\n",
    "# hing : güvenlik seviyesi çok düşük\n",
    "# low : Güvenlik seviyesi çok yüksek"
   ]
  },
  {
   "cell_type": "code",
   "execution_count": 5417,
   "metadata": {},
   "outputs": [
    {
     "data": {
      "text/plain": [
       "36"
      ]
     },
     "execution_count": 5417,
     "metadata": {},
     "output_type": "execute_result"
    }
   ],
   "source": [
    "# df['Location Sensitivity'].isna().sum()\n",
    "df['Location Sensitivity'].isnull().sum()\n",
    "\n",
    "# iki method'da aynı işlevi görmektedir."
   ]
  },
  {
   "cell_type": "code",
   "execution_count": 5418,
   "metadata": {},
   "outputs": [
    {
     "name": "stdout",
     "output_type": "stream",
     "text": [
      "Number of Null values in the Location Senstivity Column after replacement:  0\n"
     ]
    }
   ],
   "source": [
    "most_repeated_Location_Senstitvity = df['Location Sensitivity'].mode()[0]\n",
    "#replacing null values\n",
    "df['Location Sensitivity'] = df['Location Sensitivity'].fillna(most_repeated_Location_Senstitvity)\n",
    "#after replacing\n",
    "print(\"Number of Null values in the Location Senstivity Column after replacement: \",df['Location Sensitivity'].isna().sum() )"
   ]
  },
  {
   "cell_type": "code",
   "execution_count": 5419,
   "metadata": {},
   "outputs": [
    {
     "data": {
      "text/plain": [
       "Location Sensitivity\n",
       "High      300\n",
       "Low       118\n",
       "Medium     75\n",
       "low         3\n",
       "Name: count, dtype: int64"
      ]
     },
     "execution_count": 5419,
     "metadata": {},
     "output_type": "execute_result"
    }
   ],
   "source": [
    "df['Location Sensitivity'].value_counts()"
   ]
  },
  {
   "cell_type": "code",
   "execution_count": 5420,
   "metadata": {},
   "outputs": [
    {
     "data": {
      "text/html": [
       "<div>\n",
       "<style scoped>\n",
       "    .dataframe tbody tr th:only-of-type {\n",
       "        vertical-align: middle;\n",
       "    }\n",
       "\n",
       "    .dataframe tbody tr th {\n",
       "        vertical-align: top;\n",
       "    }\n",
       "\n",
       "    .dataframe thead th {\n",
       "        text-align: right;\n",
       "    }\n",
       "</style>\n",
       "<table border=\"1\" class=\"dataframe\">\n",
       "  <thead>\n",
       "    <tr style=\"text-align: right;\">\n",
       "      <th></th>\n",
       "      <th>Date</th>\n",
       "      <th>Islamic Date</th>\n",
       "      <th>Blast Day Type</th>\n",
       "      <th>Holiday Type</th>\n",
       "      <th>Time</th>\n",
       "      <th>City</th>\n",
       "      <th>Latitude</th>\n",
       "      <th>Longitude</th>\n",
       "      <th>Province</th>\n",
       "      <th>Location</th>\n",
       "      <th>...</th>\n",
       "      <th>Targeted Sect if any</th>\n",
       "      <th>Killed Min</th>\n",
       "      <th>Killed Max</th>\n",
       "      <th>Injured Min</th>\n",
       "      <th>Injured Max</th>\n",
       "      <th>No. of Suicide Blasts</th>\n",
       "      <th>Explosive Weight (max)</th>\n",
       "      <th>Hospital Names</th>\n",
       "      <th>Temperature(C)</th>\n",
       "      <th>Temperature(F)</th>\n",
       "    </tr>\n",
       "  </thead>\n",
       "  <tbody>\n",
       "    <tr>\n",
       "      <th>237</th>\n",
       "      <td>Friday-January 8-2010</td>\n",
       "      <td>22 MuHarram 1431 A.H</td>\n",
       "      <td>Working Day</td>\n",
       "      <td>NaN</td>\n",
       "      <td>NaN</td>\n",
       "      <td>Khyber Agency</td>\n",
       "      <td>34.0211</td>\n",
       "      <td>71.2874</td>\n",
       "      <td>KPK</td>\n",
       "      <td>at the gate of the headquarters of the militan...</td>\n",
       "      <td>...</td>\n",
       "      <td>NaN</td>\n",
       "      <td>NaN</td>\n",
       "      <td>8.0</td>\n",
       "      <td>NaN</td>\n",
       "      <td>11</td>\n",
       "      <td>1.0</td>\n",
       "      <td>NaN</td>\n",
       "      <td>NaN</td>\n",
       "      <td>11.330</td>\n",
       "      <td>52.394</td>\n",
       "    </tr>\n",
       "    <tr>\n",
       "      <th>333</th>\n",
       "      <td>Wednesday-November 16-2011</td>\n",
       "      <td>NaN</td>\n",
       "      <td>Working Day</td>\n",
       "      <td>NaN</td>\n",
       "      <td>NaN</td>\n",
       "      <td>Karachi</td>\n",
       "      <td>24.9918</td>\n",
       "      <td>66.9911</td>\n",
       "      <td>Sindh</td>\n",
       "      <td>Sea view-clifton-at lover's point adjacent to ...</td>\n",
       "      <td>...</td>\n",
       "      <td>NaN</td>\n",
       "      <td>5.0</td>\n",
       "      <td>7.0</td>\n",
       "      <td>NaN</td>\n",
       "      <td>1</td>\n",
       "      <td>1.0</td>\n",
       "      <td>NaN</td>\n",
       "      <td>Jinnah Postgraduate Medical Center</td>\n",
       "      <td>25.305</td>\n",
       "      <td>77.549</td>\n",
       "    </tr>\n",
       "    <tr>\n",
       "      <th>334</th>\n",
       "      <td>Friday-November 18-2011</td>\n",
       "      <td>NaN</td>\n",
       "      <td>Working Day</td>\n",
       "      <td>NaN</td>\n",
       "      <td>3:38AM</td>\n",
       "      <td>Karachi</td>\n",
       "      <td>24.9918</td>\n",
       "      <td>66.9911</td>\n",
       "      <td>Sindh</td>\n",
       "      <td>Block 13-near Pehlwan Goth roundabout-Gulistan...</td>\n",
       "      <td>...</td>\n",
       "      <td>NaN</td>\n",
       "      <td>NaN</td>\n",
       "      <td>1.0</td>\n",
       "      <td>NaN</td>\n",
       "      <td>NaN</td>\n",
       "      <td>1.0</td>\n",
       "      <td>NaN</td>\n",
       "      <td>Jinnah Postgraduate Medical Center</td>\n",
       "      <td>27.245</td>\n",
       "      <td>81.041</td>\n",
       "    </tr>\n",
       "  </tbody>\n",
       "</table>\n",
       "<p>3 rows × 25 columns</p>\n",
       "</div>"
      ],
      "text/plain": [
       "                           Date          Islamic Date Blast Day Type  \\\n",
       "237       Friday-January 8-2010  22 MuHarram 1431 A.H    Working Day   \n",
       "333  Wednesday-November 16-2011                   NaN    Working Day   \n",
       "334     Friday-November 18-2011                   NaN    Working Day   \n",
       "\n",
       "    Holiday Type    Time            City  Latitude Longitude Province  \\\n",
       "237          NaN     NaN  Khyber Agency    34.0211   71.2874      KPK   \n",
       "333          NaN     NaN         Karachi   24.9918   66.9911    Sindh   \n",
       "334          NaN  3:38AM         Karachi   24.9918   66.9911    Sindh   \n",
       "\n",
       "                                              Location  ...  \\\n",
       "237  at the gate of the headquarters of the militan...  ...   \n",
       "333  Sea view-clifton-at lover's point adjacent to ...  ...   \n",
       "334  Block 13-near Pehlwan Goth roundabout-Gulistan...  ...   \n",
       "\n",
       "    Targeted Sect if any Killed Min Killed Max Injured Min Injured Max  \\\n",
       "237                  NaN        NaN        8.0         NaN          11   \n",
       "333                  NaN        5.0        7.0         NaN           1   \n",
       "334                  NaN        NaN        1.0         NaN         NaN   \n",
       "\n",
       "    No. of Suicide Blasts  Explosive Weight (max)  \\\n",
       "237                   1.0                     NaN   \n",
       "333                   1.0                     NaN   \n",
       "334                   1.0                     NaN   \n",
       "\n",
       "                         Hospital Names  Temperature(C) Temperature(F)  \n",
       "237                                 NaN          11.330         52.394  \n",
       "333  Jinnah Postgraduate Medical Center          25.305         77.549  \n",
       "334  Jinnah Postgraduate Medical Center          27.245         81.041  \n",
       "\n",
       "[3 rows x 25 columns]"
      ]
     },
     "execution_count": 5420,
     "metadata": {},
     "output_type": "execute_result"
    }
   ],
   "source": [
    "df[df['Location Sensitivity'] == 'low'] "
   ]
  },
  {
   "cell_type": "code",
   "execution_count": 5421,
   "metadata": {},
   "outputs": [
    {
     "data": {
      "text/plain": [
       "Location Sensitivity\n",
       "High      300\n",
       "Low       121\n",
       "Medium     75\n",
       "Name: count, dtype: int64"
      ]
     },
     "execution_count": 5421,
     "metadata": {},
     "output_type": "execute_result"
    }
   ],
   "source": [
    "#we will rename low with Low\n",
    "df['Location Sensitivity'] = df['Location Sensitivity'].replace({'low':'Low'})\n",
    "df['Location Sensitivity'].value_counts()"
   ]
  },
  {
   "cell_type": "code",
   "execution_count": 5422,
   "metadata": {},
   "outputs": [
    {
     "data": {
      "text/plain": [
       "26"
      ]
     },
     "execution_count": 5422,
     "metadata": {},
     "output_type": "execute_result"
    }
   ],
   "source": [
    "df['Target Type'].isna().sum()"
   ]
  },
  {
   "cell_type": "code",
   "execution_count": 5423,
   "metadata": {},
   "outputs": [
    {
     "data": {
      "text/plain": [
       "Target Type\n",
       "Military               116\n",
       "Police                 114\n",
       "Civilian                72\n",
       "Government Official     44\n",
       "Religious               36\n",
       "Anti-Militants          26\n",
       "Foreigner               14\n",
       "civilian                12\n",
       "Government official      8\n",
       "religious                7\n",
       "foreigner                3\n",
       "police                   3\n",
       "Media                    2\n",
       "Army                     2\n",
       "Shia sect                2\n",
       "Children/Women           1\n",
       "Unknown                  1\n",
       "Rangers                  1\n",
       "Police & Rangers         1\n",
       "Civilian & Police        1\n",
       "Frontier Corps           1\n",
       "advocates (lawyers)      1\n",
       "Civilian Judges          1\n",
       "Judges & lawyers         1\n",
       "Name: count, dtype: int64"
      ]
     },
     "execution_count": 5423,
     "metadata": {},
     "output_type": "execute_result"
    }
   ],
   "source": [
    "df['Target Type'].value_counts()"
   ]
  },
  {
   "cell_type": "code",
   "execution_count": 5424,
   "metadata": {},
   "outputs": [
    {
     "data": {
      "text/plain": [
       "['Military', 'Police', 'Civilian']"
      ]
     },
     "execution_count": 5424,
     "metadata": {},
     "output_type": "execute_result"
    }
   ],
   "source": [
    "# Find the top 3 most repeated categories\n",
    "top_categories = df['Target Type'].value_counts().head(3).index.tolist()\n",
    "top_categories"
   ]
  },
  {
   "cell_type": "code",
   "execution_count": 5425,
   "metadata": {},
   "outputs": [],
   "source": [
    "# Function to fill NaN with a random choice from the top 3 categories\n",
    "def fill_nan_with_random_category(Target_Type):\n",
    "    #if we face null value in Target_Type Col\n",
    "    if pd.isna(Target_Type):\n",
    "        #replace it randomly with any entery from top_categories\n",
    "        return np.random.choice(top_categories)\n",
    "    else:\n",
    "        return Target_Type"
   ]
  },
  {
   "cell_type": "code",
   "execution_count": 5426,
   "metadata": {},
   "outputs": [
    {
     "data": {
      "text/plain": [
       "Target Type\n",
       "Military               125\n",
       "Police                 122\n",
       "Civilian                81\n",
       "Government Official     44\n",
       "Religious               36\n",
       "Anti-Militants          26\n",
       "Foreigner               14\n",
       "civilian                12\n",
       "Government official      8\n",
       "religious                7\n",
       "foreigner                3\n",
       "police                   3\n",
       "Media                    2\n",
       "Army                     2\n",
       "Shia sect                2\n",
       "Children/Women           1\n",
       "Unknown                  1\n",
       "Rangers                  1\n",
       "Police & Rangers         1\n",
       "Civilian & Police        1\n",
       "Frontier Corps           1\n",
       "advocates (lawyers)      1\n",
       "Civilian Judges          1\n",
       "Judges & lawyers         1\n",
       "Name: count, dtype: int64"
      ]
     },
     "execution_count": 5426,
     "metadata": {},
     "output_type": "execute_result"
    }
   ],
   "source": [
    "# Apply the function to fill NaN values\n",
    "df['Target Type'] = df['Target Type'].apply(fill_nan_with_random_category)\n",
    "\n",
    "df['Target Type'].value_counts()"
   ]
  },
  {
   "cell_type": "code",
   "execution_count": 5427,
   "metadata": {},
   "outputs": [
    {
     "data": {
      "text/plain": [
       "0"
      ]
     },
     "execution_count": 5427,
     "metadata": {},
     "output_type": "execute_result"
    }
   ],
   "source": [
    "#checking null values now.\n",
    "df['Target Type'].isna().sum()"
   ]
  },
  {
   "cell_type": "code",
   "execution_count": 5428,
   "metadata": {},
   "outputs": [
    {
     "data": {
      "text/plain": [
       "16"
      ]
     },
     "execution_count": 5428,
     "metadata": {},
     "output_type": "execute_result"
    }
   ],
   "source": [
    "df['Killed Max'].isna().sum()"
   ]
  },
  {
   "cell_type": "code",
   "execution_count": 5429,
   "metadata": {},
   "outputs": [
    {
     "name": "stdout",
     "output_type": "stream",
     "text": [
      "Mean:  15.20625\n"
     ]
    }
   ],
   "source": [
    "mean_killed_max = df['Killed Max'].mean()\n",
    "print(\"Mean: \", mean_killed_max)"
   ]
  },
  {
   "cell_type": "code",
   "execution_count": 5430,
   "metadata": {},
   "outputs": [
    {
     "data": {
      "text/plain": [
       "0"
      ]
     },
     "execution_count": 5430,
     "metadata": {},
     "output_type": "execute_result"
    }
   ],
   "source": [
    "df['Killed Max'] = df['Killed Max'].fillna(mean_killed_max)\n",
    "\n",
    "#null values after filling\n",
    "df['Killed Max'].isna().sum()"
   ]
  },
  {
   "cell_type": "code",
   "execution_count": 5431,
   "metadata": {},
   "outputs": [
    {
     "data": {
      "text/plain": [
       "<Axes: >"
      ]
     },
     "execution_count": 5431,
     "metadata": {},
     "output_type": "execute_result"
    },
    {
     "data": {
      "image/png": "[encoded data removed]",
      "text/plain": [
       "<Figure size 640x480 with 1 Axes>"
      ]
     },
     "metadata": {},
     "output_type": "display_data"
    }
   ],
   "source": [
    "sns.heatmap(df.isnull(), cbar=False)\n"
   ]
  },
  {
   "cell_type": "code",
   "execution_count": 5432,
   "metadata": {},
   "outputs": [
    {
     "data": {
      "text/plain": [
       "Date                         0\n",
       "Islamic Date               154\n",
       "Blast Day Type              10\n",
       "Holiday Type               424\n",
       "Time                       211\n",
       "City                         0\n",
       "Latitude                     3\n",
       "Longitude                    3\n",
       "Province                     0\n",
       "Location                     3\n",
       "Location Category            0\n",
       "Location Sensitivity         0\n",
       "Open/Closed Space           35\n",
       "Influencing Event/Event    305\n",
       "Target Type                  0\n",
       "Targeted Sect if any       399\n",
       "Killed Min                 146\n",
       "Killed Max                   0\n",
       "Injured Min                131\n",
       "Injured Max                 32\n",
       "No. of Suicide Blasts       82\n",
       "Explosive Weight (max)     324\n",
       "Hospital Names             199\n",
       "Temperature(C)               5\n",
       "Temperature(F)               7\n",
       "dtype: int64"
      ]
     },
     "execution_count": 5432,
     "metadata": {},
     "output_type": "execute_result"
    }
   ],
   "source": [
    "df.isna().sum()"
   ]
  },
  {
   "cell_type": "code",
   "execution_count": 5433,
   "metadata": {},
   "outputs": [
    {
     "data": {
      "text/plain": [
       "array(['ATTOCK', 'Attock ', 'Bajaur Agency', 'Bannu', 'Bhakkar ', 'Buner',\n",
       "       'Chakwal ', 'Chaman', 'Charsadda', 'Charsadda ', 'D. I Khan',\n",
       "       'D.G Khan', 'D.G Khan ', 'D.I Khan', 'D.I Khan ', 'Dara Adam Khel',\n",
       "       'Dara Adam khel', 'Fateh Jang', 'Ghallanai, Mohmand Agency ',\n",
       "       'Gujrat', 'Hangu', 'Haripur', 'Hayatabad', 'Islamabad',\n",
       "       'Islamabad ', 'Jacobabad', 'KURRAM AGENCY', 'Karachi', 'Karachi ',\n",
       "       'Karak', 'Khanewal', 'Khuzdar', 'Khyber Agency', 'Khyber Agency ',\n",
       "       'Kohat', 'Kohat ', 'Kuram Agency ', 'Lahore', 'Lahore ',\n",
       "       'Lakki Marwat', 'Lakki marwat', 'Lasbela', 'Lower Dir', 'MULTAN',\n",
       "       'Malakand ', 'Mansehra', 'Mardan', 'Mohmand Agency',\n",
       "       'Mohmand Agency ', 'Mohmand agency', 'Mosal Kor, Mohmand Agency',\n",
       "       'Multan', 'Muzaffarabad', 'North Waziristan', 'North waziristan',\n",
       "       'Nowshehra', 'Orakzai Agency', 'Peshawar', 'Peshawar ', 'Pishin',\n",
       "       'Poonch', 'Quetta', 'Quetta ', 'Rawalpindi', 'Sargodha',\n",
       "       'Sehwan town', 'Shabqadar-Charsadda', 'Shangla ', 'Shikarpur',\n",
       "       'Sialkot', 'South Waziristan', 'South waziristan', 'Sudhanoti',\n",
       "       'Sukkur', 'Swabi ', 'Swat', 'Swat ', 'Taftan',\n",
       "       'Tangi, Charsadda District', 'Tank', 'Tank ', 'Taunsa',\n",
       "       'Tirah Valley', 'Totalai', 'Upper Dir', 'Wagah', 'Zhob', 'bannu',\n",
       "       'karachi', 'karachi ', 'lakki marwat', 'peshawar', 'swat'],\n",
       "      dtype=object)"
      ]
     },
     "execution_count": 5433,
     "metadata": {},
     "output_type": "execute_result"
    }
   ],
   "source": [
    "# get all the unique values in the 'City' column\n",
    "cities = df['City'].unique()\n",
    "\n",
    "# sort them alphabetically and then take a closer look\n",
    "cities.sort()\n",
    "cities"
   ]
  },
  {
   "cell_type": "code",
   "execution_count": 5434,
   "metadata": {},
   "outputs": [],
   "source": [
    "# convert to lower case\n",
    "df['City'] = df['City'].str.lower()\n",
    "# remove trailing white spaces\n",
    "df['City'] = df['City'].str.strip()"
   ]
  },
  {
   "cell_type": "code",
   "execution_count": 5435,
   "metadata": {},
   "outputs": [
    {
     "data": {
      "text/plain": [
       "array(['AJK', 'Balochistan', 'Baluchistan', 'Capital', 'FATA', 'Fata',\n",
       "       'KPK', 'Punjab', 'Sindh'], dtype=object)"
      ]
     },
     "execution_count": 5435,
     "metadata": {},
     "output_type": "execute_result"
    }
   ],
   "source": [
    "provinces = df['Province'].unique()\n",
    "\n",
    "provinces.sort()\n",
    "provinces"
   ]
  },
  {
   "cell_type": "code",
   "execution_count": 5436,
   "metadata": {},
   "outputs": [
    {
     "name": "stdout",
     "output_type": "stream",
     "text": [
      "['capital' 'sindh' 'baluchistan' 'punjab' 'fata' 'kpk' 'ajk' 'balochistan']\n"
     ]
    }
   ],
   "source": [
    "# convert to lower case\n",
    "df['Province'] = df['Province'].str.lower()\n",
    "# remove trailing white spaces\n",
    "df['Province'] = df['Province'].str.strip()\n",
    "print(df['Province'].unique())"
   ]
  },
  {
   "cell_type": "code",
   "execution_count": 5437,
   "metadata": {},
   "outputs": [
    {
     "data": {
      "text/plain": [
       "[('D. I Khan', 100),\n",
       " ('D.I Khan', 100),\n",
       " ('D.I Khan ', 100),\n",
       " ('D.G Khan', 88),\n",
       " ('D.G Khan ', 88),\n",
       " ('Khanewal', 50),\n",
       " ('Sudhanoti', 47),\n",
       " ('Hangu', 46),\n",
       " ('Kohat', 46),\n",
       " ('Kohat ', 46)]"
      ]
     },
     "execution_count": 5437,
     "metadata": {},
     "output_type": "execute_result"
    }
   ],
   "source": [
    "# get the top 10 closest matches to \"d.i khan\"\n",
    "matches = fuzzywuzzy.process.extract(\"d.i khan\", cities, limit=10, scorer=fuzzywuzzy.fuzz.token_sort_ratio)\n",
    "\n",
    "# take a look at them\n",
    "matches"
   ]
  },
  {
   "cell_type": "code",
   "execution_count": 5438,
   "metadata": {},
   "outputs": [],
   "source": [
    "# function to replace rows in the provided column of the provided dataframe\n",
    "# that match the provided string above the provided ratio with the provided string\n",
    "def replace_matches_in_column(df, column, string_to_match, min_ratio = 90):\n",
    "    # get a list of unique strings\n",
    "    strings = df[column].unique()\n",
    "    \n",
    "    # get the top 10 closest matches to our input string\n",
    "    matches = fuzzywuzzy.process.extract(string_to_match, strings, \n",
    "                                         limit=10, scorer=fuzzywuzzy.fuzz.token_sort_ratio)\n",
    "\n",
    "    # only get matches with a ratio > 90\n",
    "    close_matches = [matches[0] for matches in matches if matches[1] >= min_ratio]\n",
    "\n",
    "    # get the rows of all the close matches in our dataframe\n",
    "    rows_with_matches = df[column].isin(close_matches)\n",
    "\n",
    "    # replace all rows with close matches with the input matches \n",
    "    df.loc[rows_with_matches, column] = string_to_match\n",
    "    \n",
    "    # let us know the function's done\n",
    "    print(\"All done!\")"
   ]
  },
  {
   "cell_type": "code",
   "execution_count": 5439,
   "metadata": {},
   "outputs": [
    {
     "name": "stdout",
     "output_type": "stream",
     "text": [
      "All done!\n"
     ]
    }
   ],
   "source": [
    "# use the function we just wrote to replace close matches to \"d.i khan\" with \"d.i khan\"\n",
    "replace_matches_in_column(df=df, column='City', string_to_match=\"d.i khan\")"
   ]
  },
  {
   "cell_type": "code",
   "execution_count": 5440,
   "metadata": {},
   "outputs": [
    {
     "name": "stdout",
     "output_type": "stream",
     "text": [
      "All done!\n"
     ]
    }
   ],
   "source": [
    "replace_matches_in_column(df=df, column='City', string_to_match=\"kuram agency\")"
   ]
  },
  {
   "cell_type": "code",
   "execution_count": 5441,
   "metadata": {},
   "outputs": [
    {
     "name": "stdout",
     "output_type": "stream",
     "text": [
      "['capital' 'sindh' 'balochistan' 'punjab' 'fata' 'kpk' 'ajk']\n"
     ]
    }
   ],
   "source": [
    "# Belirli değerleri standart hale getirmek\n",
    "df['Province'] = df['Province'].replace({'baluchistan': 'balochistan'})\n",
    "\n",
    "print(df['Province'].unique())"
   ]
  },
  {
   "cell_type": "code",
   "execution_count": 5442,
   "metadata": {},
   "outputs": [
    {
     "data": {
      "text/plain": [
       "Blast Day Type\n",
       "Working Day    403\n",
       "Holiday         78\n",
       "Weekend          5\n",
       "Name: count, dtype: int64"
      ]
     },
     "execution_count": 5442,
     "metadata": {},
     "output_type": "execute_result"
    }
   ],
   "source": [
    "#finding the Category of Blast Day Type with max value\n",
    "df['Blast Day Type'].value_counts()"
   ]
  },
  {
   "cell_type": "code",
   "execution_count": 5443,
   "metadata": {},
   "outputs": [],
   "source": [
    "# The challenge here is to transform str to dates. I haven'ts seen other kagglers to do this time-consuming task. Not to worry. Let's solve it at once. \n",
    "# Let's simplify it for taking the next step\n",
    "\n",
    "df['Date'] = df['Date'].str.replace(r'\\b(Monday|Tuesday|Wednesday|Thursday|Friday|Saturday|Sunday)\\b', '', regex=True)\n",
    "df['Date'] = df['Date'].str.replace('-', ' ')"
   ]
  },
  {
   "cell_type": "code",
   "execution_count": 5444,
   "metadata": {},
   "outputs": [],
   "source": [
    "# Now let's crush it with mighty function\n",
    "parsed_dates = []\n",
    "for date_str in df['Date']:\n",
    "    try:\n",
    "        parsed_date = parser.parse(date_str)\n",
    "        parsed_dates.append(parsed_date)\n",
    "    except ValueError:\n",
    "        parsed_dates.append(None)  \n",
    "\n",
    "df['Date'] = parsed_dates"
   ]
  },
  {
   "cell_type": "code",
   "execution_count": 5445,
   "metadata": {},
   "outputs": [
    {
     "name": "stdout",
     "output_type": "stream",
     "text": [
      "date_length\n",
      "10    495\n",
      "3       1\n",
      "Name: count, dtype: int64\n"
     ]
    }
   ],
   "source": [
    "df['Date'] = df['Date'].astype(str)\n",
    "df['date_length'] = df['Date'].str.len()\n",
    "value_counts_by_length = df['date_length'].value_counts()\n",
    "print(value_counts_by_length)"
   ]
  },
  {
   "cell_type": "code",
   "execution_count": 5446,
   "metadata": {},
   "outputs": [],
   "source": [
    "df = df[df['date_length'] != 3]\n",
    "df.drop(columns=['date_length'], inplace=True)"
   ]
  },
  {
   "cell_type": "code",
   "execution_count": 5447,
   "metadata": {},
   "outputs": [
    {
     "name": "stdout",
     "output_type": "stream",
     "text": [
      "All dates are in the correct format and have the correct length 💅✅\n"
     ]
    }
   ],
   "source": [
    "if df['Date'].isnull().any():\n",
    "    print(\"There are some dates that couldn't be parsed correctly.\")\n",
    "else:\n",
    "    if (df['Date'].astype(str).str.len() != 10).any():\n",
    "        print(\"There are some dates with incorrect length.\")\n",
    "    else:\n",
    "        print(\"All dates are in the correct format and have the correct length 💅✅\")"
   ]
  },
  {
   "cell_type": "code",
   "execution_count": 5448,
   "metadata": {},
   "outputs": [],
   "source": [
    "df['Date'] = pd.to_datetime(df['Date'])\n",
    "df['Year'] = df['Date'].dt.year"
   ]
  },
  {
   "cell_type": "code",
   "execution_count": 5449,
   "metadata": {},
   "outputs": [],
   "source": [
    "columns_to_drop = ['Time', 'Explosive Weight (max)', 'Hospital Names', 'Temperature(C)', 'Temperature(F)', 'Influencing Event/Event', 'Targeted Sect if any']\n",
    "df = df.drop(columns=columns_to_drop)"
   ]
  },
  {
   "cell_type": "code",
   "execution_count": 5450,
   "metadata": {},
   "outputs": [
    {
     "data": {
      "text/html": [
       "<div>\n",
       "<style scoped>\n",
       "    .dataframe tbody tr th:only-of-type {\n",
       "        vertical-align: middle;\n",
       "    }\n",
       "\n",
       "    .dataframe tbody tr th {\n",
       "        vertical-align: top;\n",
       "    }\n",
       "\n",
       "    .dataframe thead th {\n",
       "        text-align: right;\n",
       "    }\n",
       "</style>\n",
       "<table border=\"1\" class=\"dataframe\">\n",
       "  <thead>\n",
       "    <tr style=\"text-align: right;\">\n",
       "      <th></th>\n",
       "      <th>Date</th>\n",
       "      <th>Islamic Date</th>\n",
       "      <th>Blast Day Type</th>\n",
       "      <th>Holiday Type</th>\n",
       "      <th>City</th>\n",
       "      <th>Latitude</th>\n",
       "      <th>Longitude</th>\n",
       "      <th>Province</th>\n",
       "      <th>Location</th>\n",
       "      <th>Location Category</th>\n",
       "      <th>Location Sensitivity</th>\n",
       "      <th>Open/Closed Space</th>\n",
       "      <th>Target Type</th>\n",
       "      <th>Killed Min</th>\n",
       "      <th>Killed Max</th>\n",
       "      <th>Injured Min</th>\n",
       "      <th>Injured Max</th>\n",
       "      <th>No. of Suicide Blasts</th>\n",
       "      <th>Year</th>\n",
       "    </tr>\n",
       "  </thead>\n",
       "  <tbody>\n",
       "    <tr>\n",
       "      <th>0</th>\n",
       "      <td>1995-11-19</td>\n",
       "      <td>25 Jumaada al-THaany 1416 A.H</td>\n",
       "      <td>Holiday</td>\n",
       "      <td>Weekend</td>\n",
       "      <td>islamabad</td>\n",
       "      <td>33.7180</td>\n",
       "      <td>73.0718</td>\n",
       "      <td>capital</td>\n",
       "      <td>Egyptian Embassy</td>\n",
       "      <td>Foreign</td>\n",
       "      <td>High</td>\n",
       "      <td>Closed</td>\n",
       "      <td>Foreigner</td>\n",
       "      <td>14.0</td>\n",
       "      <td>15.0</td>\n",
       "      <td>NaN</td>\n",
       "      <td>60</td>\n",
       "      <td>2.0</td>\n",
       "      <td>1995</td>\n",
       "    </tr>\n",
       "    <tr>\n",
       "      <th>1</th>\n",
       "      <td>2000-11-06</td>\n",
       "      <td>10 SHa`baan 1421 A.H</td>\n",
       "      <td>Working Day</td>\n",
       "      <td>NaN</td>\n",
       "      <td>karachi</td>\n",
       "      <td>24.9918</td>\n",
       "      <td>66.9911</td>\n",
       "      <td>sindh</td>\n",
       "      <td>office of Nawa-e-Waqt</td>\n",
       "      <td>Office Building</td>\n",
       "      <td>Low</td>\n",
       "      <td>Closed</td>\n",
       "      <td>Media</td>\n",
       "      <td>NaN</td>\n",
       "      <td>3.0</td>\n",
       "      <td>NaN</td>\n",
       "      <td>3</td>\n",
       "      <td>1.0</td>\n",
       "      <td>2000</td>\n",
       "    </tr>\n",
       "    <tr>\n",
       "      <th>2</th>\n",
       "      <td>2002-05-08</td>\n",
       "      <td>25 safar 1423 A.H</td>\n",
       "      <td>Working Day</td>\n",
       "      <td>NaN</td>\n",
       "      <td>karachi</td>\n",
       "      <td>24.9918</td>\n",
       "      <td>66.9911</td>\n",
       "      <td>sindh</td>\n",
       "      <td>Pakistan Navy bus Parked outside Five Star She...</td>\n",
       "      <td>Hotel</td>\n",
       "      <td>Medium</td>\n",
       "      <td>Closed</td>\n",
       "      <td>Foreigner</td>\n",
       "      <td>13.0</td>\n",
       "      <td>15.0</td>\n",
       "      <td>20.0</td>\n",
       "      <td>40</td>\n",
       "      <td>1.0</td>\n",
       "      <td>2002</td>\n",
       "    </tr>\n",
       "    <tr>\n",
       "      <th>3</th>\n",
       "      <td>2002-06-14</td>\n",
       "      <td>3 Raby` al-THaany 1423 A.H</td>\n",
       "      <td>Working Day</td>\n",
       "      <td>NaN</td>\n",
       "      <td>karachi</td>\n",
       "      <td>24.9918</td>\n",
       "      <td>66.9911</td>\n",
       "      <td>sindh</td>\n",
       "      <td>US Consulate Civil Lines Area</td>\n",
       "      <td>Foreign</td>\n",
       "      <td>High</td>\n",
       "      <td>Closed</td>\n",
       "      <td>Foreigner</td>\n",
       "      <td>NaN</td>\n",
       "      <td>12.0</td>\n",
       "      <td>NaN</td>\n",
       "      <td>51</td>\n",
       "      <td>1.0</td>\n",
       "      <td>2002</td>\n",
       "    </tr>\n",
       "    <tr>\n",
       "      <th>4</th>\n",
       "      <td>2003-07-04</td>\n",
       "      <td>4 Jumaada al-awal 1424 A.H</td>\n",
       "      <td>Working Day</td>\n",
       "      <td>NaN</td>\n",
       "      <td>quetta</td>\n",
       "      <td>30.2095</td>\n",
       "      <td>67.0182</td>\n",
       "      <td>balochistan</td>\n",
       "      <td>Imambargah MeCongy Road Quetta</td>\n",
       "      <td>Religious</td>\n",
       "      <td>Medium</td>\n",
       "      <td>Closed</td>\n",
       "      <td>Religious</td>\n",
       "      <td>44.0</td>\n",
       "      <td>47.0</td>\n",
       "      <td>NaN</td>\n",
       "      <td>65</td>\n",
       "      <td>1.0</td>\n",
       "      <td>2003</td>\n",
       "    </tr>\n",
       "  </tbody>\n",
       "</table>\n",
       "</div>"
      ],
      "text/plain": [
       "        Date                   Islamic Date Blast Day Type Holiday Type  \\\n",
       "0 1995-11-19  25 Jumaada al-THaany 1416 A.H        Holiday      Weekend   \n",
       "1 2000-11-06           10 SHa`baan 1421 A.H    Working Day          NaN   \n",
       "2 2002-05-08              25 safar 1423 A.H    Working Day          NaN   \n",
       "3 2002-06-14     3 Raby` al-THaany 1423 A.H    Working Day          NaN   \n",
       "4 2003-07-04     4 Jumaada al-awal 1424 A.H    Working Day          NaN   \n",
       "\n",
       "        City  Latitude Longitude     Province  \\\n",
       "0  islamabad   33.7180   73.0718      capital   \n",
       "1    karachi   24.9918   66.9911        sindh   \n",
       "2    karachi   24.9918   66.9911        sindh   \n",
       "3    karachi   24.9918   66.9911        sindh   \n",
       "4     quetta   30.2095   67.0182  balochistan   \n",
       "\n",
       "                                            Location Location Category  \\\n",
       "0                                   Egyptian Embassy           Foreign   \n",
       "1                              office of Nawa-e-Waqt   Office Building   \n",
       "2  Pakistan Navy bus Parked outside Five Star She...             Hotel   \n",
       "3                     US Consulate Civil Lines Area            Foreign   \n",
       "4                     Imambargah MeCongy Road Quetta         Religious   \n",
       "\n",
       "  Location Sensitivity Open/Closed Space Target Type  Killed Min  Killed Max  \\\n",
       "0                 High            Closed   Foreigner        14.0        15.0   \n",
       "1                  Low            Closed       Media         NaN         3.0   \n",
       "2               Medium            Closed   Foreigner        13.0        15.0   \n",
       "3                 High            Closed   Foreigner         NaN        12.0   \n",
       "4               Medium            Closed   Religious        44.0        47.0   \n",
       "\n",
       "   Injured Min Injured Max  No. of Suicide Blasts  Year  \n",
       "0          NaN          60                    2.0  1995  \n",
       "1          NaN           3                    1.0  2000  \n",
       "2         20.0          40                    1.0  2002  \n",
       "3          NaN          51                    1.0  2002  \n",
       "4          NaN          65                    1.0  2003  "
      ]
     },
     "execution_count": 5450,
     "metadata": {},
     "output_type": "execute_result"
    }
   ],
   "source": [
    "df.head()"
   ]
  },
  {
   "cell_type": "code",
   "execution_count": 5451,
   "metadata": {},
   "outputs": [
    {
     "name": "stdout",
     "output_type": "stream",
     "text": [
      "<class 'pandas.core.frame.DataFrame'>\n",
      "Index: 495 entries, 0 to 495\n",
      "Data columns (total 19 columns):\n",
      " #   Column                 Non-Null Count  Dtype         \n",
      "---  ------                 --------------  -----         \n",
      " 0   Date                   495 non-null    datetime64[ns]\n",
      " 1   Islamic Date           342 non-null    object        \n",
      " 2   Blast Day Type         485 non-null    object        \n",
      " 3   Holiday Type           72 non-null     object        \n",
      " 4   City                   495 non-null    object        \n",
      " 5   Latitude               492 non-null    float64       \n",
      " 6   Longitude              492 non-null    object        \n",
      " 7   Province               495 non-null    object        \n",
      " 8   Location               492 non-null    object        \n",
      " 9   Location Category      495 non-null    object        \n",
      " 10  Location Sensitivity   495 non-null    object        \n",
      " 11  Open/Closed Space      461 non-null    object        \n",
      " 12  Target Type            495 non-null    object        \n",
      " 13  Killed Min             349 non-null    float64       \n",
      " 14  Killed Max             495 non-null    float64       \n",
      " 15  Injured Min            365 non-null    float64       \n",
      " 16  Injured Max            463 non-null    object        \n",
      " 17  No. of Suicide Blasts  414 non-null    float64       \n",
      " 18  Year                   495 non-null    int32         \n",
      "dtypes: datetime64[ns](1), float64(5), int32(1), object(12)\n",
      "memory usage: 75.4+ KB\n"
     ]
    }
   ],
   "source": [
    "df.info()"
   ]
  },
  {
   "cell_type": "code",
   "execution_count": 5452,
   "metadata": {},
   "outputs": [],
   "source": [
    "df = df.drop('Holiday Type', axis = 1, inplace = False)"
   ]
  },
  {
   "cell_type": "code",
   "execution_count": 5453,
   "metadata": {},
   "outputs": [
    {
     "name": "stdout",
     "output_type": "stream",
     "text": [
      "['1416-6-26', '1421-8-10', '1423-2-25', '1423-4-3', '1424-5-4', '1424-11-2', '1425-1-8', '1425-3-18', '1425-4-12', '1425-4-15', '1425-6-11', '1425-6-13', '1425-8-17', '1425-8-26', '1426-2-9', '1426-3-19', '1426-4-19', '1426-4-22', '1427-1-10', '1427-2-2', '1427-3-14', '1427-5-6', '1427-5-30', '1427-7-12', '1427-10-17', '1427-10-26', '1427-11-12', '1428-1-3', '1428-1-7', '1428-1-8', '1428-1-10', '1428-1-15', '1428-1-15', '1428-1-18', '1428-1-29', '1428-3-10', '1428-4-11', '1428-4-28', '1428-5-11', '1428-6-19', '1428-6-27', '1428-6-27', '1428-6-29', '1428-7-1', '1428-7-1', '1428-7-3', '1428-7-3', '1428-7-5', '1428-7-5', '1428-7-5', '1428-7-6', '1428-7-13', '1428-7-20', '1428-7-21', '1428-8-4', '1428-8-6', '1428-8-6', '1428-8-7', '1428-8-11', '1428-8-13', '1428-8-19', '1428-8-19', '1428-8-22', '1428-8-22', '1428-8-29', '1428-9-1', '1428-9-10', '1428-9-19', '1428-10-6', '1428-10-13', '1428-10-18', '1428-10-20', '1428-10-28', '1428-11-14', '1428-11-14', '1428-11-24', '1428-11-29', '1428-11-30', '1428-12-3', '1428-12-5', '1428-12-7', '1428-12-11', '1428-12-13', '1428-12-17', '1428-12-28', '1429-1-1', '1429-1-6', '1429-1-8', '1429-1-23', '1429-1-26', '1429-1-27', '1429-2-2', '1429-2-4', '1429-2-9', '1429-2-9', '1429-2-18', '1429-2-22', '1429-2-23', '1429-2-24', '1429-2-26', '1429-3-3', '1429-3-3', '1429-3-9', '1429-3-12', '1429-4-25', '1429-5-1', '1429-5-4', '1429-5-13', '1429-5-28', '1429-7-3', '1429-7-10', '1429-8-12', '1429-8-18', '1429-8-20', '1429-8-22', '1429-8-28', '1429-9-6', '1429-9-16', '1429-9-20', '1429-9-20', '1429-9-22', '1429-9-24', '1429-10-3', '1429-10-6', '1429-10-9', '1429-10-9', '1429-10-10', '1429-10-16', '1429-10-26', '1429-10-29', '1429-11-2', '1429-11-4', '1429-11-6', '1429-11-8', '1429-11-8', '1429-11-13', '1429-11-14', '1429-11-19', '1429-11-22', '1429-11-30', '1429-12-3', '1429-12-5', '1429-12-7', '1429-12-11', '1429-12-30', '1430-1-7', '1430-1-7', '1430-1-26', '1430-2-10', '1430-2-10', '1430-2-11', '1430-2-14', '1430-2-25', '1430-2-26', '1430-2-28', '1430-3-5', '1430-3-14', '1430-3-19', '1430-3-26', '1430-3-29', '1430-3-30', '1430-4-3', '1430-4-8', '1430-4-8', '1430-4-9', '1430-4-19', '1430-4-22', '1430-5-10', '1430-5-16', '1430-5-26', '1430-6-3', '1430-6-4', '1430-6-4', '1430-6-12', '1430-6-13', '1430-6-16', '1430-6-18', '1430-6-19', '1430-6-19', '1430-6-29', '1430-7-3', '1430-7-7', '1430-7-8', '1430-7-9', '1430-7-15', '1430-8-6', '1430-8-22', '1430-8-24', '1430-8-25', '1430-8-27', '1430-8-30', '1430-9-1', '1430-9-2', '1430-9-6', '1430-9-9', '1430-9-22', '1430-9-23', '1430-9-28', '1430-9-29', '1430-10-2', '1430-10-7', '1430-10-7', '1430-10-9', '1430-10-16', '1430-10-20', '1430-10-23', '1430-10-26', '1430-10-26', '1430-10-27', '1430-11-1', '1430-11-4', '1430-11-5', '1430-11-14', '1430-11-14', '1430-11-20', '1430-11-21', '1430-11-22', '1430-11-25', '1430-11-25', '1430-11-26', '1430-11-28', '1430-12-2', '1430-12-14', '1430-12-15', '1430-12-17', '1430-12-20', '1430-12-20', '1430-12-21', '1430-12-28', '1430-12-30', '1431-1-1', '1431-1-5', '1431-1-7', '1431-1-7', '1431-1-11', '1431-1-15', '1431-1-20', '1431-1-22', '1431-1-22', '1431-2-1', '1431-2-8', '1431-2-14', '1431-2-26', '1431-2-27', '1431-3-4', '1431-3-6', '1431-3-8', '1431-3-13', '1431-3-19', '1431-3-22', '1431-3-26', '1431-3-27', '1431-4-13', '1431-4-13', '1431-4-20', '1431-4-20', '1431-5-2', '1431-5-3', '1431-5-4', '1431-5-5', '1431-5-14', '1431-5-17', '1431-5-18', '1431-6-14', '1431-7-19', '1431-7-27', '1431-7-30', '1431-8-6', '1431-8-14', '1431-8-23', '1431-9-13', '1431-9-22', '1431-9-24', '1431-9-24', '1431-9-27', '1431-9-30', '1431-10-28', '1431-11-10', '1431-11-24', '1431-11-28', '1431-12-5', '1431-12-5', '1431-12-8', '1431-12-24', '1431-12-30', '1432-1-1', '1432-1-2', '1432-1-4', '1432-1-17', '1432-1-18', '1432-1-19', '1432-1-21', '1432-2-8', '1432-2-21', '1432-2-23', '1432-2-27', '1432-3-7', '1432-3-8', '1432-3-9', '1432-3-16', '1432-3-26', '1432-3-28', '1432-4-4', '1432-4-19', '1432-4-25', '1432-4-26', '1432-4-27', '1432-4-29', '1432-4-30', '1432-5-3', '1432-5-19', '1432-6-10', '1432-6-11', '1432-6-22', '1432-6-23', '1432-6-25', '1432-7-3', '1432-7-10', '1432-7-11', '1432-7-23', '1432-8-10', '1432-8-20', '1432-8-23', '1432-9-6', '1432-9-11', '1432-9-19', '1432-10-2', '1432-10-3', '1432-10-9', '1432-10-17', '1432-10-21', '1432-12-1', '1432-12-11', '1432-12-20', '1432-12-22', '1433-1-29', '1433-2-9', '1433-2-9', '1433-2-9', '1433-2-20', '1433-3-7', '1433-3-25', '1433-3-24', '1433-4-2', '1433-4-10', '1433-4-11', '1433-4-18', '1433-4-22', '1433-4-30', '1433-5-13', '1433-6-13', '1433-7-22', '1433-8-8', '1433-8-26', '1433-10-16', '1433-10-23', '1433-11-27', '1433-12-19', '1433-12-22', '1433-12-23', '1434-1-5', '1434-1-7', '1434-1-7', '1434-1-11', '1434-1-15', '1434-1-20', '1434-1-21', '1434-2-9', '1434-2-28', '1434-3-20', '1434-4-4', '1434-4-4', '1434-4-6', '1434-4-8', '1434-5-6', '1434-5-11', '1434-5-17', '1434-6-6', '1434-6-6', '1434-6-10', '1434-6-13', '1434-6-19', '1434-6-21', '1434-6-27', '1434-6-28', '1434-7-1', '1434-7-2', '1434-7-14', '1434-7-24', '1434-8-6', '1434-8-6', '1434-8-9', '1434-8-12', '1434-8-21', '1434-8-29', '1434-9-17', '1434-9-18', '1434-10-1', '1434-11-16', '1434-11-26', '1434-11-27', '1434-12-6', '1434-12-11', '1435-1-13', '1435-1-16', '1435-1-19', '1435-2-14', '1435-2-15', '1435-2-17', '1435-2-29', '1435-3-5', '1435-3-8', '1435-3-19', '1435-3-22', '1435-3-28', '1435-4-4', '1435-4-7', '1435-4-10', '1435-4-13', '1435-4-24', '1435-5-2', '1435-5-13', '1435-6-24', '1435-7-12', '1435-8-6', '1435-8-10', '1435-8-11', '1435-8-21', '1435-8-26', '1435-11-29', '1435-12-10', '1435-12-21', '1435-12-29', '1436-1-9', '1436-2-24', '1436-3-6', '1436-4-10', '1436-4-24', '1436-4-28', '1436-4-29', '1436-5-24', '1436-5-29', '1436-7-17', '1436-8-8', '1436-8-8', '1436-8-11', '1436-8-19', '1436-8-21', '1436-8-24', '1436-9-12', '1436-10-1', '1436-11-1', '1436-11-17', '1436-12-7', '1437-1-1', '1437-1-9', '1437-1-10', '1437-3-18', '1437-4-3', '1437-4-9', '1437-4-19', '1437-4-27', '1437-5-27', '1437-6-18', '1437-7-9', '1437-7-12', '1437-8-23', '1437-11-5', '1437-12-1', '1437-12-12', '1437-12-15', '1438-1-24', '1438-2-12', '1438-2-26', '1438-5-10', '1438-5-16', '1438-5-18', '1438-5-18', '1438-5-18', '1438-5-19', '1438-5-24', '1438-7-8', '1438-8-16', '1438-8-24', '1438-9-28', '1438-10-16', '1438-10-23', '1438-10-23', '1438-11-1', '1438-11-20', '1439-1-15', '1439-1-29', '1439-2-20', '1439-3-6', '1439-3-7']\n"
     ]
    }
   ],
   "source": [
    "# Miladi tarihleri datetime64 tipine dönüştür\n",
    "miladiDate = pd.to_datetime(df['Date'], errors='coerce')\n",
    "\n",
    "# Miladi tarihlerini Hicri tarihlerine çevir\n",
    "hicriDates = [convert.Gregorian(date.year, date.month, date.day).to_hijri() for date in miladiDate if not pd.isnull(date)]\n",
    "\n",
    "# Hicri tarihlerini string formatına dönüştür\n",
    "hicriDates_strings = [f\"{hicri_date.year}-{hicri_date.month}-{hicri_date.day}\" for hicri_date in hicriDates]\n",
    "\n",
    "print(hicriDates_strings)"
   ]
  },
  {
   "cell_type": "code",
   "execution_count": 5454,
   "metadata": {},
   "outputs": [],
   "source": [
    "# Eksik değerleri içeren satırları düşürerek DataFrame'i güncelleyin\n",
    "df.dropna(subset=['Date'], inplace=True)\n",
    "\n",
    "# 'Islamic Date' sütununu DataFrame'e ekleyin\n",
    "df['Islamic Date'] = hicriDates_strings"
   ]
  },
  {
   "cell_type": "code",
   "execution_count": 5455,
   "metadata": {},
   "outputs": [],
   "source": [
    "# En çok tekrar eden değeri bulma\n",
    "most_common_value = df['Blast Day Type'].mode()[0]\n",
    "\n",
    "# Boş sütunlara atama\n",
    "df['Blast Day Type'].fillna(most_common_value, inplace=True)"
   ]
  },
  {
   "cell_type": "code",
   "execution_count": 5456,
   "metadata": {},
   "outputs": [],
   "source": [
    "df.dropna(subset=['Latitude'], inplace=True)\n",
    "df.dropna(subset=['Longitude'], inplace=True)\n",
    "df.dropna(subset=['Location'], inplace=True)"
   ]
  },
  {
   "cell_type": "code",
   "execution_count": 5457,
   "metadata": {},
   "outputs": [],
   "source": [
    "df['Open/Closed Space'] = df['Open/Closed Space'].replace({'open':'Open'})\n",
    "df['Open/Closed Space'] = df['Open/Closed Space'].replace({'Open ':'Open'})\n",
    "df['Open/Closed Space'] = df['Open/Closed Space'].replace({'closed':'Closed'})\n",
    "df['Open/Closed Space'] = df['Open/Closed Space'].replace({'Open/Closed':'Open'})"
   ]
  },
  {
   "cell_type": "code",
   "execution_count": 5458,
   "metadata": {},
   "outputs": [
    {
     "data": {
      "text/plain": [
       "0"
      ]
     },
     "execution_count": 5458,
     "metadata": {},
     "output_type": "execute_result"
    }
   ],
   "source": [
    "df['Open/Closed Space'].fillna('Open', inplace=True)\n",
    "\n",
    "df['Open/Closed Space'].isna().sum()"
   ]
  },
  {
   "cell_type": "code",
   "execution_count": 5459,
   "metadata": {},
   "outputs": [
    {
     "data": {
      "text/plain": [
       "array(['Closed', 'Open'], dtype=object)"
      ]
     },
     "execution_count": 5459,
     "metadata": {},
     "output_type": "execute_result"
    }
   ],
   "source": [
    "df['Open/Closed Space'].unique()"
   ]
  },
  {
   "cell_type": "code",
   "execution_count": 5460,
   "metadata": {},
   "outputs": [
    {
     "data": {
      "text/plain": [
       "Open/Closed Space\n",
       "Open      362\n",
       "Closed    127\n",
       "Name: count, dtype: int64"
      ]
     },
     "execution_count": 5460,
     "metadata": {},
     "output_type": "execute_result"
    }
   ],
   "source": [
    "df['Open/Closed Space'].value_counts()"
   ]
  },
  {
   "cell_type": "code",
   "execution_count": 5461,
   "metadata": {},
   "outputs": [],
   "source": [
    "df['Killed Min'] = df['Killed Min'].fillna(df['Killed Min'].mean())"
   ]
  },
  {
   "cell_type": "code",
   "execution_count": 5462,
   "metadata": {},
   "outputs": [],
   "source": [
    "df['Injured Min'] = df['Injured Min'].fillna(df['Injured Min'].mean())"
   ]
  },
  {
   "cell_type": "code",
   "execution_count": 5463,
   "metadata": {},
   "outputs": [],
   "source": [
    "df['Injured Max'] = pd.to_numeric(df['Injured Max'], errors='coerce')"
   ]
  },
  {
   "cell_type": "code",
   "execution_count": 5464,
   "metadata": {},
   "outputs": [],
   "source": [
    "df['Injured Max'] = df['Injured Max'].fillna(df['Injured Max'].mean())"
   ]
  },
  {
   "cell_type": "code",
   "execution_count": 5465,
   "metadata": {},
   "outputs": [],
   "source": [
    "df['No. of Suicide Blasts'] = df['No. of Suicide Blasts'].fillna(df['No. of Suicide Blasts'].mean())"
   ]
  },
  {
   "cell_type": "code",
   "execution_count": 5466,
   "metadata": {},
   "outputs": [],
   "source": [
    "# Yıl, ay ve gün sütunlarını oluştur\n",
    "df['Month'] = df['Date'].dt.month\n",
    "df['Day'] = df['Date'].dt.day"
   ]
  },
  {
   "cell_type": "code",
   "execution_count": 5467,
   "metadata": {},
   "outputs": [],
   "source": [
    "df[['Islamic Year', 'Islamic Month', 'Islamic Day']] = df['Islamic Date'].str.split('-', expand=True)"
   ]
  },
  {
   "cell_type": "code",
   "execution_count": 5468,
   "metadata": {},
   "outputs": [],
   "source": [
    "df['Location Category'] = df['Location Category'].replace({'foreign':'Foreign'})"
   ]
  },
  {
   "cell_type": "code",
   "execution_count": 5469,
   "metadata": {},
   "outputs": [],
   "source": [
    "df['Target Type'] = df['Target Type'].replace({'police':'Police'})\n",
    "df['Target Type'] = df['Target Type'].replace({'Unknown':'Police'})\n",
    "df['Target Type'] = df['Target Type'].replace({'foreigner':'Foreigner'})\n",
    "df['Target Type'] = df['Target Type'].replace({'religious':'Religious'})\n",
    "df['Target Type'] = df['Target Type'].replace({'civilian':'Civilian'})\n",
    "df['Target Type'] = df['Target Type'].replace({'Government official':'Government Official'})\n",
    "df['Target Type'] = df['Target Type'].replace({'Police & Rangers':'Police'})\n",
    "df['Target Type'] = df['Target Type'].replace({'Rangers':'Police'})\n",
    "df['Target Type'] = df['Target Type'].replace({'Civilian Judges':'Civilian'})\n",
    "df['Target Type'] = df['Target Type'].replace({'Civilian & Police':'Civilian'})\n",
    "df['Target Type'] = df['Target Type'].replace({'Children/Women':'Civilian'})\n",
    "df['Target Type'] = df['Target Type'].replace({'Judges & lawyers':'Civilian'})\n",
    "df['Target Type'] = df['Target Type'].replace({'advocates (lawyers)':'Civilian'})\n",
    "df['Target Type'] = df['Target Type'].replace({'Frontier Corps ':'Military'})\n",
    "df['Target Type'] = df['Target Type'].replace({'Army':'Military'})"
   ]
  },
  {
   "cell_type": "code",
   "execution_count": 5470,
   "metadata": {},
   "outputs": [],
   "source": [
    "df[\"Blast Day Type\"] = df[\"Blast Day Type\"].astype('category')\n",
    "df[\"City\"] = df[\"City\"].astype('category')\n",
    "df[\"Longitude\"] = df[\"Longitude\"].astype(float)\n",
    "df[\"Province\"] = df[\"Province\"].astype('category')\n",
    "df[\"Location\"] = df[\"Location\"].astype(str)\n",
    "df[\"Location Category\"] = df[\"Location Category\"].astype('category')\n",
    "df[\"Location Sensitivity\"] = df[\"Location Sensitivity\"].astype('category')\n",
    "df[\"Open/Closed Space\"] = df[\"Open/Closed Space\"].astype('category')\n",
    "df[\"Target Type\"] = df[\"Target Type\"].astype('category')\n",
    "df[\"Islamic Year\"] = df[\"Islamic Year\"].astype(int)\n",
    "df[\"Islamic Month\"] = df[\"Islamic Month\"].astype(int)\n",
    "df[\"Islamic Day\"] = df[\"Islamic Day\"].astype(int)"
   ]
  },
  {
   "cell_type": "code",
   "execution_count": 5471,
   "metadata": {},
   "outputs": [],
   "source": [
    "label_encoder = LabelEncoder()\n",
    "df[\"Blast Day Type Num\"] = label_encoder.fit_transform(df[\"Blast Day Type\"])\n",
    "df[\"City Num\"] = label_encoder.fit_transform(df[\"City\"])\n",
    "df[\"Province Num\"] = label_encoder.fit_transform(df[\"Province\"])\n",
    "df[\"Location Category Num\"] = label_encoder.fit_transform(df[\"Location Category\"])\n",
    "df[\"Location Sensitivity Num\"] = label_encoder.fit_transform(df[\"Location Sensitivity\"])\n",
    "df[\"Open/Closed Space Num\"] = label_encoder.fit_transform(df[\"Open/Closed Space\"])\n",
    "df[\"Target Type Num\"] = label_encoder.fit_transform(df[\"Target Type\"])"
   ]
  },
  {
   "cell_type": "code",
   "execution_count": 5472,
   "metadata": {},
   "outputs": [],
   "source": [
    "df = df.drop(columns={'Islamic Date', 'Date', 'City', 'Province', 'Blast Day Type', 'Location Category', 'Location Sensitivity', 'Open/Closed Space', 'Target Type', 'Location'})"
   ]
  },
  {
   "cell_type": "code",
   "execution_count": 5473,
   "metadata": {},
   "outputs": [
    {
     "data": {
      "text/plain": [
       "<Axes: >"
      ]
     },
     "execution_count": 5473,
     "metadata": {},
     "output_type": "execute_result"
    },
    {
     "data": {
      "image/png": "[encoded data removed]",
      "text/plain": [
       "<Figure size 640x480 with 1 Axes>"
      ]
     },
     "metadata": {},
     "output_type": "display_data"
    }
   ],
   "source": [
    "sns.heatmap(df.isnull(), cbar=False)"
   ]
  },
  {
   "cell_type": "code",
   "execution_count": 5474,
   "metadata": {},
   "outputs": [
    {
     "data": {
      "text/html": [
       "<div>\n",
       "<style scoped>\n",
       "    .dataframe tbody tr th:only-of-type {\n",
       "        vertical-align: middle;\n",
       "    }\n",
       "\n",
       "    .dataframe tbody tr th {\n",
       "        vertical-align: top;\n",
       "    }\n",
       "\n",
       "    .dataframe thead th {\n",
       "        text-align: right;\n",
       "    }\n",
       "</style>\n",
       "<table border=\"1\" class=\"dataframe\">\n",
       "  <thead>\n",
       "    <tr style=\"text-align: right;\">\n",
       "      <th></th>\n",
       "      <th>Latitude</th>\n",
       "      <th>Longitude</th>\n",
       "      <th>Killed Min</th>\n",
       "      <th>Killed Max</th>\n",
       "      <th>Injured Min</th>\n",
       "      <th>Injured Max</th>\n",
       "      <th>No. of Suicide Blasts</th>\n",
       "      <th>Year</th>\n",
       "      <th>Month</th>\n",
       "      <th>Day</th>\n",
       "      <th>Islamic Year</th>\n",
       "      <th>Islamic Month</th>\n",
       "      <th>Islamic Day</th>\n",
       "      <th>Blast Day Type Num</th>\n",
       "      <th>City Num</th>\n",
       "      <th>Province Num</th>\n",
       "      <th>Location Category Num</th>\n",
       "      <th>Location Sensitivity Num</th>\n",
       "      <th>Open/Closed Space Num</th>\n",
       "      <th>Target Type Num</th>\n",
       "    </tr>\n",
       "  </thead>\n",
       "  <tbody>\n",
       "    <tr>\n",
       "      <th>0</th>\n",
       "      <td>33.718000</td>\n",
       "      <td>73.071800</td>\n",
       "      <td>14.000000</td>\n",
       "      <td>15.0</td>\n",
       "      <td>31.578947</td>\n",
       "      <td>60.000000</td>\n",
       "      <td>2.0</td>\n",
       "      <td>1995</td>\n",
       "      <td>11</td>\n",
       "      <td>19</td>\n",
       "      <td>1416</td>\n",
       "      <td>6</td>\n",
       "      <td>26</td>\n",
       "      <td>0</td>\n",
       "      <td>17</td>\n",
       "      <td>2</td>\n",
       "      <td>6</td>\n",
       "      <td>0</td>\n",
       "      <td>0</td>\n",
       "      <td>2</td>\n",
       "    </tr>\n",
       "    <tr>\n",
       "      <th>1</th>\n",
       "      <td>24.991800</td>\n",
       "      <td>66.991100</td>\n",
       "      <td>14.970845</td>\n",
       "      <td>3.0</td>\n",
       "      <td>31.578947</td>\n",
       "      <td>3.000000</td>\n",
       "      <td>1.0</td>\n",
       "      <td>2000</td>\n",
       "      <td>11</td>\n",
       "      <td>6</td>\n",
       "      <td>1421</td>\n",
       "      <td>8</td>\n",
       "      <td>10</td>\n",
       "      <td>2</td>\n",
       "      <td>19</td>\n",
       "      <td>6</td>\n",
       "      <td>16</td>\n",
       "      <td>1</td>\n",
       "      <td>0</td>\n",
       "      <td>4</td>\n",
       "    </tr>\n",
       "    <tr>\n",
       "      <th>2</th>\n",
       "      <td>24.991800</td>\n",
       "      <td>66.991100</td>\n",
       "      <td>13.000000</td>\n",
       "      <td>15.0</td>\n",
       "      <td>20.000000</td>\n",
       "      <td>40.000000</td>\n",
       "      <td>1.0</td>\n",
       "      <td>2002</td>\n",
       "      <td>5</td>\n",
       "      <td>8</td>\n",
       "      <td>1423</td>\n",
       "      <td>2</td>\n",
       "      <td>25</td>\n",
       "      <td>2</td>\n",
       "      <td>19</td>\n",
       "      <td>6</td>\n",
       "      <td>12</td>\n",
       "      <td>2</td>\n",
       "      <td>0</td>\n",
       "      <td>2</td>\n",
       "    </tr>\n",
       "    <tr>\n",
       "      <th>3</th>\n",
       "      <td>24.991800</td>\n",
       "      <td>66.991100</td>\n",
       "      <td>14.970845</td>\n",
       "      <td>12.0</td>\n",
       "      <td>31.578947</td>\n",
       "      <td>51.000000</td>\n",
       "      <td>1.0</td>\n",
       "      <td>2002</td>\n",
       "      <td>6</td>\n",
       "      <td>14</td>\n",
       "      <td>1423</td>\n",
       "      <td>4</td>\n",
       "      <td>3</td>\n",
       "      <td>2</td>\n",
       "      <td>19</td>\n",
       "      <td>6</td>\n",
       "      <td>6</td>\n",
       "      <td>0</td>\n",
       "      <td>0</td>\n",
       "      <td>2</td>\n",
       "    </tr>\n",
       "    <tr>\n",
       "      <th>4</th>\n",
       "      <td>30.209500</td>\n",
       "      <td>67.018200</td>\n",
       "      <td>44.000000</td>\n",
       "      <td>47.0</td>\n",
       "      <td>31.578947</td>\n",
       "      <td>65.000000</td>\n",
       "      <td>1.0</td>\n",
       "      <td>2003</td>\n",
       "      <td>7</td>\n",
       "      <td>4</td>\n",
       "      <td>1424</td>\n",
       "      <td>5</td>\n",
       "      <td>4</td>\n",
       "      <td>2</td>\n",
       "      <td>42</td>\n",
       "      <td>1</td>\n",
       "      <td>19</td>\n",
       "      <td>2</td>\n",
       "      <td>0</td>\n",
       "      <td>7</td>\n",
       "    </tr>\n",
       "    <tr>\n",
       "      <th>...</th>\n",
       "      <td>...</td>\n",
       "      <td>...</td>\n",
       "      <td>...</td>\n",
       "      <td>...</td>\n",
       "      <td>...</td>\n",
       "      <td>...</td>\n",
       "      <td>...</td>\n",
       "      <td>...</td>\n",
       "      <td>...</td>\n",
       "      <td>...</td>\n",
       "      <td>...</td>\n",
       "      <td>...</td>\n",
       "      <td>...</td>\n",
       "      <td>...</td>\n",
       "      <td>...</td>\n",
       "      <td>...</td>\n",
       "      <td>...</td>\n",
       "      <td>...</td>\n",
       "      <td>...</td>\n",
       "      <td>...</td>\n",
       "    </tr>\n",
       "    <tr>\n",
       "      <th>490</th>\n",
       "      <td>30.203658</td>\n",
       "      <td>67.004469</td>\n",
       "      <td>15.000000</td>\n",
       "      <td>15.0</td>\n",
       "      <td>40.000000</td>\n",
       "      <td>40.000000</td>\n",
       "      <td>1.0</td>\n",
       "      <td>2017</td>\n",
       "      <td>8</td>\n",
       "      <td>12</td>\n",
       "      <td>1438</td>\n",
       "      <td>11</td>\n",
       "      <td>20</td>\n",
       "      <td>1</td>\n",
       "      <td>42</td>\n",
       "      <td>1</td>\n",
       "      <td>23</td>\n",
       "      <td>2</td>\n",
       "      <td>1</td>\n",
       "      <td>5</td>\n",
       "    </tr>\n",
       "    <tr>\n",
       "      <th>491</th>\n",
       "      <td>28.571051</td>\n",
       "      <td>67.496895</td>\n",
       "      <td>21.000000</td>\n",
       "      <td>22.0</td>\n",
       "      <td>25.000000</td>\n",
       "      <td>39.721491</td>\n",
       "      <td>1.0</td>\n",
       "      <td>2017</td>\n",
       "      <td>10</td>\n",
       "      <td>5</td>\n",
       "      <td>1439</td>\n",
       "      <td>1</td>\n",
       "      <td>15</td>\n",
       "      <td>2</td>\n",
       "      <td>42</td>\n",
       "      <td>1</td>\n",
       "      <td>19</td>\n",
       "      <td>0</td>\n",
       "      <td>1</td>\n",
       "      <td>1</td>\n",
       "    </tr>\n",
       "    <tr>\n",
       "      <th>493</th>\n",
       "      <td>30.221057</td>\n",
       "      <td>67.002524</td>\n",
       "      <td>2.000000</td>\n",
       "      <td>2.0</td>\n",
       "      <td>8.000000</td>\n",
       "      <td>8.000000</td>\n",
       "      <td>1.0</td>\n",
       "      <td>2017</td>\n",
       "      <td>11</td>\n",
       "      <td>9</td>\n",
       "      <td>1439</td>\n",
       "      <td>2</td>\n",
       "      <td>20</td>\n",
       "      <td>2</td>\n",
       "      <td>42</td>\n",
       "      <td>1</td>\n",
       "      <td>18</td>\n",
       "      <td>1</td>\n",
       "      <td>1</td>\n",
       "      <td>6</td>\n",
       "    </tr>\n",
       "    <tr>\n",
       "      <th>494</th>\n",
       "      <td>33.970623</td>\n",
       "      <td>71.438620</td>\n",
       "      <td>1.000000</td>\n",
       "      <td>3.0</td>\n",
       "      <td>6.000000</td>\n",
       "      <td>8.000000</td>\n",
       "      <td>1.0</td>\n",
       "      <td>2017</td>\n",
       "      <td>11</td>\n",
       "      <td>24</td>\n",
       "      <td>1439</td>\n",
       "      <td>3</td>\n",
       "      <td>6</td>\n",
       "      <td>2</td>\n",
       "      <td>39</td>\n",
       "      <td>4</td>\n",
       "      <td>18</td>\n",
       "      <td>1</td>\n",
       "      <td>1</td>\n",
       "      <td>6</td>\n",
       "    </tr>\n",
       "    <tr>\n",
       "      <th>495</th>\n",
       "      <td>30.139626</td>\n",
       "      <td>66.981476</td>\n",
       "      <td>4.000000</td>\n",
       "      <td>4.0</td>\n",
       "      <td>16.000000</td>\n",
       "      <td>22.000000</td>\n",
       "      <td>1.0</td>\n",
       "      <td>2017</td>\n",
       "      <td>11</td>\n",
       "      <td>25</td>\n",
       "      <td>1439</td>\n",
       "      <td>3</td>\n",
       "      <td>7</td>\n",
       "      <td>2</td>\n",
       "      <td>42</td>\n",
       "      <td>1</td>\n",
       "      <td>14</td>\n",
       "      <td>2</td>\n",
       "      <td>1</td>\n",
       "      <td>5</td>\n",
       "    </tr>\n",
       "  </tbody>\n",
       "</table>\n",
       "<p>489 rows × 20 columns</p>\n",
       "</div>"
      ],
      "text/plain": [
       "      Latitude  Longitude  Killed Min  Killed Max  Injured Min  Injured Max  \\\n",
       "0    33.718000  73.071800   14.000000        15.0    31.578947    60.000000   \n",
       "1    24.991800  66.991100   14.970845         3.0    31.578947     3.000000   \n",
       "2    24.991800  66.991100   13.000000        15.0    20.000000    40.000000   \n",
       "3    24.991800  66.991100   14.970845        12.0    31.578947    51.000000   \n",
       "4    30.209500  67.018200   44.000000        47.0    31.578947    65.000000   \n",
       "..         ...        ...         ...         ...          ...          ...   \n",
       "490  30.203658  67.004469   15.000000        15.0    40.000000    40.000000   \n",
       "491  28.571051  67.496895   21.000000        22.0    25.000000    39.721491   \n",
       "493  30.221057  67.002524    2.000000         2.0     8.000000     8.000000   \n",
       "494  33.970623  71.438620    1.000000         3.0     6.000000     8.000000   \n",
       "495  30.139626  66.981476    4.000000         4.0    16.000000    22.000000   \n",
       "\n",
       "     No. of Suicide Blasts  Year  Month  Day  Islamic Year  Islamic Month  \\\n",
       "0                      2.0  1995     11   19          1416              6   \n",
       "1                      1.0  2000     11    6          1421              8   \n",
       "2                      1.0  2002      5    8          1423              2   \n",
       "3                      1.0  2002      6   14          1423              4   \n",
       "4                      1.0  2003      7    4          1424              5   \n",
       "..                     ...   ...    ...  ...           ...            ...   \n",
       "490                    1.0  2017      8   12          1438             11   \n",
       "491                    1.0  2017     10    5          1439              1   \n",
       "493                    1.0  2017     11    9          1439              2   \n",
       "494                    1.0  2017     11   24          1439              3   \n",
       "495                    1.0  2017     11   25          1439              3   \n",
       "\n",
       "     Islamic Day  Blast Day Type Num  City Num  Province Num  \\\n",
       "0             26                   0        17             2   \n",
       "1             10                   2        19             6   \n",
       "2             25                   2        19             6   \n",
       "3              3                   2        19             6   \n",
       "4              4                   2        42             1   \n",
       "..           ...                 ...       ...           ...   \n",
       "490           20                   1        42             1   \n",
       "491           15                   2        42             1   \n",
       "493           20                   2        42             1   \n",
       "494            6                   2        39             4   \n",
       "495            7                   2        42             1   \n",
       "\n",
       "     Location Category Num  Location Sensitivity Num  Open/Closed Space Num  \\\n",
       "0                        6                         0                      0   \n",
       "1                       16                         1                      0   \n",
       "2                       12                         2                      0   \n",
       "3                        6                         0                      0   \n",
       "4                       19                         2                      0   \n",
       "..                     ...                       ...                    ...   \n",
       "490                     23                         2                      1   \n",
       "491                     19                         0                      1   \n",
       "493                     18                         1                      1   \n",
       "494                     18                         1                      1   \n",
       "495                     14                         2                      1   \n",
       "\n",
       "     Target Type Num  \n",
       "0                  2  \n",
       "1                  4  \n",
       "2                  2  \n",
       "3                  2  \n",
       "4                  7  \n",
       "..               ...  \n",
       "490                5  \n",
       "491                1  \n",
       "493                6  \n",
       "494                6  \n",
       "495                5  \n",
       "\n",
       "[489 rows x 20 columns]"
      ]
     },
     "execution_count": 5474,
     "metadata": {},
     "output_type": "execute_result"
    }
   ],
   "source": [
    "df"
   ]
  },
  {
   "cell_type": "code",
   "execution_count": 5475,
   "metadata": {},
   "outputs": [
    {
     "name": "stdout",
     "output_type": "stream",
     "text": [
      "<class 'pandas.core.frame.DataFrame'>\n",
      "Index: 489 entries, 0 to 495\n",
      "Data columns (total 20 columns):\n",
      " #   Column                    Non-Null Count  Dtype  \n",
      "---  ------                    --------------  -----  \n",
      " 0   Latitude                  489 non-null    float64\n",
      " 1   Longitude                 489 non-null    float64\n",
      " 2   Killed Min                489 non-null    float64\n",
      " 3   Killed Max                489 non-null    float64\n",
      " 4   Injured Min               489 non-null    float64\n",
      " 5   Injured Max               489 non-null    float64\n",
      " 6   No. of Suicide Blasts     489 non-null    float64\n",
      " 7   Year                      489 non-null    int32  \n",
      " 8   Month                     489 non-null    int32  \n",
      " 9   Day                       489 non-null    int32  \n",
      " 10  Islamic Year              489 non-null    int32  \n",
      " 11  Islamic Month             489 non-null    int32  \n",
      " 12  Islamic Day               489 non-null    int32  \n",
      " 13  Blast Day Type Num        489 non-null    int32  \n",
      " 14  City Num                  489 non-null    int32  \n",
      " 15  Province Num              489 non-null    int32  \n",
      " 16  Location Category Num     489 non-null    int32  \n",
      " 17  Location Sensitivity Num  489 non-null    int32  \n",
      " 18  Open/Closed Space Num     489 non-null    int32  \n",
      " 19  Target Type Num           489 non-null    int32  \n",
      "dtypes: float64(7), int32(13)\n",
      "memory usage: 55.4 KB\n"
     ]
    }
   ],
   "source": [
    "df.info()"
   ]
  },
  {
   "cell_type": "code",
   "execution_count": 5476,
   "metadata": {},
   "outputs": [],
   "source": [
    "df.to_csv('CleanData.csv')"
   ]
  },
  {
   "cell_type": "code",
   "execution_count": 5477,
   "metadata": {},
   "outputs": [
    {
     "data": {
      "text/plain": [
       "['Latitude',\n",
       " 'Longitude',\n",
       " 'Killed Min',\n",
       " 'Killed Max',\n",
       " 'Injured Min',\n",
       " 'Injured Max',\n",
       " 'No. of Suicide Blasts',\n",
       " 'Year',\n",
       " 'Month',\n",
       " 'Day',\n",
       " 'Islamic Year',\n",
       " 'Islamic Month',\n",
       " 'Islamic Day',\n",
       " 'Blast Day Type Num',\n",
       " 'City Num',\n",
       " 'Province Num',\n",
       " 'Location Category Num',\n",
       " 'Location Sensitivity Num',\n",
       " 'Open/Closed Space Num',\n",
       " 'Target Type Num']"
      ]
     },
     "execution_count": 5477,
     "metadata": {},
     "output_type": "execute_result"
    }
   ],
   "source": [
    "[\n",
    "    'Latitude', 'Longitude', 'Killed Min', 'Killed Max', 'Injured Min', 'Injured Max',\n",
    "    'No. of Suicide Blasts', 'Year', 'Month', 'Day', 'Islamic Year', 'Islamic Month',\n",
    "    'Islamic Day', 'Blast Day Type Num', 'City Num', 'Province Num', 'Location Category Num',\n",
    "    'Location Sensitivity Num', 'Open/Closed Space Num', 'Target Type Num'\n",
    "]"
   ]
  },
  {
   "cell_type": "code",
   "execution_count": 5478,
   "metadata": {},
   "outputs": [],
   "source": [
    "# Modeller\n",
    "from sklearn.linear_model import LinearRegression\n",
    "from sklearn.discriminant_analysis import LinearDiscriminantAnalysis\n",
    "from sklearn.linear_model import Ridge\n",
    "from sklearn.linear_model import ElasticNet\n",
    "from xgboost import XGBRegressor\n",
    "from lightgbm import LGBMRegressor\n",
    "from sklearn.ensemble import RandomForestRegressor\n",
    "from sklearn.linear_model import LogisticRegression\n",
    "\n",
    "# İlgili hesaplamalar\n",
    "from sklearn.model_selection import train_test_split\n",
    "from sklearn.metrics import mean_squared_error, r2_score, mean_absolute_error\n",
    "from sklearn.metrics import accuracy_score, confusion_matrix"
   ]
  },
  {
   "cell_type": "code",
   "execution_count": 5479,
   "metadata": {},
   "outputs": [
    {
     "name": "stdout",
     "output_type": "stream",
     "text": [
      "Killed Min\n",
      "Mean Squared Error: 108.86071187290764\n",
      "R-Squared: 0.7224191426065805\n",
      "Mean Absolute Error: 5.585142797643839\n"
     ]
    },
    {
     "data": {
      "image/png": "[encoded data removed]",
      "text/plain": [
       "<Figure size 1000x600 with 1 Axes>"
      ]
     },
     "metadata": {},
     "output_type": "display_data"
    }
   ],
   "source": [
    "print(\"Killed Min\")\n",
    "\n",
    "column_names = [\n",
    "    'Latitude', 'Longitude', 'Killed Max', 'Injured Min', 'Injured Max',\n",
    "    'No. of Suicide Blasts', 'Year', 'Month', 'Day', 'Islamic Year', 'Islamic Month',\n",
    "    'Islamic Day', 'Blast Day Type Num', 'City Num', 'Province Num', 'Location Category Num',\n",
    "    'Location Sensitivity Num', 'Open/Closed Space Num', 'Target Type Num'\n",
    "]\n",
    "\n",
    "X = df[column_names]\n",
    "y = df['Killed Min']\n",
    "\n",
    "# Veri setini eğitim ve test setlerine bölelim\n",
    "X_train, X_test, y_train, y_test = train_test_split(X, y, test_size=0.2, random_state=42)\n",
    "\n",
    "# Rastgele Orman Regresyon modelini oluştur ve eğit\n",
    "model = RandomForestRegressor()\n",
    "model.fit(X_train, y_train)\n",
    "\n",
    "# Modeli test et ve tahminleri yap\n",
    "y_pred = model.predict(X_test)\n",
    "\n",
    "# Model performansını değerlendir\n",
    "mse = mean_squared_error(y_test, y_pred)\n",
    "r2 = r2_score(y_test, y_pred)\n",
    "mae = mean_absolute_error(y_test, y_pred)\n",
    "\n",
    "print(\"Mean Squared Error:\", mse)\n",
    "print(\"R-Squared:\", r2)\n",
    "print(\"Mean Absolute Error:\", mae)\n",
    "\n",
    "# Gerçek ve tahmin edilen değerler arasındaki ilişkiyi gösteren bir scatter plot çiz\n",
    "plt.figure(figsize=(10, 6))\n",
    "plt.scatter(y_test, y_pred, color='blue', alpha=0.5)\n",
    "plt.plot([y_test.min(), y_test.max()], [y_test.min(), y_test.max()], 'k--', lw=2)\n",
    "plt.xlabel('Gerçek Değerler')\n",
    "plt.ylabel('Tahmin Edilen Değerler')\n",
    "plt.title('Random Forest: Gerçek Değerler vs. Tahmin Edilen Değerler')\n",
    "plt.show()"
   ]
  },
  {
   "cell_type": "code",
   "execution_count": 5480,
   "metadata": {},
   "outputs": [
    {
     "name": "stdout",
     "output_type": "stream",
     "text": [
      "Killed Max\n",
      "Mean Squared Error: 286.34869571906887\n",
      "R-Squared: 0.6493979608800395\n",
      "Mean Absolute Error: 6.618279336734694\n"
     ]
    },
    {
     "data": {
      "image/png": "[encoded data removed]",
      "text/plain": [
       "<Figure size 1000x600 with 1 Axes>"
      ]
     },
     "metadata": {},
     "output_type": "display_data"
    }
   ],
   "source": [
    "print(\"Killed Max\")\n",
    "\n",
    "column_names = [\n",
    "    'Latitude', 'Longitude', 'Killed Min', 'Injured Min', 'Injured Max',\n",
    "    'No. of Suicide Blasts', 'Year', 'Month', 'Day', 'Islamic Year', 'Islamic Month',\n",
    "    'Islamic Day', 'Blast Day Type Num', 'City Num', 'Province Num', 'Location Category Num',\n",
    "    'Location Sensitivity Num', 'Open/Closed Space Num', 'Target Type Num'\n",
    "]\n",
    "\n",
    "X = df[column_names]\n",
    "y = df['Killed Max']\n",
    "\n",
    "# Veri setini eğitim ve test setlerine bölelim\n",
    "X_train, X_test, y_train, y_test = train_test_split(X, y, test_size=0.2, random_state=42)\n",
    "\n",
    "# Rastgele Orman Regresyon modelini oluştur ve eğit\n",
    "model = RandomForestRegressor()\n",
    "model.fit(X_train, y_train)\n",
    "\n",
    "# Modeli test et ve tahminleri yap\n",
    "y_pred = model.predict(X_test)\n",
    "\n",
    "# Model performansını değerlendir\n",
    "mse = mean_squared_error(y_test, y_pred)\n",
    "r2 = r2_score(y_test, y_pred)\n",
    "mae = mean_absolute_error(y_test, y_pred)\n",
    "\n",
    "print(\"Mean Squared Error:\", mse)\n",
    "print(\"R-Squared:\", r2)\n",
    "print(\"Mean Absolute Error:\", mae)\n",
    "\n",
    "# Gerçek ve tahmin edilen değerler arasındaki ilişkiyi gösteren bir scatter plot çiz\n",
    "plt.figure(figsize=(10, 6))\n",
    "plt.scatter(y_test, y_pred, color='blue', alpha=0.5)\n",
    "plt.plot([y_test.min(), y_test.max()], [y_test.min(), y_test.max()], 'k--', lw=2)\n",
    "plt.xlabel('Gerçek Değerler')\n",
    "plt.ylabel('Tahmin Edilen Değerler')\n",
    "plt.title('Random Forest: Gerçek Değerler vs. Tahmin Edilen Değerler')\n",
    "plt.show()"
   ]
  },
  {
   "cell_type": "code",
   "execution_count": 5481,
   "metadata": {},
   "outputs": [
    {
     "name": "stdout",
     "output_type": "stream",
     "text": [
      "Injured Min\n",
      "Mean Squared Error: 447.50093689581087\n",
      "R-Squared: 0.6387983007700792\n",
      "Mean Absolute Error: 12.613818474758318\n"
     ]
    },
    {
     "data": {
      "image/png": "[encoded data removed]",
      "text/plain": [
       "<Figure size 1000x600 with 1 Axes>"
      ]
     },
     "metadata": {},
     "output_type": "display_data"
    }
   ],
   "source": [
    "print(\"Injured Min\")\n",
    "\n",
    "column_names = [\n",
    "    'Latitude', 'Longitude', 'Killed Min', 'Killed Max', 'Injured Max',\n",
    "    'No. of Suicide Blasts', 'Year', 'Month', 'Day', 'Islamic Year', 'Islamic Month',\n",
    "    'Islamic Day', 'Blast Day Type Num', 'City Num', 'Province Num', 'Location Category Num',\n",
    "    'Location Sensitivity Num', 'Open/Closed Space Num', 'Target Type Num'\n",
    "]\n",
    "\n",
    "X = df[column_names]\n",
    "y = df['Injured Min']\n",
    "\n",
    "# Veri setini eğitim ve test setlerine bölelim\n",
    "X_train, X_test, y_train, y_test = train_test_split(X, y, test_size=0.2, random_state=42)\n",
    "\n",
    "# Rastgele Orman Regresyon modelini oluştur ve eğit\n",
    "model = RandomForestRegressor()\n",
    "model.fit(X_train, y_train)\n",
    "\n",
    "# Modeli test et ve tahminleri yap\n",
    "y_pred = model.predict(X_test)\n",
    "\n",
    "# Model performansını değerlendir\n",
    "mse = mean_squared_error(y_test, y_pred)\n",
    "r2 = r2_score(y_test, y_pred)\n",
    "mae = mean_absolute_error(y_test, y_pred)\n",
    "\n",
    "print(\"Mean Squared Error:\", mse)\n",
    "print(\"R-Squared:\", r2)\n",
    "print(\"Mean Absolute Error:\", mae)\n",
    "\n",
    "# Gerçek ve tahmin edilen değerler arasındaki ilişkiyi gösteren bir scatter plot çiz\n",
    "plt.figure(figsize=(10, 6))\n",
    "plt.scatter(y_test, y_pred, color='blue', alpha=0.5)\n",
    "plt.plot([y_test.min(), y_test.max()], [y_test.min(), y_test.max()], 'k--', lw=2)\n",
    "plt.xlabel('Gerçek Değerler')\n",
    "plt.ylabel('Tahmin Edilen Değerler')\n",
    "plt.title('Random Forest: Gerçek Değerler vs. Tahmin Edilen Değerler')\n",
    "plt.show()"
   ]
  },
  {
   "cell_type": "code",
   "execution_count": 5482,
   "metadata": {},
   "outputs": [
    {
     "name": "stdout",
     "output_type": "stream",
     "text": [
      "Injured Max\n",
      "Mean Squared Error: 2014.788758270961\n",
      "R-Squared: 0.6064941990243279\n",
      "Mean Absolute Error: 17.774207841031146\n"
     ]
    },
    {
     "data": {
      "image/png": "[encoded data removed]",
      "text/plain": [
       "<Figure size 1000x600 with 1 Axes>"
      ]
     },
     "metadata": {},
     "output_type": "display_data"
    }
   ],
   "source": [
    "print(\"Injured Max\")\n",
    "\n",
    "column_names = [\n",
    "    'Latitude', 'Longitude', 'Killed Min', 'Killed Max', 'Injured Min',\n",
    "    'No. of Suicide Blasts', 'Year', 'Month', 'Day', 'Islamic Year', 'Islamic Month',\n",
    "    'Islamic Day', 'Blast Day Type Num', 'City Num', 'Province Num', 'Location Category Num',\n",
    "    'Location Sensitivity Num', 'Open/Closed Space Num', 'Target Type Num'\n",
    "]\n",
    "\n",
    "X = df[column_names]\n",
    "y = df['Injured Max']\n",
    "\n",
    "# Veri setini eğitim ve test setlerine bölelim\n",
    "X_train, X_test, y_train, y_test = train_test_split(X, y, test_size=0.2, random_state=42)\n",
    "\n",
    "# Rastgele Orman Regresyon modelini oluştur ve eğit\n",
    "model = RandomForestRegressor()\n",
    "model.fit(X_train, y_train)\n",
    "\n",
    "# Modeli test et ve tahminleri yap\n",
    "y_pred = model.predict(X_test)\n",
    "\n",
    "# Model performansını değerlendir\n",
    "mse = mean_squared_error(y_test, y_pred)\n",
    "r2 = r2_score(y_test, y_pred)\n",
    "mae = mean_absolute_error(y_test, y_pred)\n",
    "\n",
    "print(\"Mean Squared Error:\", mse)\n",
    "print(\"R-Squared:\", r2)\n",
    "print(\"Mean Absolute Error:\", mae)\n",
    "\n",
    "# Gerçek ve tahmin edilen değerler arasındaki ilişkiyi gösteren bir scatter plot çiz\n",
    "plt.figure(figsize=(10, 6))\n",
    "plt.scatter(y_test, y_pred, color='blue', alpha=0.5)\n",
    "plt.plot([y_test.min(), y_test.max()], [y_test.min(), y_test.max()], 'k--', lw=2)\n",
    "plt.xlabel('Gerçek Değerler')\n",
    "plt.ylabel('Tahmin Edilen Değerler')\n",
    "plt.title('Random Forest: Gerçek Değerler vs. Tahmin Edilen Değerler')\n",
    "plt.show()"
   ]
  }
 ],
 "metadata": {
  "kernelspec": {
   "display_name": "Python 3",
   "language": "python",
   "name": "python3"
  },
  "language_info": {
   "codemirror_mode": {
    "name": "ipython",
    "version": 3
   },
   "file_extension": ".py",
   "mimetype": "text/x-python",
   "name": "python",
   "nbconvert_exporter": "python",
   "pygments_lexer": "ipython3",
   "version": "3.12.0"
  }
 },
 "nbformat": 4,
 "nbformat_minor": 2
}
