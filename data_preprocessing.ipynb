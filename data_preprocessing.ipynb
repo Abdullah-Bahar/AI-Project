{
 "cells": [
  {
   "cell_type": "markdown",
   "metadata": {},
   "source": [
    "*** TEMEL KÜTÜPHANELER ***"
   ]
  },
  {
   "cell_type": "code",
   "execution_count": 71,
   "metadata": {},
   "outputs": [],
   "source": [
    "# Temel çizimler için kullanılır\n",
    "import matplotlib.pyplot as plt\n",
    "\n",
    "# Grafik noktasında yüksek seviyeli bir arayüz sağlar\n",
    "import seaborn as sns\n",
    "\n",
    "# Veri analizi ve manipülasyonu için kullanılır\n",
    "import pandas as pd\n",
    "\n",
    "# Bilimsel hesaplamalar ve matematiksel işlemler için kullanılır\n",
    "import numpy as np\n",
    "\n",
    "# Metin karşılaştırma ve eşleştirme işlemleri için kullanılır\n",
    "from fuzzywuzzy import fuzz, process\n",
    "\n",
    "# Kategorik verileri sayısala çevirmek için kullanılır\n",
    "from sklearn.preprocessing import LabelEncoder\n",
    "\n",
    "# Veri normalleştirme işlemi için kullanılır\n",
    "from mlxtend.preprocessing import minmax_scaling\n",
    "\n",
    "# Hicri ve miladi takvim dönüşümü için kullanılır\n",
    "from hijri_converter import convert\n",
    "\n",
    "# Metin formatındaki tarih ve saatleri ayrıştırmak için kullanılır\n",
    "from dateutil import parser\n",
    "\n",
    "#Uyarı sistemini kontrol etmek için kullanılır\n",
    "import warnings\n",
    "warnings.filterwarnings(\"ignore\", category=FutureWarning)"
   ]
  },
  {
   "cell_type": "markdown",
   "metadata": {},
   "source": [
    "*** VERİ SETİNİN İNCELENMESİ ***"
   ]
  },
  {
   "cell_type": "code",
   "execution_count": 72,
   "metadata": {},
   "outputs": [],
   "source": [
    "# Dosya uygun formatta okunur \n",
    "data = pd.read_csv(\"Dataset/PakistanSuicideAttacks.csv\", encoding=\"ISO-8859-1\")"
   ]
  },
  {
   "cell_type": "code",
   "execution_count": 73,
   "metadata": {},
   "outputs": [
    {
     "data": {
      "text/html": [
       "<div>\n",
       "<style scoped>\n",
       "    .dataframe tbody tr th:only-of-type {\n",
       "        vertical-align: middle;\n",
       "    }\n",
       "\n",
       "    .dataframe tbody tr th {\n",
       "        vertical-align: top;\n",
       "    }\n",
       "\n",
       "    .dataframe thead th {\n",
       "        text-align: right;\n",
       "    }\n",
       "</style>\n",
       "<table border=\"1\" class=\"dataframe\">\n",
       "  <thead>\n",
       "    <tr style=\"text-align: right;\">\n",
       "      <th></th>\n",
       "      <th>S#</th>\n",
       "      <th>Date</th>\n",
       "      <th>Islamic Date</th>\n",
       "      <th>Blast Day Type</th>\n",
       "      <th>Holiday Type</th>\n",
       "      <th>Time</th>\n",
       "      <th>City</th>\n",
       "      <th>Latitude</th>\n",
       "      <th>Longitude</th>\n",
       "      <th>Province</th>\n",
       "      <th>...</th>\n",
       "      <th>Targeted Sect if any</th>\n",
       "      <th>Killed Min</th>\n",
       "      <th>Killed Max</th>\n",
       "      <th>Injured Min</th>\n",
       "      <th>Injured Max</th>\n",
       "      <th>No. of Suicide Blasts</th>\n",
       "      <th>Explosive Weight (max)</th>\n",
       "      <th>Hospital Names</th>\n",
       "      <th>Temperature(C)</th>\n",
       "      <th>Temperature(F)</th>\n",
       "    </tr>\n",
       "  </thead>\n",
       "  <tbody>\n",
       "    <tr>\n",
       "      <th>0</th>\n",
       "      <td>1</td>\n",
       "      <td>Sunday-November 19-1995</td>\n",
       "      <td>25 Jumaada al-THaany 1416 A.H</td>\n",
       "      <td>Holiday</td>\n",
       "      <td>Weekend</td>\n",
       "      <td>NaN</td>\n",
       "      <td>Islamabad</td>\n",
       "      <td>33.718000</td>\n",
       "      <td>73.0718</td>\n",
       "      <td>Capital</td>\n",
       "      <td>...</td>\n",
       "      <td>NaN</td>\n",
       "      <td>14.0</td>\n",
       "      <td>15.0</td>\n",
       "      <td>NaN</td>\n",
       "      <td>60</td>\n",
       "      <td>2.0</td>\n",
       "      <td>NaN</td>\n",
       "      <td>NaN</td>\n",
       "      <td>15.835</td>\n",
       "      <td>60.503</td>\n",
       "    </tr>\n",
       "    <tr>\n",
       "      <th>1</th>\n",
       "      <td>2</td>\n",
       "      <td>Monday-November 6-2000</td>\n",
       "      <td>10 SHa`baan 1421 A.H</td>\n",
       "      <td>Working Day</td>\n",
       "      <td>NaN</td>\n",
       "      <td>NaN</td>\n",
       "      <td>Karachi</td>\n",
       "      <td>24.991800</td>\n",
       "      <td>66.9911</td>\n",
       "      <td>Sindh</td>\n",
       "      <td>...</td>\n",
       "      <td>NaN</td>\n",
       "      <td>NaN</td>\n",
       "      <td>3.0</td>\n",
       "      <td>NaN</td>\n",
       "      <td>3</td>\n",
       "      <td>1.0</td>\n",
       "      <td>NaN</td>\n",
       "      <td>NaN</td>\n",
       "      <td>23.770</td>\n",
       "      <td>74.786</td>\n",
       "    </tr>\n",
       "    <tr>\n",
       "      <th>2</th>\n",
       "      <td>3</td>\n",
       "      <td>Wednesday-May 8-2002</td>\n",
       "      <td>25 safar 1423 A.H</td>\n",
       "      <td>Working Day</td>\n",
       "      <td>NaN</td>\n",
       "      <td>7:45 AM</td>\n",
       "      <td>Karachi</td>\n",
       "      <td>24.991800</td>\n",
       "      <td>66.9911</td>\n",
       "      <td>Sindh</td>\n",
       "      <td>...</td>\n",
       "      <td>Christian</td>\n",
       "      <td>13.0</td>\n",
       "      <td>15.0</td>\n",
       "      <td>20.0</td>\n",
       "      <td>40</td>\n",
       "      <td>1.0</td>\n",
       "      <td>2.5 Kg</td>\n",
       "      <td>1.Jinnah Postgraduate Medical Center 2. Civil ...</td>\n",
       "      <td>31.460</td>\n",
       "      <td>88.628</td>\n",
       "    </tr>\n",
       "    <tr>\n",
       "      <th>3</th>\n",
       "      <td>4</td>\n",
       "      <td>Friday-June 14-2002</td>\n",
       "      <td>3 Raby` al-THaany 1423 A.H</td>\n",
       "      <td>Working Day</td>\n",
       "      <td>NaN</td>\n",
       "      <td>11:10:00 AM</td>\n",
       "      <td>Karachi</td>\n",
       "      <td>24.991800</td>\n",
       "      <td>66.9911</td>\n",
       "      <td>Sindh</td>\n",
       "      <td>...</td>\n",
       "      <td>Christian</td>\n",
       "      <td>NaN</td>\n",
       "      <td>12.0</td>\n",
       "      <td>NaN</td>\n",
       "      <td>51</td>\n",
       "      <td>1.0</td>\n",
       "      <td>NaN</td>\n",
       "      <td>NaN</td>\n",
       "      <td>31.430</td>\n",
       "      <td>88.574</td>\n",
       "    </tr>\n",
       "    <tr>\n",
       "      <th>4</th>\n",
       "      <td>5</td>\n",
       "      <td>Friday-July 4-2003</td>\n",
       "      <td>4 Jumaada al-awal 1424 A.H</td>\n",
       "      <td>Working Day</td>\n",
       "      <td>NaN</td>\n",
       "      <td>NaN</td>\n",
       "      <td>Quetta</td>\n",
       "      <td>30.209500</td>\n",
       "      <td>67.0182</td>\n",
       "      <td>Baluchistan</td>\n",
       "      <td>...</td>\n",
       "      <td>Shiite</td>\n",
       "      <td>44.0</td>\n",
       "      <td>47.0</td>\n",
       "      <td>NaN</td>\n",
       "      <td>65</td>\n",
       "      <td>1.0</td>\n",
       "      <td>NaN</td>\n",
       "      <td>1.CMH Quetta \\n2.Civil Hospital 3. Boland Medi...</td>\n",
       "      <td>33.120</td>\n",
       "      <td>91.616</td>\n",
       "    </tr>\n",
       "    <tr>\n",
       "      <th>...</th>\n",
       "      <td>...</td>\n",
       "      <td>...</td>\n",
       "      <td>...</td>\n",
       "      <td>...</td>\n",
       "      <td>...</td>\n",
       "      <td>...</td>\n",
       "      <td>...</td>\n",
       "      <td>...</td>\n",
       "      <td>...</td>\n",
       "      <td>...</td>\n",
       "      <td>...</td>\n",
       "      <td>...</td>\n",
       "      <td>...</td>\n",
       "      <td>...</td>\n",
       "      <td>...</td>\n",
       "      <td>...</td>\n",
       "      <td>...</td>\n",
       "      <td>...</td>\n",
       "      <td>...</td>\n",
       "      <td>...</td>\n",
       "      <td>...</td>\n",
       "    </tr>\n",
       "    <tr>\n",
       "      <th>491</th>\n",
       "      <td>492</td>\n",
       "      <td>Thursday-October-05-2017</td>\n",
       "      <td>13 MuHarram 1439 A.H</td>\n",
       "      <td>Working Day</td>\n",
       "      <td>NaN</td>\n",
       "      <td>NaN</td>\n",
       "      <td>Quetta</td>\n",
       "      <td>28.571051</td>\n",
       "      <td>67.496895</td>\n",
       "      <td>Balochistan</td>\n",
       "      <td>...</td>\n",
       "      <td>NaN</td>\n",
       "      <td>21.0</td>\n",
       "      <td>22.0</td>\n",
       "      <td>25.0</td>\n",
       "      <td>NaN</td>\n",
       "      <td>1.0</td>\n",
       "      <td>NaN</td>\n",
       "      <td>Larkana Hospital, Gandawah District Headquarte...</td>\n",
       "      <td>27.800</td>\n",
       "      <td>81.000</td>\n",
       "    </tr>\n",
       "    <tr>\n",
       "      <th>492</th>\n",
       "      <td>493</td>\n",
       "      <td>Thursday-October-19-2017</td>\n",
       "      <td>27 MuHarram 1439 A.H</td>\n",
       "      <td>Working Day</td>\n",
       "      <td>NaN</td>\n",
       "      <td>8:00 AM</td>\n",
       "      <td>Quetta</td>\n",
       "      <td>NaN</td>\n",
       "      <td>NaN</td>\n",
       "      <td>Balochistan</td>\n",
       "      <td>...</td>\n",
       "      <td>NaN</td>\n",
       "      <td>7.0</td>\n",
       "      <td>7.0</td>\n",
       "      <td>22.0</td>\n",
       "      <td>22</td>\n",
       "      <td>1.0</td>\n",
       "      <td>NaN</td>\n",
       "      <td>NaN</td>\n",
       "      <td>26.000</td>\n",
       "      <td>79.000</td>\n",
       "    </tr>\n",
       "    <tr>\n",
       "      <th>493</th>\n",
       "      <td>494</td>\n",
       "      <td>Thursday-November-9-2017</td>\n",
       "      <td>19 Safar 1439 A.H</td>\n",
       "      <td>Working Day</td>\n",
       "      <td>NaN</td>\n",
       "      <td>7:00 AM</td>\n",
       "      <td>Quetta</td>\n",
       "      <td>30.221057</td>\n",
       "      <td>67.002524</td>\n",
       "      <td>Balochistan</td>\n",
       "      <td>...</td>\n",
       "      <td>NaN</td>\n",
       "      <td>2.0</td>\n",
       "      <td>2.0</td>\n",
       "      <td>8.0</td>\n",
       "      <td>8</td>\n",
       "      <td>1.0</td>\n",
       "      <td>15KG</td>\n",
       "      <td>Combined Military Hospital (CMH)-(Quetta), Civ...</td>\n",
       "      <td>25.000</td>\n",
       "      <td>77.000</td>\n",
       "    </tr>\n",
       "    <tr>\n",
       "      <th>494</th>\n",
       "      <td>495</td>\n",
       "      <td>Friday-November-24-2017</td>\n",
       "      <td>5 Rabi Al-Awwal 1439 A.H</td>\n",
       "      <td>Working Day</td>\n",
       "      <td>NaN</td>\n",
       "      <td>7:00 AM</td>\n",
       "      <td>Peshawar</td>\n",
       "      <td>33.970623</td>\n",
       "      <td>71.43862</td>\n",
       "      <td>KPK</td>\n",
       "      <td>...</td>\n",
       "      <td>NaN</td>\n",
       "      <td>1.0</td>\n",
       "      <td>3.0</td>\n",
       "      <td>6.0</td>\n",
       "      <td>8</td>\n",
       "      <td>1.0</td>\n",
       "      <td>20KG</td>\n",
       "      <td>Hayatabad Medical Complex(Peshawar)</td>\n",
       "      <td>22.000</td>\n",
       "      <td>72.000</td>\n",
       "    </tr>\n",
       "    <tr>\n",
       "      <th>495</th>\n",
       "      <td>496</td>\n",
       "      <td>Saturday-November-25-2017</td>\n",
       "      <td>6 Rabi Al-Awwal 1439 A.H</td>\n",
       "      <td>Working Day</td>\n",
       "      <td>NaN</td>\n",
       "      <td>7:00 AM</td>\n",
       "      <td>Quetta</td>\n",
       "      <td>30.139626</td>\n",
       "      <td>66.981476</td>\n",
       "      <td>Balochistan</td>\n",
       "      <td>...</td>\n",
       "      <td>NaN</td>\n",
       "      <td>4.0</td>\n",
       "      <td>4.0</td>\n",
       "      <td>16.0</td>\n",
       "      <td>22</td>\n",
       "      <td>1.0</td>\n",
       "      <td>10KG</td>\n",
       "      <td>Civil Hospital(Quetta)</td>\n",
       "      <td>29.000</td>\n",
       "      <td>84.000</td>\n",
       "    </tr>\n",
       "  </tbody>\n",
       "</table>\n",
       "<p>496 rows × 26 columns</p>\n",
       "</div>"
      ],
      "text/plain": [
       "      S#                       Date                   Islamic Date  \\\n",
       "0      1    Sunday-November 19-1995  25 Jumaada al-THaany 1416 A.H   \n",
       "1      2     Monday-November 6-2000           10 SHa`baan 1421 A.H   \n",
       "2      3       Wednesday-May 8-2002              25 safar 1423 A.H   \n",
       "3      4        Friday-June 14-2002     3 Raby` al-THaany 1423 A.H   \n",
       "4      5         Friday-July 4-2003     4 Jumaada al-awal 1424 A.H   \n",
       "..   ...                        ...                            ...   \n",
       "491  492   Thursday-October-05-2017           13 MuHarram 1439 A.H   \n",
       "492  493   Thursday-October-19-2017           27 MuHarram 1439 A.H   \n",
       "493  494   Thursday-November-9-2017              19 Safar 1439 A.H   \n",
       "494  495    Friday-November-24-2017       5 Rabi Al-Awwal 1439 A.H   \n",
       "495  496  Saturday-November-25-2017       6 Rabi Al-Awwal 1439 A.H   \n",
       "\n",
       "    Blast Day Type Holiday Type         Time       City   Latitude  Longitude  \\\n",
       "0          Holiday      Weekend          NaN  Islamabad  33.718000    73.0718   \n",
       "1      Working Day          NaN          NaN    Karachi  24.991800    66.9911   \n",
       "2      Working Day          NaN      7:45 AM   Karachi   24.991800    66.9911   \n",
       "3      Working Day          NaN  11:10:00 AM    Karachi  24.991800    66.9911   \n",
       "4      Working Day          NaN          NaN     Quetta  30.209500    67.0182   \n",
       "..             ...          ...          ...        ...        ...        ...   \n",
       "491    Working Day          NaN          NaN     Quetta  28.571051  67.496895   \n",
       "492    Working Day          NaN      8:00 AM     Quetta        NaN        NaN   \n",
       "493    Working Day          NaN      7:00 AM     Quetta  30.221057  67.002524   \n",
       "494    Working Day          NaN      7:00 AM   Peshawar  33.970623   71.43862   \n",
       "495    Working Day          NaN      7:00 AM     Quetta  30.139626  66.981476   \n",
       "\n",
       "        Province  ... Targeted Sect if any Killed Min Killed Max Injured Min  \\\n",
       "0        Capital  ...                  NaN       14.0       15.0         NaN   \n",
       "1          Sindh  ...                  NaN        NaN        3.0         NaN   \n",
       "2          Sindh  ...            Christian       13.0       15.0        20.0   \n",
       "3          Sindh  ...            Christian        NaN       12.0         NaN   \n",
       "4    Baluchistan  ...               Shiite       44.0       47.0         NaN   \n",
       "..           ...  ...                  ...        ...        ...         ...   \n",
       "491  Balochistan  ...                  NaN       21.0       22.0        25.0   \n",
       "492  Balochistan  ...                  NaN        7.0        7.0        22.0   \n",
       "493  Balochistan  ...                  NaN        2.0        2.0         8.0   \n",
       "494          KPK  ...                  NaN        1.0        3.0         6.0   \n",
       "495  Balochistan  ...                  NaN        4.0        4.0        16.0   \n",
       "\n",
       "    Injured Max No. of Suicide Blasts Explosive Weight (max)  \\\n",
       "0            60                   2.0                    NaN   \n",
       "1             3                   1.0                    NaN   \n",
       "2            40                   1.0                 2.5 Kg   \n",
       "3            51                   1.0                    NaN   \n",
       "4            65                   1.0                    NaN   \n",
       "..          ...                   ...                    ...   \n",
       "491         NaN                   1.0                    NaN   \n",
       "492          22                   1.0                    NaN   \n",
       "493           8                   1.0                   15KG   \n",
       "494           8                   1.0                   20KG   \n",
       "495          22                   1.0                   10KG   \n",
       "\n",
       "                                        Hospital Names  Temperature(C)  \\\n",
       "0                                                  NaN          15.835   \n",
       "1                                                  NaN          23.770   \n",
       "2    1.Jinnah Postgraduate Medical Center 2. Civil ...          31.460   \n",
       "3                                                  NaN          31.430   \n",
       "4    1.CMH Quetta \\n2.Civil Hospital 3. Boland Medi...          33.120   \n",
       "..                                                 ...             ...   \n",
       "491  Larkana Hospital, Gandawah District Headquarte...          27.800   \n",
       "492                                                NaN          26.000   \n",
       "493  Combined Military Hospital (CMH)-(Quetta), Civ...          25.000   \n",
       "494                Hayatabad Medical Complex(Peshawar)          22.000   \n",
       "495                             Civil Hospital(Quetta)          29.000   \n",
       "\n",
       "     Temperature(F)  \n",
       "0            60.503  \n",
       "1            74.786  \n",
       "2            88.628  \n",
       "3            88.574  \n",
       "4            91.616  \n",
       "..              ...  \n",
       "491          81.000  \n",
       "492          79.000  \n",
       "493          77.000  \n",
       "494          72.000  \n",
       "495          84.000  \n",
       "\n",
       "[496 rows x 26 columns]"
      ]
     },
     "execution_count": 73,
     "metadata": {},
     "output_type": "execute_result"
    }
   ],
   "source": [
    "data"
   ]
  },
  {
   "cell_type": "code",
   "execution_count": 74,
   "metadata": {},
   "outputs": [
    {
     "data": {
      "text/html": [
       "<div>\n",
       "<style scoped>\n",
       "    .dataframe tbody tr th:only-of-type {\n",
       "        vertical-align: middle;\n",
       "    }\n",
       "\n",
       "    .dataframe tbody tr th {\n",
       "        vertical-align: top;\n",
       "    }\n",
       "\n",
       "    .dataframe thead th {\n",
       "        text-align: right;\n",
       "    }\n",
       "</style>\n",
       "<table border=\"1\" class=\"dataframe\">\n",
       "  <thead>\n",
       "    <tr style=\"text-align: right;\">\n",
       "      <th></th>\n",
       "      <th>S#</th>\n",
       "      <th>Date</th>\n",
       "      <th>Islamic Date</th>\n",
       "      <th>Blast Day Type</th>\n",
       "      <th>Holiday Type</th>\n",
       "      <th>Time</th>\n",
       "      <th>City</th>\n",
       "      <th>Latitude</th>\n",
       "      <th>Longitude</th>\n",
       "      <th>Province</th>\n",
       "      <th>...</th>\n",
       "      <th>Targeted Sect if any</th>\n",
       "      <th>Killed Min</th>\n",
       "      <th>Killed Max</th>\n",
       "      <th>Injured Min</th>\n",
       "      <th>Injured Max</th>\n",
       "      <th>No. of Suicide Blasts</th>\n",
       "      <th>Explosive Weight (max)</th>\n",
       "      <th>Hospital Names</th>\n",
       "      <th>Temperature(C)</th>\n",
       "      <th>Temperature(F)</th>\n",
       "    </tr>\n",
       "  </thead>\n",
       "  <tbody>\n",
       "    <tr>\n",
       "      <th>0</th>\n",
       "      <td>1</td>\n",
       "      <td>Sunday-November 19-1995</td>\n",
       "      <td>25 Jumaada al-THaany 1416 A.H</td>\n",
       "      <td>Holiday</td>\n",
       "      <td>Weekend</td>\n",
       "      <td>NaN</td>\n",
       "      <td>Islamabad</td>\n",
       "      <td>33.7180</td>\n",
       "      <td>73.0718</td>\n",
       "      <td>Capital</td>\n",
       "      <td>...</td>\n",
       "      <td>NaN</td>\n",
       "      <td>14.0</td>\n",
       "      <td>15.0</td>\n",
       "      <td>NaN</td>\n",
       "      <td>60</td>\n",
       "      <td>2.0</td>\n",
       "      <td>NaN</td>\n",
       "      <td>NaN</td>\n",
       "      <td>15.835</td>\n",
       "      <td>60.503</td>\n",
       "    </tr>\n",
       "    <tr>\n",
       "      <th>1</th>\n",
       "      <td>2</td>\n",
       "      <td>Monday-November 6-2000</td>\n",
       "      <td>10 SHa`baan 1421 A.H</td>\n",
       "      <td>Working Day</td>\n",
       "      <td>NaN</td>\n",
       "      <td>NaN</td>\n",
       "      <td>Karachi</td>\n",
       "      <td>24.9918</td>\n",
       "      <td>66.9911</td>\n",
       "      <td>Sindh</td>\n",
       "      <td>...</td>\n",
       "      <td>NaN</td>\n",
       "      <td>NaN</td>\n",
       "      <td>3.0</td>\n",
       "      <td>NaN</td>\n",
       "      <td>3</td>\n",
       "      <td>1.0</td>\n",
       "      <td>NaN</td>\n",
       "      <td>NaN</td>\n",
       "      <td>23.770</td>\n",
       "      <td>74.786</td>\n",
       "    </tr>\n",
       "    <tr>\n",
       "      <th>2</th>\n",
       "      <td>3</td>\n",
       "      <td>Wednesday-May 8-2002</td>\n",
       "      <td>25 safar 1423 A.H</td>\n",
       "      <td>Working Day</td>\n",
       "      <td>NaN</td>\n",
       "      <td>7:45 AM</td>\n",
       "      <td>Karachi</td>\n",
       "      <td>24.9918</td>\n",
       "      <td>66.9911</td>\n",
       "      <td>Sindh</td>\n",
       "      <td>...</td>\n",
       "      <td>Christian</td>\n",
       "      <td>13.0</td>\n",
       "      <td>15.0</td>\n",
       "      <td>20.0</td>\n",
       "      <td>40</td>\n",
       "      <td>1.0</td>\n",
       "      <td>2.5 Kg</td>\n",
       "      <td>1.Jinnah Postgraduate Medical Center 2. Civil ...</td>\n",
       "      <td>31.460</td>\n",
       "      <td>88.628</td>\n",
       "    </tr>\n",
       "    <tr>\n",
       "      <th>3</th>\n",
       "      <td>4</td>\n",
       "      <td>Friday-June 14-2002</td>\n",
       "      <td>3 Raby` al-THaany 1423 A.H</td>\n",
       "      <td>Working Day</td>\n",
       "      <td>NaN</td>\n",
       "      <td>11:10:00 AM</td>\n",
       "      <td>Karachi</td>\n",
       "      <td>24.9918</td>\n",
       "      <td>66.9911</td>\n",
       "      <td>Sindh</td>\n",
       "      <td>...</td>\n",
       "      <td>Christian</td>\n",
       "      <td>NaN</td>\n",
       "      <td>12.0</td>\n",
       "      <td>NaN</td>\n",
       "      <td>51</td>\n",
       "      <td>1.0</td>\n",
       "      <td>NaN</td>\n",
       "      <td>NaN</td>\n",
       "      <td>31.430</td>\n",
       "      <td>88.574</td>\n",
       "    </tr>\n",
       "    <tr>\n",
       "      <th>4</th>\n",
       "      <td>5</td>\n",
       "      <td>Friday-July 4-2003</td>\n",
       "      <td>4 Jumaada al-awal 1424 A.H</td>\n",
       "      <td>Working Day</td>\n",
       "      <td>NaN</td>\n",
       "      <td>NaN</td>\n",
       "      <td>Quetta</td>\n",
       "      <td>30.2095</td>\n",
       "      <td>67.0182</td>\n",
       "      <td>Baluchistan</td>\n",
       "      <td>...</td>\n",
       "      <td>Shiite</td>\n",
       "      <td>44.0</td>\n",
       "      <td>47.0</td>\n",
       "      <td>NaN</td>\n",
       "      <td>65</td>\n",
       "      <td>1.0</td>\n",
       "      <td>NaN</td>\n",
       "      <td>1.CMH Quetta \\n2.Civil Hospital 3. Boland Medi...</td>\n",
       "      <td>33.120</td>\n",
       "      <td>91.616</td>\n",
       "    </tr>\n",
       "  </tbody>\n",
       "</table>\n",
       "<p>5 rows × 26 columns</p>\n",
       "</div>"
      ],
      "text/plain": [
       "   S#                     Date                   Islamic Date Blast Day Type  \\\n",
       "0   1  Sunday-November 19-1995  25 Jumaada al-THaany 1416 A.H        Holiday   \n",
       "1   2   Monday-November 6-2000           10 SHa`baan 1421 A.H    Working Day   \n",
       "2   3     Wednesday-May 8-2002              25 safar 1423 A.H    Working Day   \n",
       "3   4      Friday-June 14-2002     3 Raby` al-THaany 1423 A.H    Working Day   \n",
       "4   5       Friday-July 4-2003     4 Jumaada al-awal 1424 A.H    Working Day   \n",
       "\n",
       "  Holiday Type         Time       City  Latitude Longitude     Province  ...  \\\n",
       "0      Weekend          NaN  Islamabad   33.7180   73.0718      Capital  ...   \n",
       "1          NaN          NaN    Karachi   24.9918   66.9911        Sindh  ...   \n",
       "2          NaN      7:45 AM   Karachi    24.9918   66.9911        Sindh  ...   \n",
       "3          NaN  11:10:00 AM    Karachi   24.9918   66.9911        Sindh  ...   \n",
       "4          NaN          NaN     Quetta   30.2095   67.0182  Baluchistan  ...   \n",
       "\n",
       "  Targeted Sect if any Killed Min Killed Max Injured Min Injured Max  \\\n",
       "0                  NaN       14.0       15.0         NaN          60   \n",
       "1                  NaN        NaN        3.0         NaN           3   \n",
       "2            Christian       13.0       15.0        20.0          40   \n",
       "3            Christian        NaN       12.0         NaN          51   \n",
       "4               Shiite       44.0       47.0         NaN          65   \n",
       "\n",
       "  No. of Suicide Blasts Explosive Weight (max)  \\\n",
       "0                   2.0                    NaN   \n",
       "1                   1.0                    NaN   \n",
       "2                   1.0                 2.5 Kg   \n",
       "3                   1.0                    NaN   \n",
       "4                   1.0                    NaN   \n",
       "\n",
       "                                      Hospital Names  Temperature(C)  \\\n",
       "0                                                NaN          15.835   \n",
       "1                                                NaN          23.770   \n",
       "2  1.Jinnah Postgraduate Medical Center 2. Civil ...          31.460   \n",
       "3                                                NaN          31.430   \n",
       "4  1.CMH Quetta \\n2.Civil Hospital 3. Boland Medi...          33.120   \n",
       "\n",
       "   Temperature(F)  \n",
       "0          60.503  \n",
       "1          74.786  \n",
       "2          88.628  \n",
       "3          88.574  \n",
       "4          91.616  \n",
       "\n",
       "[5 rows x 26 columns]"
      ]
     },
     "execution_count": 74,
     "metadata": {},
     "output_type": "execute_result"
    }
   ],
   "source": [
    "# veri setinden ilk beş veriyi listeler\n",
    "data.head()"
   ]
  },
  {
   "cell_type": "code",
   "execution_count": 75,
   "metadata": {},
   "outputs": [
    {
     "data": {
      "text/plain": [
       "S#                           int64\n",
       "Date                        object\n",
       "Islamic Date                object\n",
       "Blast Day Type              object\n",
       "Holiday Type                object\n",
       "Time                        object\n",
       "City                        object\n",
       "Latitude                   float64\n",
       "Longitude                   object\n",
       "Province                    object\n",
       "Location                    object\n",
       "Location Category           object\n",
       "Location Sensitivity        object\n",
       "Open/Closed Space           object\n",
       "Influencing Event/Event     object\n",
       "Target Type                 object\n",
       "Targeted Sect if any        object\n",
       "Killed Min                 float64\n",
       "Killed Max                 float64\n",
       "Injured Min                float64\n",
       "Injured Max                 object\n",
       "No. of Suicide Blasts      float64\n",
       "Explosive Weight (max)      object\n",
       "Hospital Names              object\n",
       "Temperature(C)             float64\n",
       "Temperature(F)             float64\n",
       "dtype: object"
      ]
     },
     "execution_count": 75,
     "metadata": {},
     "output_type": "execute_result"
    }
   ],
   "source": [
    "# veri setindeki sutunları ve veri tiplerini gösterir\n",
    "data.dtypes"
   ]
  },
  {
   "cell_type": "code",
   "execution_count": 76,
   "metadata": {},
   "outputs": [
    {
     "data": {
      "text/plain": [
       "Index(['S#', 'Date', 'Islamic Date', 'Blast Day Type', 'Holiday Type', 'Time',\n",
       "       'City', 'Latitude', 'Longitude', 'Province', 'Location',\n",
       "       'Location Category', 'Location Sensitivity', 'Open/Closed Space',\n",
       "       'Influencing Event/Event', 'Target Type', 'Targeted Sect if any',\n",
       "       'Killed Min', 'Killed Max', 'Injured Min', 'Injured Max',\n",
       "       'No. of Suicide Blasts', 'Explosive Weight (max)', 'Hospital Names',\n",
       "       'Temperature(C)', 'Temperature(F)'],\n",
       "      dtype='object')"
      ]
     },
     "execution_count": 76,
     "metadata": {},
     "output_type": "execute_result"
    }
   ],
   "source": [
    "# veri setinin sutun adlarını gösterir\n",
    "data.columns"
   ]
  },
  {
   "cell_type": "code",
   "execution_count": 77,
   "metadata": {},
   "outputs": [
    {
     "data": {
      "text/plain": [
       "S#                           0\n",
       "Date                         0\n",
       "Islamic Date               154\n",
       "Blast Day Type              10\n",
       "Holiday Type               424\n",
       "Time                       211\n",
       "City                         0\n",
       "Latitude                     3\n",
       "Longitude                    3\n",
       "Province                     0\n",
       "Location                     3\n",
       "Location Category           35\n",
       "Location Sensitivity        36\n",
       "Open/Closed Space           35\n",
       "Influencing Event/Event    305\n",
       "Target Type                 26\n",
       "Targeted Sect if any       399\n",
       "Killed Min                 146\n",
       "Killed Max                  16\n",
       "Injured Min                131\n",
       "Injured Max                 32\n",
       "No. of Suicide Blasts       82\n",
       "Explosive Weight (max)     324\n",
       "Hospital Names             199\n",
       "Temperature(C)               5\n",
       "Temperature(F)               7\n",
       "dtype: int64"
      ]
     },
     "execution_count": 77,
     "metadata": {},
     "output_type": "execute_result"
    }
   ],
   "source": [
    "# veri setindeki null değerleri gösterir\n",
    "data.isnull().sum()"
   ]
  },
  {
   "cell_type": "code",
   "execution_count": 78,
   "metadata": {},
   "outputs": [
    {
     "data": {
      "text/plain": [
       "<Axes: >"
      ]
     },
     "execution_count": 78,
     "metadata": {},
     "output_type": "execute_result"
    },
    {
     "data": {
      "image/png": "[encoded data removed]",
      "text/plain": [
       "<Figure size 640x480 with 1 Axes>"
      ]
     },
     "metadata": {},
     "output_type": "display_data"
    }
   ],
   "source": [
    "# veri setinde null değere sahip olanları görsel bir şekilde gösterir\n",
    "sns.heatmap(data.isnull(), cbar=False)"
   ]
  },
  {
   "cell_type": "code",
   "execution_count": 79,
   "metadata": {},
   "outputs": [
    {
     "name": "stdout",
     "output_type": "stream",
     "text": [
      "<class 'pandas.core.frame.DataFrame'>\n",
      "RangeIndex: 496 entries, 0 to 495\n",
      "Data columns (total 26 columns):\n",
      " #   Column                   Non-Null Count  Dtype  \n",
      "---  ------                   --------------  -----  \n",
      " 0   S#                       496 non-null    int64  \n",
      " 1   Date                     496 non-null    object \n",
      " 2   Islamic Date             342 non-null    object \n",
      " 3   Blast Day Type           486 non-null    object \n",
      " 4   Holiday Type             72 non-null     object \n",
      " 5   Time                     285 non-null    object \n",
      " 6   City                     496 non-null    object \n",
      " 7   Latitude                 493 non-null    float64\n",
      " 8   Longitude                493 non-null    object \n",
      " 9   Province                 496 non-null    object \n",
      " 10  Location                 493 non-null    object \n",
      " 11  Location Category        461 non-null    object \n",
      " 12  Location Sensitivity     460 non-null    object \n",
      " 13  Open/Closed Space        461 non-null    object \n",
      " 14  Influencing Event/Event  191 non-null    object \n",
      " 15  Target Type              470 non-null    object \n",
      " 16  Targeted Sect if any     97 non-null     object \n",
      " 17  Killed Min               350 non-null    float64\n",
      " 18  Killed Max               480 non-null    float64\n",
      " 19  Injured Min              365 non-null    float64\n",
      " 20  Injured Max              464 non-null    object \n",
      " 21  No. of Suicide Blasts    414 non-null    float64\n",
      " 22  Explosive Weight (max)   172 non-null    object \n",
      " 23  Hospital Names           297 non-null    object \n",
      " 24  Temperature(C)           491 non-null    float64\n",
      " 25  Temperature(F)           489 non-null    float64\n",
      "dtypes: float64(7), int64(1), object(18)\n",
      "memory usage: 100.9+ KB\n"
     ]
    }
   ],
   "source": [
    "# Sütunlar hakkında genel bilgi sağlar\n",
    "data.info()"
   ]
  },
  {
   "cell_type": "code",
   "execution_count": 80,
   "metadata": {},
   "outputs": [
    {
     "data": {
      "text/html": [
       "<div>\n",
       "<style scoped>\n",
       "    .dataframe tbody tr th:only-of-type {\n",
       "        vertical-align: middle;\n",
       "    }\n",
       "\n",
       "    .dataframe tbody tr th {\n",
       "        vertical-align: top;\n",
       "    }\n",
       "\n",
       "    .dataframe thead th {\n",
       "        text-align: right;\n",
       "    }\n",
       "</style>\n",
       "<table border=\"1\" class=\"dataframe\">\n",
       "  <thead>\n",
       "    <tr style=\"text-align: right;\">\n",
       "      <th></th>\n",
       "      <th>S#</th>\n",
       "      <th>Latitude</th>\n",
       "      <th>Killed Min</th>\n",
       "      <th>Killed Max</th>\n",
       "      <th>Injured Min</th>\n",
       "      <th>No. of Suicide Blasts</th>\n",
       "      <th>Temperature(C)</th>\n",
       "      <th>Temperature(F)</th>\n",
       "    </tr>\n",
       "  </thead>\n",
       "  <tbody>\n",
       "    <tr>\n",
       "      <th>count</th>\n",
       "      <td>496.000000</td>\n",
       "      <td>493.000000</td>\n",
       "      <td>350.000000</td>\n",
       "      <td>480.000000</td>\n",
       "      <td>365.000000</td>\n",
       "      <td>414.000000</td>\n",
       "      <td>491.000000</td>\n",
       "      <td>489.000000</td>\n",
       "    </tr>\n",
       "    <tr>\n",
       "      <th>mean</th>\n",
       "      <td>248.500000</td>\n",
       "      <td>32.614705</td>\n",
       "      <td>14.725714</td>\n",
       "      <td>15.206250</td>\n",
       "      <td>31.397260</td>\n",
       "      <td>1.115942</td>\n",
       "      <td>21.111599</td>\n",
       "      <td>69.972579</td>\n",
       "    </tr>\n",
       "    <tr>\n",
       "      <th>std</th>\n",
       "      <td>143.327132</td>\n",
       "      <td>2.475917</td>\n",
       "      <td>17.600930</td>\n",
       "      <td>20.270436</td>\n",
       "      <td>38.603842</td>\n",
       "      <td>0.394989</td>\n",
       "      <td>8.369068</td>\n",
       "      <td>15.069622</td>\n",
       "    </tr>\n",
       "    <tr>\n",
       "      <th>min</th>\n",
       "      <td>1.000000</td>\n",
       "      <td>24.879503</td>\n",
       "      <td>0.000000</td>\n",
       "      <td>0.000000</td>\n",
       "      <td>0.000000</td>\n",
       "      <td>1.000000</td>\n",
       "      <td>-2.370000</td>\n",
       "      <td>27.734000</td>\n",
       "    </tr>\n",
       "    <tr>\n",
       "      <th>25%</th>\n",
       "      <td>124.750000</td>\n",
       "      <td>31.823800</td>\n",
       "      <td>3.000000</td>\n",
       "      <td>3.000000</td>\n",
       "      <td>7.000000</td>\n",
       "      <td>1.000000</td>\n",
       "      <td>14.690000</td>\n",
       "      <td>58.370000</td>\n",
       "    </tr>\n",
       "    <tr>\n",
       "      <th>50%</th>\n",
       "      <td>248.500000</td>\n",
       "      <td>33.583300</td>\n",
       "      <td>8.000000</td>\n",
       "      <td>8.000000</td>\n",
       "      <td>20.000000</td>\n",
       "      <td>1.000000</td>\n",
       "      <td>21.405000</td>\n",
       "      <td>70.529000</td>\n",
       "    </tr>\n",
       "    <tr>\n",
       "      <th>75%</th>\n",
       "      <td>372.250000</td>\n",
       "      <td>34.004300</td>\n",
       "      <td>20.000000</td>\n",
       "      <td>18.250000</td>\n",
       "      <td>40.000000</td>\n",
       "      <td>1.000000</td>\n",
       "      <td>28.115000</td>\n",
       "      <td>82.499000</td>\n",
       "    </tr>\n",
       "    <tr>\n",
       "      <th>max</th>\n",
       "      <td>496.000000</td>\n",
       "      <td>35.383300</td>\n",
       "      <td>125.000000</td>\n",
       "      <td>148.000000</td>\n",
       "      <td>320.000000</td>\n",
       "      <td>4.000000</td>\n",
       "      <td>44.000000</td>\n",
       "      <td>111.000000</td>\n",
       "    </tr>\n",
       "  </tbody>\n",
       "</table>\n",
       "</div>"
      ],
      "text/plain": [
       "               S#    Latitude  Killed Min  Killed Max  Injured Min  \\\n",
       "count  496.000000  493.000000  350.000000  480.000000   365.000000   \n",
       "mean   248.500000   32.614705   14.725714   15.206250    31.397260   \n",
       "std    143.327132    2.475917   17.600930   20.270436    38.603842   \n",
       "min      1.000000   24.879503    0.000000    0.000000     0.000000   \n",
       "25%    124.750000   31.823800    3.000000    3.000000     7.000000   \n",
       "50%    248.500000   33.583300    8.000000    8.000000    20.000000   \n",
       "75%    372.250000   34.004300   20.000000   18.250000    40.000000   \n",
       "max    496.000000   35.383300  125.000000  148.000000   320.000000   \n",
       "\n",
       "       No. of Suicide Blasts  Temperature(C)  Temperature(F)  \n",
       "count             414.000000      491.000000      489.000000  \n",
       "mean                1.115942       21.111599       69.972579  \n",
       "std                 0.394989        8.369068       15.069622  \n",
       "min                 1.000000       -2.370000       27.734000  \n",
       "25%                 1.000000       14.690000       58.370000  \n",
       "50%                 1.000000       21.405000       70.529000  \n",
       "75%                 1.000000       28.115000       82.499000  \n",
       "max                 4.000000       44.000000      111.000000  "
      ]
     },
     "execution_count": 80,
     "metadata": {},
     "output_type": "execute_result"
    }
   ],
   "source": [
    "# veri seri için aşağıda listelenen özellikleri görmek için\n",
    "data.describe()\n",
    "# count: Toplam veri sayısı (eksik veriler hariç)\n",
    "# mean: Ortalama değer\n",
    "# std: Standart sapma\n",
    "# min: En küçük değer\n",
    "# 25%: Birinci çeyrek (Q1)\n",
    "# 50%: Medyan (ikinci çeyrek, Q2)\n",
    "# 75%: Üçüncü çeyrek (Q3)\n",
    "# max: En büyük değer"
   ]
  },
  {
   "cell_type": "markdown",
   "metadata": {},
   "source": [
    "*** VERİ ÖN İŞLEMESİ ***"
   ]
  },
  {
   "cell_type": "code",
   "execution_count": 81,
   "metadata": {},
   "outputs": [
    {
     "name": "stdout",
     "output_type": "stream",
     "text": [
      "(496, 26)\n",
      "(496, 26)\n"
     ]
    }
   ],
   "source": [
    "print(data.shape) # eski dataFrame\n",
    "\n",
    "df = data # yeni dataFrame (Üzerinde işlemler yapacağımız)\n",
    "print(df.shape)"
   ]
  },
  {
   "cell_type": "markdown",
   "metadata": {},
   "source": [
    "1. 'S#' Sütununu Siliyourz"
   ]
  },
  {
   "cell_type": "code",
   "execution_count": 82,
   "metadata": {},
   "outputs": [
    {
     "data": {
      "text/html": [
       "<div>\n",
       "<style scoped>\n",
       "    .dataframe tbody tr th:only-of-type {\n",
       "        vertical-align: middle;\n",
       "    }\n",
       "\n",
       "    .dataframe tbody tr th {\n",
       "        vertical-align: top;\n",
       "    }\n",
       "\n",
       "    .dataframe thead th {\n",
       "        text-align: right;\n",
       "    }\n",
       "</style>\n",
       "<table border=\"1\" class=\"dataframe\">\n",
       "  <thead>\n",
       "    <tr style=\"text-align: right;\">\n",
       "      <th></th>\n",
       "      <th>Date</th>\n",
       "      <th>Islamic Date</th>\n",
       "      <th>Blast Day Type</th>\n",
       "      <th>Holiday Type</th>\n",
       "      <th>Time</th>\n",
       "      <th>City</th>\n",
       "      <th>Latitude</th>\n",
       "      <th>Longitude</th>\n",
       "      <th>Province</th>\n",
       "      <th>Location</th>\n",
       "      <th>...</th>\n",
       "      <th>Targeted Sect if any</th>\n",
       "      <th>Killed Min</th>\n",
       "      <th>Killed Max</th>\n",
       "      <th>Injured Min</th>\n",
       "      <th>Injured Max</th>\n",
       "      <th>No. of Suicide Blasts</th>\n",
       "      <th>Explosive Weight (max)</th>\n",
       "      <th>Hospital Names</th>\n",
       "      <th>Temperature(C)</th>\n",
       "      <th>Temperature(F)</th>\n",
       "    </tr>\n",
       "  </thead>\n",
       "  <tbody>\n",
       "    <tr>\n",
       "      <th>0</th>\n",
       "      <td>Sunday-November 19-1995</td>\n",
       "      <td>25 Jumaada al-THaany 1416 A.H</td>\n",
       "      <td>Holiday</td>\n",
       "      <td>Weekend</td>\n",
       "      <td>NaN</td>\n",
       "      <td>Islamabad</td>\n",
       "      <td>33.7180</td>\n",
       "      <td>73.0718</td>\n",
       "      <td>Capital</td>\n",
       "      <td>Egyptian Embassy</td>\n",
       "      <td>...</td>\n",
       "      <td>NaN</td>\n",
       "      <td>14.0</td>\n",
       "      <td>15.0</td>\n",
       "      <td>NaN</td>\n",
       "      <td>60</td>\n",
       "      <td>2.0</td>\n",
       "      <td>NaN</td>\n",
       "      <td>NaN</td>\n",
       "      <td>15.835</td>\n",
       "      <td>60.503</td>\n",
       "    </tr>\n",
       "    <tr>\n",
       "      <th>1</th>\n",
       "      <td>Monday-November 6-2000</td>\n",
       "      <td>10 SHa`baan 1421 A.H</td>\n",
       "      <td>Working Day</td>\n",
       "      <td>NaN</td>\n",
       "      <td>NaN</td>\n",
       "      <td>Karachi</td>\n",
       "      <td>24.9918</td>\n",
       "      <td>66.9911</td>\n",
       "      <td>Sindh</td>\n",
       "      <td>office of Nawa-e-Waqt</td>\n",
       "      <td>...</td>\n",
       "      <td>NaN</td>\n",
       "      <td>NaN</td>\n",
       "      <td>3.0</td>\n",
       "      <td>NaN</td>\n",
       "      <td>3</td>\n",
       "      <td>1.0</td>\n",
       "      <td>NaN</td>\n",
       "      <td>NaN</td>\n",
       "      <td>23.770</td>\n",
       "      <td>74.786</td>\n",
       "    </tr>\n",
       "  </tbody>\n",
       "</table>\n",
       "<p>2 rows × 25 columns</p>\n",
       "</div>"
      ],
      "text/plain": [
       "                      Date                   Islamic Date Blast Day Type  \\\n",
       "0  Sunday-November 19-1995  25 Jumaada al-THaany 1416 A.H        Holiday   \n",
       "1   Monday-November 6-2000           10 SHa`baan 1421 A.H    Working Day   \n",
       "\n",
       "  Holiday Type Time       City  Latitude Longitude Province  \\\n",
       "0      Weekend  NaN  Islamabad   33.7180   73.0718  Capital   \n",
       "1          NaN  NaN    Karachi   24.9918   66.9911    Sindh   \n",
       "\n",
       "                Location  ... Targeted Sect if any Killed Min Killed Max  \\\n",
       "0       Egyptian Embassy  ...                  NaN       14.0       15.0   \n",
       "1  office of Nawa-e-Waqt  ...                  NaN        NaN        3.0   \n",
       "\n",
       "  Injured Min Injured Max No. of Suicide Blasts  Explosive Weight (max)  \\\n",
       "0         NaN          60                   2.0                     NaN   \n",
       "1         NaN           3                   1.0                     NaN   \n",
       "\n",
       "   Hospital Names  Temperature(C) Temperature(F)  \n",
       "0             NaN          15.835         60.503  \n",
       "1             NaN          23.770         74.786  \n",
       "\n",
       "[2 rows x 25 columns]"
      ]
     },
     "execution_count": 82,
     "metadata": {},
     "output_type": "execute_result"
    }
   ],
   "source": [
    "# index sütununa gerek duyulmadığı için S sütununu sildik (Öte yandan index gösterimi zaten mevcut)\n",
    "df = df.drop('S#', axis = 1, inplace = False)\n",
    "# index sutunu zaten var olduğu için  s# sütunun kaldırdık\n",
    "# axis = 1 : sutun değeri için\n",
    "# axis = 0 : satır değeri için\n",
    "# inplace = True : Orjinal veri üzerinde bu işlemi yapar\n",
    "# inplace = False : Değişiklikleri yeni bir değişkene atar\n",
    "\n",
    "df.head(2)"
   ]
  },
  {
   "cell_type": "markdown",
   "metadata": {},
   "source": [
    "2. 'Blast Day Type' Sütunu üzerinde çalışıyoruz"
   ]
  },
  {
   "cell_type": "code",
   "execution_count": 83,
   "metadata": {},
   "outputs": [
    {
     "name": "stdout",
     "output_type": "stream",
     "text": [
      "\n",
      "Number of Null Values in 'Blast Day Type' Column:  10\n",
      "\n",
      " Blast Day Type\n",
      "Working Day    403\n",
      "Holiday         78\n",
      "Weekend          5\n",
      "Name: count, dtype: int64\n"
     ]
    }
   ],
   "source": [
    "# Patlama günü türü sütunundaki boş değerler\n",
    "print(\"\\nNumber of Null Values in 'Blast Day Type' Column: \", df['Blast Day Type'].isnull().sum())\n",
    "\n",
    "print(\"\\n\", df['Blast Day Type'].value_counts())"
   ]
  },
  {
   "cell_type": "code",
   "execution_count": 84,
   "metadata": {},
   "outputs": [
    {
     "name": "stdout",
     "output_type": "stream",
     "text": [
      "\n",
      "Most Repeated Category is:  Working Day\n",
      "Number of Null Values in 'Blast Day' Column after Replacement:  0\n"
     ]
    }
   ],
   "source": [
    "# En çok tekrar eden değeri (modu) bulma\n",
    "most_common_value = df['Blast Day Type'].mode()[0]\n",
    "\n",
    "# Boş sütunlara mod değerini atama\n",
    "df['Blast Day Type'].fillna(most_common_value, inplace=True)\n",
    "\n",
    "# Sütundaki mod değerini yazdırıyoruz\n",
    "print(\"\\nMost Repeated Category is: \", most_common_value)\n",
    "\n",
    "# Boş değerlerin değiştirilmesinden sonra 'Blast Day' Sütunundaki boş değer sayısı\n",
    "print(\"Number of Null Values in 'Blast Day' Column after Replacement: \", df['Blast Day Type'].isnull().sum())"
   ]
  },
  {
   "cell_type": "markdown",
   "metadata": {},
   "source": [
    "3. 'Location Category' Sütunu üzerinde çalışıyoruz"
   ]
  },
  {
   "cell_type": "code",
   "execution_count": 85,
   "metadata": {},
   "outputs": [
    {
     "name": "stdout",
     "output_type": "stream",
     "text": [
      "\n",
      "Number of Null Values in 'Location Category' Column:  35\n"
     ]
    }
   ],
   "source": [
    "# Konum kategorisi sütunundaki boş değer sayısı\n",
    "print(\"\\nNumber of Null Values in 'Location Category' Column: \", df['Location Category'].isnull().sum())"
   ]
  },
  {
   "cell_type": "code",
   "execution_count": 86,
   "metadata": {},
   "outputs": [
    {
     "data": {
      "text/plain": [
       "Location Category\n",
       "Police                        92\n",
       "Military                      70\n",
       "Mobile                        70\n",
       "Religious                     57\n",
       "Market                        40\n",
       "Park/Ground                   32\n",
       "Residence                     25\n",
       "Government                    19\n",
       "Hotel                         10\n",
       "Office Building                9\n",
       "Foreign                        6\n",
       "Educational                    6\n",
       "Transport                      5\n",
       "Hospital                       5\n",
       "Bank                           4\n",
       "Commercial/residence           2\n",
       "Airport                        1\n",
       "Civilian                       1\n",
       "Foreigner                      1\n",
       "Government Official            1\n",
       "Government/Office Building     1\n",
       "foreign                        1\n",
       "Residential Building           1\n",
       "                               1\n",
       "Highway                        1\n",
       "Name: count, dtype: int64"
      ]
     },
     "execution_count": 86,
     "metadata": {},
     "output_type": "execute_result"
    }
   ],
   "source": [
    "df['Location Category'].value_counts()"
   ]
  },
  {
   "cell_type": "code",
   "execution_count": 87,
   "metadata": {},
   "outputs": [
    {
     "name": "stdout",
     "output_type": "stream",
     "text": [
      "\n",
      "Number of Null Values in 'Location Category' Column:  0\n"
     ]
    }
   ],
   "source": [
    "# Boş değerleri 'Unknown' olarak değiştiriyoruz\n",
    "df['Location Category'] = df['Location Category'].fillna('Unknown')\n",
    "\n",
    "# Sütun değerlerinde ilgili değiştirmeler yapıldı\n",
    "df['Location Category'] = df['Location Category'].replace({' ':'Unknown'})\n",
    "df['Location Category'] = df['Location Category'].replace({'foreign':'Foreign'})\n",
    "df['Location Category'] = df['Location Category'].replace({'Foreigner':'Foreign'})\n",
    "df['Location Category'] = df['Location Category'].replace({'Government/Office Building':'Government'})\n",
    "df['Location Category'] = df['Location Category'].replace({'Government Official':'Government'})\n",
    "df['Location Category'] = df['Location Category'].replace({'Residential Building':'Residence'})\n",
    "df['Location Category'] = df['Location Category'].replace({'Commercial/residence':'Residence'})\n",
    "\n",
    "print(\"\\nNumber of Null Values in 'Location Category' Column: \", df['Location Category'].isna().sum())"
   ]
  },
  {
   "cell_type": "code",
   "execution_count": 88,
   "metadata": {},
   "outputs": [
    {
     "data": {
      "text/plain": [
       "Location Category\n",
       "Police             92\n",
       "Mobile             70\n",
       "Military           70\n",
       "Religious          57\n",
       "Market             40\n",
       "Unknown            36\n",
       "Park/Ground        32\n",
       "Residence          28\n",
       "Government         21\n",
       "Hotel              10\n",
       "Office Building     9\n",
       "Foreign             8\n",
       "Educational         6\n",
       "Hospital            5\n",
       "Transport           5\n",
       "Bank                4\n",
       "Airport             1\n",
       "Civilian            1\n",
       "Highway             1\n",
       "Name: count, dtype: int64"
      ]
     },
     "execution_count": 88,
     "metadata": {},
     "output_type": "execute_result"
    }
   ],
   "source": [
    "df['Location Category'].value_counts()"
   ]
  },
  {
   "cell_type": "markdown",
   "metadata": {},
   "source": [
    "4. 'Location Sensitivity' Sütunu Üzerinde Çalışıyoruz"
   ]
  },
  {
   "cell_type": "code",
   "execution_count": 89,
   "metadata": {},
   "outputs": [
    {
     "name": "stdout",
     "output_type": "stream",
     "text": [
      "\n",
      "Number of Null Values in 'Location Senstivity' Column: 36\n"
     ]
    },
    {
     "data": {
      "text/plain": [
       "Location Sensitivity\n",
       "High      264\n",
       "Low       118\n",
       "Medium     75\n",
       "low         3\n",
       "Name: count, dtype: int64"
      ]
     },
     "execution_count": 89,
     "metadata": {},
     "output_type": "execute_result"
    }
   ],
   "source": [
    "# Konum hassasiyeti sütunundaki boş değer sayısı\n",
    "print(\"\\nNumber of Null Values in 'Location Senstivity' Column: \" + str(df['Location Sensitivity'].isnull().sum()))\n",
    "\n",
    "# Konum hassasiyeti sütunundaki kategoriler ve değerleri\n",
    "df['Location Sensitivity'].value_counts()\n",
    "# Hing : Güvenlik seviyesi çok düşük\n",
    "# Low  : Güvenlik seviyesi çok yüksek"
   ]
  },
  {
   "cell_type": "code",
   "execution_count": 90,
   "metadata": {},
   "outputs": [
    {
     "name": "stdout",
     "output_type": "stream",
     "text": [
      "Number of Null values in the Location Senstivity Column after replacement:  0\n"
     ]
    }
   ],
   "source": [
    "# Mod değerini alıyoruz\n",
    "most_repeated_Location_Senstitvity = df['Location Sensitivity'].mode()[0]\n",
    "\n",
    "# Mod değeri ile boş değerleri değiştiriyoruz\n",
    "df['Location Sensitivity'] = df['Location Sensitivity'].fillna(most_repeated_Location_Senstitvity)\n",
    "\n",
    "# Sütun değerinde ilgli değişiklikler yapıldı\n",
    "df['Location Sensitivity'] = df['Location Sensitivity'].replace({'low':'Low'})\n",
    "\n",
    "# Değişiklikten sonrası\n",
    "print(\"Number of Null values in the Location Senstivity Column after replacement: \",df['Location Sensitivity'].isna().sum() )"
   ]
  },
  {
   "cell_type": "code",
   "execution_count": 91,
   "metadata": {},
   "outputs": [
    {
     "data": {
      "text/plain": [
       "Location Sensitivity\n",
       "High      300\n",
       "Low       121\n",
       "Medium     75\n",
       "Name: count, dtype: int64"
      ]
     },
     "execution_count": 91,
     "metadata": {},
     "output_type": "execute_result"
    }
   ],
   "source": [
    "df['Location Sensitivity'].value_counts()"
   ]
  },
  {
   "cell_type": "markdown",
   "metadata": {},
   "source": [
    "5. 'Target Type' Sütunu Üzerinde Çalışıyoruz"
   ]
  },
  {
   "cell_type": "code",
   "execution_count": 92,
   "metadata": {},
   "outputs": [
    {
     "name": "stdout",
     "output_type": "stream",
     "text": [
      "\n",
      "Number of Null Values in 'Target Type' Column:  26\n",
      "\n",
      "Target Type\n",
      "Military               116\n",
      "Police                 114\n",
      "Civilian                72\n",
      "Government Official     44\n",
      "Religious               36\n",
      "Anti-Militants          26\n",
      "Foreigner               14\n",
      "civilian                12\n",
      "Government official      8\n",
      "religious                7\n",
      "foreigner                3\n",
      "police                   3\n",
      "Media                    2\n",
      "Army                     2\n",
      "Shia sect                2\n",
      "Children/Women           1\n",
      "Rangers                  1\n",
      "Unknown                  1\n",
      "Civilian & Police        1\n",
      "Police & Rangers         1\n",
      "Frontier Corps           1\n",
      "advocates (lawyers)      1\n",
      "Civilian Judges          1\n",
      "Judges & lawyers         1\n",
      "Name: count, dtype: int64\n"
     ]
    }
   ],
   "source": [
    "# Hedef türü sütunundaki boş değer sayısı\n",
    "print(\"\\nNumber of Null Values in 'Target Type' Column: \", df['Target Type'].isnull().sum())\n",
    "print()\n",
    "\n",
    "# Sütun değerleri ve sayısı\n",
    "print(df['Target Type'].value_counts())"
   ]
  },
  {
   "cell_type": "code",
   "execution_count": 93,
   "metadata": {},
   "outputs": [
    {
     "name": "stdout",
     "output_type": "stream",
     "text": [
      "['Military', 'Police', 'Civilian']\n"
     ]
    }
   ],
   "source": [
    "# En çok tekrarlanan ilk 3 kategoriye bakıyoruz\n",
    "top_categories = df['Target Type'].value_counts().head(3).index.tolist()\n",
    "\n",
    "print(top_categories)"
   ]
  },
  {
   "cell_type": "code",
   "execution_count": 94,
   "metadata": {},
   "outputs": [],
   "source": [
    "# Boş değerleri en çok tekrar eden ilk üç kategoriden rastgele bir seçimle dolduruyouruz\n",
    "def fill_nan_with_random_category(Target_Type):\n",
    "    # Sütun içerisinde boş değerler karşılaşmayı bekliyoruz\n",
    "    if pd.isna(Target_Type):\n",
    "        # top_categories listesinde saklanan değerlerden rastgele değer ataması yapıyoruz\n",
    "        return np.random.choice(top_categories)\n",
    "    else:\n",
    "        return Target_Type"
   ]
  },
  {
   "cell_type": "code",
   "execution_count": 95,
   "metadata": {},
   "outputs": [],
   "source": [
    "# Apply the function to fill NaN values\n",
    "df['Target Type'] = df['Target Type'].apply(fill_nan_with_random_category)\n",
    "\n",
    "\n",
    "# Sütun değerlerinde ilgili değişiklikler yapıldı\n",
    "df['Target Type'] = df['Target Type'].replace({'police':'Police'})\n",
    "df['Target Type'] = df['Target Type'].replace({'Unknown':'Police'})\n",
    "df['Target Type'] = df['Target Type'].replace({'foreigner':'Foreigner'})\n",
    "df['Target Type'] = df['Target Type'].replace({'religious':'Religious'})\n",
    "df['Target Type'] = df['Target Type'].replace({'civilian':'Civilian'})\n",
    "df['Target Type'] = df['Target Type'].replace({'Government official':'Government Official'})\n",
    "df['Target Type'] = df['Target Type'].replace({'Police & Rangers':'Police'})\n",
    "df['Target Type'] = df['Target Type'].replace({'Rangers':'Police'})\n",
    "df['Target Type'] = df['Target Type'].replace({'Civilian Judges':'Civilian'})\n",
    "df['Target Type'] = df['Target Type'].replace({'Civilian & Police':'Civilian'})\n",
    "df['Target Type'] = df['Target Type'].replace({'Children/Women':'Civilian'})\n",
    "df['Target Type'] = df['Target Type'].replace({'Judges & lawyers':'Civilian'})\n",
    "df['Target Type'] = df['Target Type'].replace({'advocates (lawyers)':'Civilian'})\n",
    "df['Target Type'] = df['Target Type'].replace({'Frontier Corps ':'Military'})\n",
    "df['Target Type'] = df['Target Type'].replace({'Army':'Military'})"
   ]
  },
  {
   "cell_type": "code",
   "execution_count": 96,
   "metadata": {},
   "outputs": [
    {
     "name": "stdout",
     "output_type": "stream",
     "text": [
      "\n",
      "Number of Null Values in 'Target Type' Column:  0\n",
      "\n",
      "Target Type\n",
      "Police                 131\n",
      "Military               128\n",
      "Civilian                95\n",
      "Government Official     52\n",
      "Religious               43\n",
      "Anti-Militants          26\n",
      "Foreigner               17\n",
      "Media                    2\n",
      "Shia sect                2\n",
      "Name: count, dtype: int64\n"
     ]
    }
   ],
   "source": [
    "# Değişiklikten sonraki boş değerler\n",
    "print(\"\\nNumber of Null Values in 'Target Type' Column: \", df['Target Type'].isnull().sum())\n",
    "print()\n",
    "\n",
    "# Sütun değerlerinin ve sayısı\n",
    "print(df['Target Type'].value_counts())"
   ]
  },
  {
   "cell_type": "markdown",
   "metadata": {},
   "source": [
    "6. 'Killed Max' \n",
    "7. 'Killed Min'\n",
    "8. 'Injured Max'\n",
    "9. 'Injured Min'\n",
    "10. 'No. of Suicide Blasts'\n",
    "Sütunları Üzerinde Çalışıyoruz"
   ]
  },
  {
   "cell_type": "code",
   "execution_count": 97,
   "metadata": {},
   "outputs": [
    {
     "name": "stdout",
     "output_type": "stream",
     "text": [
      "\n",
      "Number of Null Values in 'Killed Max' Column:  16\n",
      "\n",
      "Number of Null Values in 'Killed Min' Column:  146\n",
      "\n",
      "Number of Null Values in 'Injured Max' Column:  32\n",
      "\n",
      "Number of Null Values in 'Injured Min' Column:  131\n",
      "\n",
      "Number of Null Values in 'No. of Suicide Blasts' Column:  82\n"
     ]
    }
   ],
   "source": [
    "# Sütunlardaki boş değer sayıları\n",
    "print(\"\\nNumber of Null Values in 'Killed Max' Column: \", df['Killed Max'].isnull().sum())\n",
    "print(\"\\nNumber of Null Values in 'Killed Min' Column: \", df['Killed Min'].isnull().sum())\n",
    "print(\"\\nNumber of Null Values in 'Injured Max' Column: \", df['Injured Max'].isnull().sum())\n",
    "print(\"\\nNumber of Null Values in 'Injured Min' Column: \", df['Injured Min'].isnull().sum())\n",
    "print(\"\\nNumber of Null Values in 'No. of Suicide Blasts' Column: \", df['No. of Suicide Blasts'].isnull().sum())"
   ]
  },
  {
   "cell_type": "code",
   "execution_count": 98,
   "metadata": {},
   "outputs": [
    {
     "name": "stdout",
     "output_type": "stream",
     "text": [
      "Mean of Killed Max:  15.20625\n",
      "Mean of Killed Min:  14.725714285714286\n",
      "Mean of Injured Max:  39.45986984815618\n",
      "Mean of Injured Min:  31.397260273972602\n",
      "No. of Suicide Blasts:  1.1159420289855073\n"
     ]
    }
   ],
   "source": [
    "# Buradaki sütunlar sayısal değerler olduğu için boş satırları ortalama (mean) ile dolduracağız\n",
    "\n",
    "# 'Injured Max' sütunu sayısal değil de onject türü olduğu için bu sütunu sayısala çeviriyoruz\n",
    "df['Injured Max'] = pd.to_numeric(df['Injured Max'], errors='coerce')\n",
    "\n",
    "# İlgli sütunların ortalamaları alınır\n",
    "mean_killed_max = df['Killed Max'].mean()\n",
    "print(\"Mean of Killed Max: \", mean_killed_max)\n",
    "\n",
    "mean_killed_min = df['Killed Min'].mean()\n",
    "print(\"Mean of Killed Min: \", mean_killed_min)\n",
    "\n",
    "mean_injured_max = df['Injured Max'].mean()\n",
    "print(\"Mean of Injured Max: \", mean_injured_max)\n",
    "\n",
    "mean_injured_min = df['Injured Min'].mean()\n",
    "print(\"Mean of Injured Min: \", mean_injured_min)\n",
    "\n",
    "mean_no_of_suicide_blast = df['No. of Suicide Blasts'].mean()\n",
    "print(\"No. of Suicide Blasts: \", mean_no_of_suicide_blast)"
   ]
  },
  {
   "cell_type": "code",
   "execution_count": 99,
   "metadata": {},
   "outputs": [
    {
     "name": "stdout",
     "output_type": "stream",
     "text": [
      "\n",
      "Number of Null Values in 'Killed Max' Column:  0\n",
      "\n",
      "Number of Null Values in 'Killed Min' Column:  0\n",
      "\n",
      "Number of Null Values in 'Injured Max' Column:  0\n",
      "\n",
      "Number of Null Values in 'Injured Min' Column:  0\n",
      "\n",
      "Number of Null Values in 'No. of Suicide Blasts' Column:  0\n"
     ]
    }
   ],
   "source": [
    "# İlgili sütunların boş değerlerini ortalamaları ile dolduruyoruz\n",
    "df['Killed Max'] = df['Killed Max'].fillna(mean_killed_max)\n",
    "df['Killed Min'] = df['Killed Min'].fillna(mean_killed_min)\n",
    "df['Injured Max'] = df['Injured Max'].fillna(mean_injured_max)\n",
    "df['Injured Min'] = df['Injured Min'].fillna(mean_injured_min)\n",
    "df['No. of Suicide Blasts'] = df['No. of Suicide Blasts'].fillna(mean_no_of_suicide_blast)\n",
    "\n",
    "\n",
    "# Değişiklikten sonra boş değerler\n",
    "print(\"\\nNumber of Null Values in 'Killed Max' Column: \", df['Killed Max'].isnull().sum())\n",
    "print(\"\\nNumber of Null Values in 'Killed Min' Column: \", df['Killed Min'].isnull().sum())\n",
    "print(\"\\nNumber of Null Values in 'Injured Max' Column: \", df['Injured Max'].isnull().sum())\n",
    "print(\"\\nNumber of Null Values in 'Injured Min' Column: \", df['Injured Min'].isnull().sum())\n",
    "print(\"\\nNumber of Null Values in 'No. of Suicide Blasts' Column: \", df['No. of Suicide Blasts'].isnull().sum())"
   ]
  },
  {
   "cell_type": "markdown",
   "metadata": {},
   "source": [
    "11. 'City' Sütunun Üzerinde Çalışıyoruz"
   ]
  },
  {
   "cell_type": "code",
   "execution_count": 100,
   "metadata": {},
   "outputs": [
    {
     "name": "stdout",
     "output_type": "stream",
     "text": [
      "\n",
      "Number of Null Values in 'City' Column:  0\n"
     ]
    }
   ],
   "source": [
    "# Şehir sütunundaki boş değerlerin sayısı\n",
    "print(\"\\nNumber of Null Values in 'City' Column: \", df['City'].isnull().sum())"
   ]
  },
  {
   "cell_type": "code",
   "execution_count": 101,
   "metadata": {},
   "outputs": [
    {
     "data": {
      "text/plain": [
       "array(['ATTOCK', 'Attock ', 'Bajaur Agency', 'Bannu', 'Bhakkar ', 'Buner',\n",
       "       'Chakwal ', 'Chaman', 'Charsadda', 'Charsadda ', 'D. I Khan',\n",
       "       'D.G Khan', 'D.G Khan ', 'D.I Khan', 'D.I Khan ', 'Dara Adam Khel',\n",
       "       'Dara Adam khel', 'Fateh Jang', 'Ghallanai, Mohmand Agency ',\n",
       "       'Gujrat', 'Hangu', 'Haripur', 'Hayatabad', 'Islamabad',\n",
       "       'Islamabad ', 'Jacobabad', 'KURRAM AGENCY', 'Karachi', 'Karachi ',\n",
       "       'Karak', 'Khanewal', 'Khuzdar', 'Khyber Agency', 'Khyber Agency ',\n",
       "       'Kohat', 'Kohat ', 'Kuram Agency ', 'Lahore', 'Lahore ',\n",
       "       'Lakki Marwat', 'Lakki marwat', 'Lasbela', 'Lower Dir', 'MULTAN',\n",
       "       'Malakand ', 'Mansehra', 'Mardan', 'Mohmand Agency',\n",
       "       'Mohmand Agency ', 'Mohmand agency', 'Mosal Kor, Mohmand Agency',\n",
       "       'Multan', 'Muzaffarabad', 'North Waziristan', 'North waziristan',\n",
       "       'Nowshehra', 'Orakzai Agency', 'Peshawar', 'Peshawar ', 'Pishin',\n",
       "       'Poonch', 'Quetta', 'Quetta ', 'Rawalpindi', 'Sargodha',\n",
       "       'Sehwan town', 'Shabqadar-Charsadda', 'Shangla ', 'Shikarpur',\n",
       "       'Sialkot', 'South Waziristan', 'South waziristan', 'Sudhanoti',\n",
       "       'Sukkur', 'Swabi ', 'Swat', 'Swat ', 'Taftan',\n",
       "       'Tangi, Charsadda District', 'Tank', 'Tank ', 'Taunsa',\n",
       "       'Tirah Valley', 'Totalai', 'Upper Dir', 'Wagah', 'Zhob', 'bannu',\n",
       "       'karachi', 'karachi ', 'lakki marwat', 'peshawar', 'swat'],\n",
       "      dtype=object)"
      ]
     },
     "execution_count": 101,
     "metadata": {},
     "output_type": "execute_result"
    }
   ],
   "source": [
    "# 'City' sütunundaki unique değerlerin alıyoruz\n",
    "cities = df['City'].unique()\n",
    "\n",
    "# Bunları sıralayıp gözden geçirelim\n",
    "cities.sort()\n",
    "cities"
   ]
  },
  {
   "cell_type": "code",
   "execution_count": 102,
   "metadata": {},
   "outputs": [],
   "source": [
    "# Şehir sütununda boş değerlerin olmadığını ancak tekrar eden değerlerin olduğu gözlemlenmiştir\n",
    "\n",
    "# Küçük harfe dönüştürüyoruz\n",
    "df['City'] = df['City'].str.lower()\n",
    "\n",
    "# Değerlerin sonundaki boşlukları kaldırıyoruz\n",
    "df['City'] = df['City'].str.strip()"
   ]
  },
  {
   "cell_type": "code",
   "execution_count": 103,
   "metadata": {},
   "outputs": [
    {
     "data": {
      "text/plain": [
       "[('D. I Khan', 100),\n",
       " ('D.I Khan', 100),\n",
       " ('D.I Khan ', 100),\n",
       " ('D.G Khan', 88),\n",
       " ('D.G Khan ', 88),\n",
       " ('Khanewal', 50),\n",
       " ('Sudhanoti', 47),\n",
       " ('Hangu', 46),\n",
       " ('Kohat', 46),\n",
       " ('Kohat ', 46)]"
      ]
     },
     "execution_count": 103,
     "metadata": {},
     "output_type": "execute_result"
    }
   ],
   "source": [
    "# Birbirine benzer olanları bir nebze olsun değiştirdik.\n",
    "# Ancak yine bazı benzerliklerin olduğu gözlemlenmiştir.\n",
    "# Örnek olarak aiağıda 'd.i khan' değerinin yüzdelik olarak benzerlikleri listelenmiştir\n",
    "\n",
    "# \"d.i khan\" için en yakın 10 eşleşmeyi alıyoruz\n",
    "matches = process.extract(\"d.i khan\", cities, limit=10, scorer=fuzz.token_sort_ratio)\n",
    "\n",
    "# İlgili eşleşmeler\n",
    "matches"
   ]
  },
  {
   "cell_type": "code",
   "execution_count": 104,
   "metadata": {},
   "outputs": [],
   "source": [
    "# Verilerin, dataframede verilen sütunundaki belirli bir stirng'le eşleşen satırları değiştiren fonksiyon \n",
    "def replace_matches_in_column(df, column, string_to_match, min_ratio = 90):\n",
    "    # Sütundaki unique değerleri alıyoruz \n",
    "    strings = df[column].unique()\n",
    "    \n",
    "    # Stringe en yakın 10 eşleşmeyi alıyoruz\n",
    "    matches = process.extract(string_to_match, strings, \n",
    "                                         limit = 10, scorer = fuzz.token_sort_ratio)\n",
    "\n",
    "    # Eşleşmeler içinde oranı %90'ın üzerinde olanları seçiyoruz\n",
    "    close_matches = [matches[0] for matches in matches if matches[1] >= min_ratio]\n",
    "\n",
    "    # Veri setindeki bu yakın eşleşmeye sahip satırları seçiyoruz\n",
    "    rows_with_matches = df[column].isin(close_matches)\n",
    "\n",
    "    # Seçilen satırlar, belirtilen stirng ile değiştiriliyor\n",
    "    df.loc[rows_with_matches, column] = string_to_match\n",
    "    \n",
    "    # İşlem tammalandı\n",
    "    print(\"All done!\")"
   ]
  },
  {
   "cell_type": "code",
   "execution_count": 105,
   "metadata": {},
   "outputs": [
    {
     "name": "stdout",
     "output_type": "stream",
     "text": [
      "All done!\n",
      "All done!\n"
     ]
    }
   ],
   "source": [
    "# Yakın eşleşmelrin bulunduğu sütun değerlerini değiştirmek için yukarıdaki fonksiyon kullanılır\n",
    "replace_matches_in_column(df = df, column='City', string_to_match=\"d.i khan\")\n",
    "\n",
    "replace_matches_in_column(df = df, column='City', string_to_match=\"kuram agency\")"
   ]
  },
  {
   "cell_type": "code",
   "execution_count": 106,
   "metadata": {},
   "outputs": [
    {
     "data": {
      "text/plain": [
       "array(['attock', 'bajaur agency', 'bannu', 'bhakkar', 'buner', 'chakwal',\n",
       "       'chaman', 'charsadda', 'd.g khan', 'd.i khan', 'dara adam khel',\n",
       "       'fateh jang', 'ghallanai, mohmand agency', 'gujrat', 'hangu',\n",
       "       'haripur', 'hayatabad', 'islamabad', 'jacobabad', 'karachi',\n",
       "       'karak', 'khanewal', 'khuzdar', 'khyber agency', 'kohat',\n",
       "       'kuram agency', 'lahore', 'lakki marwat', 'lasbela', 'lower dir',\n",
       "       'malakand', 'mansehra', 'mardan', 'mohmand agency',\n",
       "       'mosal kor, mohmand agency', 'multan', 'muzaffarabad',\n",
       "       'north waziristan', 'nowshehra', 'orakzai agency', 'peshawar',\n",
       "       'pishin', 'poonch', 'quetta', 'rawalpindi', 'sargodha',\n",
       "       'sehwan town', 'shabqadar-charsadda', 'shangla', 'shikarpur',\n",
       "       'sialkot', 'south waziristan', 'sudhanoti', 'sukkur', 'swabi',\n",
       "       'swat', 'taftan', 'tangi, charsadda district', 'tank', 'taunsa',\n",
       "       'tirah valley', 'totalai', 'upper dir', 'wagah', 'zhob'],\n",
       "      dtype=object)"
      ]
     },
     "execution_count": 106,
     "metadata": {},
     "output_type": "execute_result"
    }
   ],
   "source": [
    "# Değişiklik sonrası\n",
    "cities = df['City'].unique()\n",
    "cities.sort()\n",
    "cities"
   ]
  },
  {
   "cell_type": "markdown",
   "metadata": {},
   "source": [
    "12. 'Province' Sütunun Üzerinde Çalışıyoruz"
   ]
  },
  {
   "cell_type": "code",
   "execution_count": 107,
   "metadata": {},
   "outputs": [
    {
     "name": "stdout",
     "output_type": "stream",
     "text": [
      "\n",
      "Number of Null Values in 'Province' Column:  0\n",
      "\n",
      "['AJK' 'Balochistan' 'Baluchistan' 'Capital' 'FATA' 'Fata' 'KPK' 'Punjab'\n",
      " 'Sindh']\n"
     ]
    }
   ],
   "source": [
    "# İl sütunundaki boş değerler\n",
    "print(\"\\nNumber of Null Values in 'Province' Column: \",df['Province'].isnull().sum())\n",
    "print()\n",
    "\n",
    "# Sütundaki unique değerleri gözden geçirelim\n",
    "provinces = df['Province'].unique()\n",
    "provinces.sort()\n",
    "print(provinces)"
   ]
  },
  {
   "cell_type": "code",
   "execution_count": 108,
   "metadata": {},
   "outputs": [
    {
     "name": "stdout",
     "output_type": "stream",
     "text": [
      "['capital' 'sindh' 'balochistan' 'punjab' 'fata' 'kpk' 'ajk']\n"
     ]
    }
   ],
   "source": [
    "# Küçük harflere çeviriyoruz\n",
    "df['Province'] = df['Province'].str.lower()\n",
    "# Değerlerin sonundaki boşlukları siliyoruz\n",
    "df['Province'] = df['Province'].str.strip()\n",
    "\n",
    "# ilgili sütun değerindeki değişiklik\n",
    "df['Province'] = df['Province'].replace({'baluchistan': 'balochistan'})\n",
    "\n",
    "# Değişiklik sonrası\n",
    "print(df['Province'].unique())"
   ]
  },
  {
   "cell_type": "markdown",
   "metadata": {},
   "source": [
    "13. 'Open/Closed Space' Sütunun Üzerinde Çalışıyoruz"
   ]
  },
  {
   "cell_type": "code",
   "execution_count": 109,
   "metadata": {},
   "outputs": [
    {
     "name": "stdout",
     "output_type": "stream",
     "text": [
      "\n",
      "Number of Null Values in 'Open/Closed Space' Column:  35\n",
      "\n",
      "Unique Değerler:\n",
      " ['Closed' 'Open' 'open' 'Open ' nan 'closed' 'Open/Closed']\n"
     ]
    }
   ],
   "source": [
    "# Açık/Kapalı alan sütunundaki boş değerler\n",
    "print(\"\\nNumber of Null Values in 'Open/Closed Space' Column: \",df['Open/Closed Space'].isnull().sum())\n",
    "\n",
    "# Sütundaki benzersiz değerler\n",
    "print(\"\\nUnique Değerler:\\n\", df['Open/Closed Space'].unique())"
   ]
  },
  {
   "cell_type": "code",
   "execution_count": 110,
   "metadata": {},
   "outputs": [
    {
     "data": {
      "text/plain": [
       "Open/Closed Space\n",
       "Open           321\n",
       "Closed         122\n",
       "open            11\n",
       "closed           5\n",
       "Open             1\n",
       "Open/Closed      1\n",
       "Name: count, dtype: int64"
      ]
     },
     "execution_count": 110,
     "metadata": {},
     "output_type": "execute_result"
    }
   ],
   "source": [
    "# Sütun değerleri ve sayıları\n",
    "df['Open/Closed Space'].value_counts()"
   ]
  },
  {
   "cell_type": "code",
   "execution_count": 111,
   "metadata": {},
   "outputs": [
    {
     "name": "stdout",
     "output_type": "stream",
     "text": [
      "\n",
      "Number of Null Values in 'Open/Closed Space' Column:  0\n"
     ]
    },
    {
     "data": {
      "text/plain": [
       "Open/Closed Space\n",
       "Open      369\n",
       "Closed    127\n",
       "Name: count, dtype: int64"
      ]
     },
     "execution_count": 111,
     "metadata": {},
     "output_type": "execute_result"
    }
   ],
   "source": [
    "# Boş değerler, en çok tekrar edenle değiştirildi\n",
    "df['Open/Closed Space'].fillna('Open', inplace=True)\n",
    "\n",
    "# İlgili sütun değerlerindeki değişiklikler\n",
    "df['Open/Closed Space'] = df['Open/Closed Space'].replace({'open':'Open'})\n",
    "df['Open/Closed Space'] = df['Open/Closed Space'].replace({'Open ':'Open'})\n",
    "df['Open/Closed Space'] = df['Open/Closed Space'].replace({'closed':'Closed'})\n",
    "df['Open/Closed Space'] = df['Open/Closed Space'].replace({'Open/Closed':'Open'})\n",
    "\n",
    "#Değişiklik sonrası\n",
    "print(\"\\nNumber of Null Values in 'Open/Closed Space' Column: \",df['Open/Closed Space'].isnull().sum())\n",
    "\n",
    "df['Open/Closed Space'].value_counts()"
   ]
  },
  {
   "cell_type": "markdown",
   "metadata": {},
   "source": [
    "14. 'Date' Sütunun Üzerinde Çalışıyoruz"
   ]
  },
  {
   "cell_type": "code",
   "execution_count": 112,
   "metadata": {},
   "outputs": [
    {
     "name": "stdout",
     "output_type": "stream",
     "text": [
      "\n",
      "Number of Null Values in 'Date' Column:  0\n"
     ]
    },
    {
     "data": {
      "text/plain": [
       "0        Sunday-November 19-1995\n",
       "1         Monday-November 6-2000\n",
       "2           Wednesday-May 8-2002\n",
       "3            Friday-June 14-2002\n",
       "4             Friday-July 4-2003\n",
       "                 ...            \n",
       "491     Thursday-October-05-2017\n",
       "492     Thursday-October-19-2017\n",
       "493     Thursday-November-9-2017\n",
       "494      Friday-November-24-2017\n",
       "495    Saturday-November-25-2017\n",
       "Name: Date, Length: 496, dtype: object"
      ]
     },
     "execution_count": 112,
     "metadata": {},
     "output_type": "execute_result"
    }
   ],
   "source": [
    "# Tarih sütunundaki boş değerler\n",
    "print(\"\\nNumber of Null Values in 'Date' Column: \",df['Date'].isnull().sum())\n",
    "\n",
    "# Sürun değerlerini gözden geçirelim\n",
    "df['Date']"
   ]
  },
  {
   "cell_type": "code",
   "execution_count": 113,
   "metadata": {},
   "outputs": [
    {
     "data": {
      "text/plain": [
       "0       November 19 1995\n",
       "1        November 6 2000\n",
       "2             May 8 2002\n",
       "3           June 14 2002\n",
       "4            July 4 2003\n",
       "             ...        \n",
       "491      October 05 2017\n",
       "492      October 19 2017\n",
       "493      November 9 2017\n",
       "494     November 24 2017\n",
       "495     November 25 2017\n",
       "Name: Date, Length: 496, dtype: object"
      ]
     },
     "execution_count": 113,
     "metadata": {},
     "output_type": "execute_result"
    }
   ],
   "source": [
    "# Bu sütunda boş değer olmadığını görüyoruz\n",
    "# Bu sütundaki değerlerleri düzelteceğiz\n",
    "\n",
    "# Gün bilgilerini kaldırıyoruz\n",
    "df['Date'] = df['Date'].str.replace(r'\\b(Monday|Tuesday|Wednesday|Thursday|Friday|Saturday|Sunday)\\b', '', regex=True)\n",
    "\n",
    "# '-' işaretini kaldırıyoruz\n",
    "df['Date'] = df['Date'].str.replace('-', ' ')\n",
    "\n",
    "# Değişiklik sonrası\n",
    "df['Date']"
   ]
  },
  {
   "cell_type": "code",
   "execution_count": 114,
   "metadata": {},
   "outputs": [],
   "source": [
    "# Tarih sütununun son halini datetime nesnesine dönüştürüyoruz\n",
    "parsed_dates = []\n",
    "for date_str in df['Date']:\n",
    "    try:\n",
    "        # Her satır teker teker datetime nesnesine dönüştürülür\n",
    "        parsed_date = parser.parse(date_str)\n",
    "        # Dönüştürülen değerler listede tutulur\n",
    "        parsed_dates.append(parsed_date)\n",
    "    except ValueError:\n",
    "        # Eğer dönüştürülemiyorsa None değeri eklenir\n",
    "        parsed_dates.append(None)  \n",
    "\n",
    "# Dönüştürdüğümüz datetime nesnelerinin bulunduğu liste ilgili sütuna aktarılır\n",
    "df['Date'] = parsed_dates"
   ]
  },
  {
   "cell_type": "code",
   "execution_count": 115,
   "metadata": {},
   "outputs": [],
   "source": [
    "# Datetime nesnesini stringe çevirdiğimizde uzunluğu 10 olmalıdır\n",
    "# Eğer 10 değilse o satırda bir sorun vardır\n",
    "# Ki biz burada datetime'a çevrilemeyen satırları NaN olarak işaretlediğimiz için\n",
    "# sorun olan satırın uzunluğu 3 olacaktır\n",
    "# ------------------------------------------------\n",
    "\n",
    "# Tarih sütununu doğru ayrıştırıp ayrıştırmadığımızı kontrol eden fonksiyon\n",
    "def TarihKontrol():\n",
    "\tif df['Date'].isnull().any():\n",
    "    \t# Eğer null değer varsa hata mesajı gösterir\n",
    "\t\tprint(\"There are some dates that couldn't be parsed correctly.\\n\")\n",
    "\telse:\n",
    "    \t# Datetimr uzunluları kontrol edilir\n",
    "\t\tif (df['Date'].astype(str).str.len() != 10).any():\n",
    "\t    \t# Eğer uuzunluk 10 değilse hata mesajı verir\n",
    "\t\t\tprint(\"There are some dates with incorrect length.\\n\")\n",
    "\t\telse:\n",
    "\t\t\t# hiç bir if koşulu sağlanmazsa sorun yoktur\n",
    "\t\t\tprint(\"All dates are in the correct format and have the correct length 💅✅\\n\")"
   ]
  },
  {
   "cell_type": "code",
   "execution_count": 116,
   "metadata": {},
   "outputs": [
    {
     "name": "stdout",
     "output_type": "stream",
     "text": [
      "date_length\n",
      "10    495\n",
      "3       1\n",
      "Name: count, dtype: int64\n",
      "\n",
      "There are some dates with incorrect length.\n",
      "\n"
     ]
    }
   ],
   "source": [
    "# datetime'a çevirdiğimiz sütunundaki değerlerin uzunluklarınu kontrol edelim\n",
    "# Datetime nesnelerini string'e çeviriyoruz\n",
    "df['Date'] = df['Date'].astype(str)\n",
    "# Stringe çevirdiğimiz sütunun uzunluğunun barındığı yeni bir sütun oluşturuyoruz\n",
    "df['date_length'] = df['Date'].str.len()\n",
    "\n",
    "# İlgili uzunluk değerlerini yazdırıyoruz\n",
    "value_counts_by_length = df['date_length'].value_counts()\n",
    "print(value_counts_by_length)\n",
    "print()\n",
    "\n",
    "# Yukarıdaki fonksiyonu kullanalım\n",
    "TarihKontrol()"
   ]
  },
  {
   "cell_type": "code",
   "execution_count": 117,
   "metadata": {},
   "outputs": [
    {
     "name": "stdout",
     "output_type": "stream",
     "text": [
      "All dates are in the correct format and have the correct length 💅✅\n",
      "\n"
     ]
    }
   ],
   "source": [
    "# yeni oluşturduğumuz 'date_length' sütunundaki değerleri \n",
    "# 3'e eşit olup olmaması durumuna göre true yada false olarak işaretliyoruz\n",
    "# Sonrasında true olan değerleri alır ve bunları df veri çerçevesine atarız \n",
    "df = df[df['date_length'] != 3]\n",
    "\n",
    "# veri çerçevesi üzerindeki değişiklikleri yaptığımıza göre bu sütunla işimiz bitti\n",
    "df.drop(columns=['date_length'], inplace=True)\n",
    "\n",
    "# string'e çevirdğimiz 'Date' sütununu tekrar datetime nesnesine çeviriyoruz\n",
    "df['Date'] = pd.to_datetime(df['Date'])\n",
    "\n",
    "# Değişiklik sonrası\n",
    "TarihKontrol()"
   ]
  },
  {
   "cell_type": "markdown",
   "metadata": {},
   "source": [
    "15. 'Islamic Date' Sütunu Üzerinde Çalışıyoruz"
   ]
  },
  {
   "cell_type": "code",
   "execution_count": 118,
   "metadata": {},
   "outputs": [
    {
     "name": "stdout",
     "output_type": "stream",
     "text": [
      "\n",
      "Number of Null Values in 'Islamic Date' Column:  153\n"
     ]
    },
    {
     "data": {
      "text/plain": [
       "0      25 Jumaada al-THaany 1416 A.H\n",
       "1               10 SHa`baan 1421 A.H\n",
       "2                  25 safar 1423 A.H\n",
       "3         3 Raby` al-THaany 1423 A.H\n",
       "4         4 Jumaada al-awal 1424 A.H\n",
       "                   ...              \n",
       "491             13 MuHarram 1439 A.H\n",
       "492             27 MuHarram 1439 A.H\n",
       "493                19 Safar 1439 A.H\n",
       "494         5 Rabi Al-Awwal 1439 A.H\n",
       "495         6 Rabi Al-Awwal 1439 A.H\n",
       "Name: Islamic Date, Length: 495, dtype: object"
      ]
     },
     "execution_count": 118,
     "metadata": {},
     "output_type": "execute_result"
    }
   ],
   "source": [
    "# İslami tarih sütunundaki boş değerler\n",
    "print(\"\\nNumber of Null Values in 'Islamic Date' Column: \",df['Islamic Date'].isnull().sum())\n",
    "\n",
    "# Sütun değerlerini gözden geçirelim\n",
    "df['Islamic Date']"
   ]
  },
  {
   "cell_type": "code",
   "execution_count": 119,
   "metadata": {},
   "outputs": [
    {
     "name": "stdout",
     "output_type": "stream",
     "text": [
      "['1416-6-26', '1421-8-10', '1423-2-25', '1423-4-3', '1424-5-4', '1424-11-2', '1425-1-8', '1425-3-18', '1425-4-12', '1425-4-15', '1425-6-11', '1425-6-13', '1425-8-17', '1425-8-26', '1426-2-9', '1426-3-19', '1426-4-19', '1426-4-22', '1427-1-10', '1427-2-2', '1427-3-14', '1427-5-6', '1427-5-30', '1427-7-12', '1427-10-17', '1427-10-26', '1427-11-12', '1428-1-3', '1428-1-7', '1428-1-8', '1428-1-10', '1428-1-15', '1428-1-15', '1428-1-18', '1428-1-29', '1428-3-10', '1428-4-11', '1428-4-28', '1428-5-11', '1428-6-19', '1428-6-27', '1428-6-27', '1428-6-29', '1428-7-1', '1428-7-1', '1428-7-3', '1428-7-3', '1428-7-5', '1428-7-5', '1428-7-5', '1428-7-6', '1428-7-13', '1428-7-20', '1428-7-21', '1428-8-4', '1428-8-6', '1428-8-6', '1428-8-7', '1428-8-11', '1428-8-13', '1428-8-19', '1428-8-19', '1428-8-22', '1428-8-22', '1428-8-29', '1428-9-1', '1428-9-10', '1428-9-19', '1428-10-6', '1428-10-13', '1428-10-18', '1428-10-20', '1428-10-28', '1428-11-14', '1428-11-14', '1428-11-24', '1428-11-29', '1428-11-30', '1428-12-3', '1428-12-5', '1428-12-7', '1428-12-11', '1428-12-13', '1428-12-17', '1428-12-28', '1429-1-1', '1429-1-6', '1429-1-8', '1429-1-23', '1429-1-26', '1429-1-27', '1429-2-2', '1429-2-4', '1429-2-9', '1429-2-9', '1429-2-18', '1429-2-22', '1429-2-23', '1429-2-24', '1429-2-26', '1429-3-3', '1429-3-3', '1429-3-9', '1429-3-12', '1429-4-25', '1429-5-1', '1429-5-4', '1429-5-13', '1429-5-28', '1429-7-3', '1429-7-10', '1429-8-12', '1429-8-18', '1429-8-20', '1429-8-22', '1429-8-28', '1429-9-6', '1429-9-16', '1429-9-20', '1429-9-20', '1429-9-22', '1429-9-24', '1429-10-3', '1429-10-6', '1429-10-9', '1429-10-9', '1429-10-10', '1429-10-16', '1429-10-26', '1429-10-29', '1429-11-2', '1429-11-4', '1429-11-6', '1429-11-8', '1429-11-8', '1429-11-13', '1429-11-14', '1429-11-19', '1429-11-22', '1429-11-30', '1429-12-3', '1429-12-5', '1429-12-7', '1429-12-11', '1429-12-30', '1430-1-7', '1430-1-7', '1430-1-26', '1430-2-10', '1430-2-10', '1430-2-11', '1430-2-14', '1430-2-25', '1430-2-26', '1430-2-28', '1430-3-5', '1430-3-14', '1430-3-19', '1430-3-26', '1430-3-29', '1430-3-30', '1430-4-3', '1430-4-8', '1430-4-8', '1430-4-9', '1430-4-19', '1430-4-22', '1430-5-10', '1430-5-16', '1430-5-26', '1430-6-3', '1430-6-4', '1430-6-4', '1430-6-12', '1430-6-13', '1430-6-16', '1430-6-18', '1430-6-19', '1430-6-19', '1430-6-29', '1430-7-3', '1430-7-7', '1430-7-8', '1430-7-9', '1430-7-15', '1430-8-6', '1430-8-22', '1430-8-24', '1430-8-25', '1430-8-27', '1430-8-30', '1430-9-1', '1430-9-2', '1430-9-6', '1430-9-9', '1430-9-22', '1430-9-23', '1430-9-28', '1430-9-29', '1430-10-2', '1430-10-7', '1430-10-7', '1430-10-9', '1430-10-16', '1430-10-20', '1430-10-23', '1430-10-26', '1430-10-26', '1430-10-27', '1430-11-1', '1430-11-4', '1430-11-5', '1430-11-14', '1430-11-14', '1430-11-20', '1430-11-21', '1430-11-22', '1430-11-25', '1430-11-25', '1430-11-26', '1430-11-28', '1430-12-2', '1430-12-14', '1430-12-15', '1430-12-17', '1430-12-20', '1430-12-20', '1430-12-21', '1430-12-28', '1430-12-30', '1431-1-1', '1431-1-5', '1431-1-7', '1431-1-7', '1431-1-11', '1431-1-15', '1431-1-20', '1431-1-22', '1431-1-22', '1431-2-1', '1431-2-8', '1431-2-14', '1431-2-26', '1431-2-27', '1431-3-4', '1431-3-6', '1431-3-8', '1431-3-13', '1431-3-19', '1431-3-22', '1431-3-26', '1431-3-27', '1431-4-13', '1431-4-13', '1431-4-20', '1431-4-20', '1431-5-2', '1431-5-3', '1431-5-4', '1431-5-5', '1431-5-14', '1431-5-17', '1431-5-18', '1431-6-14', '1431-7-19', '1431-7-27', '1431-7-30', '1431-8-6', '1431-8-14', '1431-8-23', '1431-9-13', '1431-9-22', '1431-9-24', '1431-9-24', '1431-9-27', '1431-9-30', '1431-10-28', '1431-11-10', '1431-11-24', '1431-11-28', '1431-12-5', '1431-12-5', '1431-12-8', '1431-12-24', '1431-12-30', '1432-1-1', '1432-1-2', '1432-1-4', '1432-1-17', '1432-1-18', '1432-1-19', '1432-1-21', '1432-2-8', '1432-2-21', '1432-2-23', '1432-2-27', '1432-3-7', '1432-3-8', '1432-3-9', '1432-3-16', '1432-3-26', '1432-3-28', '1432-4-4', '1432-4-19', '1432-4-25', '1432-4-26', '1432-4-27', '1432-4-29', '1432-4-30', '1432-5-3', '1432-5-19', '1432-6-10', '1432-6-11', '1432-6-22', '1432-6-23', '1432-6-25', '1432-7-3', '1432-7-10', '1432-7-11', '1432-7-23', '1432-8-10', '1432-8-20', '1432-8-23', '1432-9-6', '1432-9-11', '1432-9-19', '1432-10-2', '1432-10-3', '1432-10-9', '1432-10-17', '1432-10-21', '1432-12-1', '1432-12-11', '1432-12-20', '1432-12-22', '1433-1-29', '1433-2-9', '1433-2-9', '1433-2-9', '1433-2-20', '1433-3-7', '1433-3-25', '1433-3-24', '1433-4-2', '1433-4-10', '1433-4-11', '1433-4-18', '1433-4-22', '1433-4-30', '1433-5-13', '1433-6-13', '1433-7-22', '1433-8-8', '1433-8-26', '1433-10-16', '1433-10-23', '1433-11-27', '1433-12-19', '1433-12-22', '1433-12-23', '1434-1-5', '1434-1-7', '1434-1-7', '1434-1-11', '1434-1-15', '1434-1-20', '1434-1-21', '1434-2-9', '1434-2-28', '1434-3-20', '1434-4-4', '1434-4-4', '1434-4-6', '1434-4-8', '1434-5-6', '1434-5-11', '1434-5-17', '1434-6-6', '1434-6-6', '1434-6-10', '1434-6-13', '1434-6-19', '1434-6-21', '1434-6-27', '1434-6-28', '1434-7-1', '1434-7-2', '1434-7-14', '1434-7-24', '1434-8-6', '1434-8-6', '1434-8-9', '1434-8-12', '1434-8-21', '1434-8-29', '1434-9-17', '1434-9-18', '1434-10-1', '1434-11-16', '1434-11-26', '1434-11-27', '1434-12-6', '1434-12-11', '1435-1-13', '1435-1-16', '1435-1-19', '1435-2-14', '1435-2-15', '1435-2-17', '1435-2-29', '1435-3-5', '1435-3-8', '1435-3-19', '1435-3-22', '1435-3-28', '1435-4-4', '1435-4-7', '1435-4-10', '1435-4-13', '1435-4-24', '1435-5-2', '1435-5-13', '1435-6-24', '1435-7-12', '1435-8-6', '1435-8-10', '1435-8-11', '1435-8-21', '1435-8-26', '1435-11-29', '1435-12-10', '1435-12-21', '1435-12-29', '1436-1-9', '1436-2-24', '1436-3-6', '1436-4-10', '1436-4-24', '1436-4-28', '1436-4-29', '1436-5-24', '1436-5-29', '1436-7-17', '1436-8-8', '1436-8-8', '1436-8-11', '1436-8-19', '1436-8-21', '1436-8-24', '1436-9-12', '1436-10-1', '1436-11-1', '1436-11-17', '1436-12-7', '1437-1-1', '1437-1-9', '1437-1-10', '1437-3-18', '1437-4-3', '1437-4-9', '1437-4-19', '1437-4-27', '1437-5-27', '1437-6-18', '1437-7-9', '1437-7-12', '1437-8-23', '1437-11-5', '1437-12-1', '1437-12-12', '1437-12-15', '1438-1-24', '1438-2-12', '1438-2-26', '1438-5-10', '1438-5-16', '1438-5-18', '1438-5-18', '1438-5-18', '1438-5-19', '1438-5-24', '1438-7-8', '1438-8-16', '1438-8-24', '1438-9-28', '1438-10-16', '1438-10-23', '1438-10-23', '1438-11-1', '1438-11-20', '1439-1-15', '1439-1-29', '1439-2-20', '1439-3-6', '1439-3-7']\n"
     ]
    }
   ],
   "source": [
    "# İslami tarih sütununu gözden geçirirken bolca null değer olduğunu görüyoruz\n",
    "# Ayrıca null olmayan değerler üzerinde de bir değişiklik yapılması gerekmektedir.\n",
    "# Bütün bunların üztesinden gelmek için sütundaki var olan tarihler üzerinde çalışmayacağız\n",
    "# 'Date' sütunundan yola çıkarak islami tarih sütununu baştan yazacağız \n",
    "# (Miladi takvimden islami takvime dönüştüreceğiz)\n",
    "# -----------------------------------\n",
    "\n",
    "# Miladi tarihleri datetime64 tipine dönüştür\n",
    "miladiDate = pd.to_datetime(df['Date'], errors='coerce')\n",
    "\n",
    "# Miladi tarihlerini Hicri tarihlerine çevir\n",
    "hicriDates = [convert.Gregorian(date.year, date.month, date.day).to_hijri() for date in miladiDate if not pd.isnull(date)]\n",
    "\n",
    "# Hicri tarihlerini string formatına dönüştür\n",
    "hicriDates_strings = [f\"{hicri_date.year}-{hicri_date.month}-{hicri_date.day}\" for hicri_date in hicriDates]\n",
    "\n",
    "print(hicriDates_strings)"
   ]
  },
  {
   "cell_type": "code",
   "execution_count": 120,
   "metadata": {},
   "outputs": [
    {
     "data": {
      "text/plain": [
       "0      1416-6-26\n",
       "1      1421-8-10\n",
       "2      1423-2-25\n",
       "3       1423-4-3\n",
       "4       1424-5-4\n",
       "         ...    \n",
       "491    1439-1-15\n",
       "492    1439-1-29\n",
       "493    1439-2-20\n",
       "494     1439-3-6\n",
       "495     1439-3-7\n",
       "Name: Islamic Date, Length: 495, dtype: object"
      ]
     },
     "execution_count": 120,
     "metadata": {},
     "output_type": "execute_result"
    }
   ],
   "source": [
    "# 'Islamic Date' sütununu DataFrame'e ekleyin\n",
    "df['Islamic Date'] = hicriDates_strings\n",
    "\n",
    "# Değişiklik sonrası\n",
    "df['Islamic Date']"
   ]
  },
  {
   "cell_type": "markdown",
   "metadata": {},
   "source": [
    "16. Tarih Sütunları Üzerinde Yaptığımız değişiklikler"
   ]
  },
  {
   "cell_type": "code",
   "execution_count": 121,
   "metadata": {},
   "outputs": [],
   "source": [
    "# Tarih sütunlarını ayrıştırıp ayrı sütunblar halinde tutacağız\n",
    "\n",
    "# 'Date' sütunu için\n",
    "df['Year'] = df['Date'].dt.year\n",
    "df['Month'] = df['Date'].dt.month\n",
    "df['Day'] = df['Date'].dt.day\n",
    "\n",
    "# 'Islamic Date' sütunu için (datetime formatında olmadığı için farklı bir şekilde ayrıştırıyoruz)\n",
    "df[['Islamic Year', 'Islamic Month', 'Islamic Day']] = df['Islamic Date'].str.split('-', expand=True)\n",
    "\n",
    "# Tarih sütunlarını ayrıştırdığımız için artık silebiliriz\n",
    "df = df.drop(columns={'Islamic Date', 'Date',})"
   ]
  },
  {
   "cell_type": "markdown",
   "metadata": {},
   "source": [
    "17. Bir işe yaramayacığı düşünülen, temizlenmesi zor olan veya nasıl temizleneceğini bilemediğim sütunlar silinir"
   ]
  },
  {
   "cell_type": "code",
   "execution_count": 122,
   "metadata": {},
   "outputs": [
    {
     "data": {
      "text/plain": [
       "Index(['Blast Day Type', 'Holiday Type', 'Time', 'City', 'Latitude',\n",
       "       'Longitude', 'Province', 'Location', 'Location Category',\n",
       "       'Location Sensitivity', 'Open/Closed Space', 'Influencing Event/Event',\n",
       "       'Target Type', 'Targeted Sect if any', 'Killed Min', 'Killed Max',\n",
       "       'Injured Min', 'Injured Max', 'No. of Suicide Blasts',\n",
       "       'Explosive Weight (max)', 'Hospital Names', 'Temperature(C)',\n",
       "       'Temperature(F)', 'Year', 'Month', 'Day', 'Islamic Year',\n",
       "       'Islamic Month', 'Islamic Day'],\n",
       "      dtype='object')"
      ]
     },
     "execution_count": 122,
     "metadata": {},
     "output_type": "execute_result"
    }
   ],
   "source": [
    "df.columns"
   ]
  },
  {
   "cell_type": "code",
   "execution_count": 123,
   "metadata": {},
   "outputs": [
    {
     "data": {
      "text/plain": [
       "Index(['Blast Day Type', 'City', 'Latitude', 'Longitude', 'Province',\n",
       "       'Location Category', 'Location Sensitivity', 'Open/Closed Space',\n",
       "       'Target Type', 'Killed Min', 'Killed Max', 'Injured Min', 'Injured Max',\n",
       "       'No. of Suicide Blasts', 'Year', 'Month', 'Day', 'Islamic Year',\n",
       "       'Islamic Month', 'Islamic Day'],\n",
       "      dtype='object')"
      ]
     },
     "execution_count": 123,
     "metadata": {},
     "output_type": "execute_result"
    }
   ],
   "source": [
    "columns_to_drop = ['Time', 'Explosive Weight (max)', 'Hospital Names', 'Temperature(C)', 'Temperature(F)', 'Influencing Event/Event', \n",
    "\t\t\t\t   'Targeted Sect if any', 'Holiday Type', 'Location']\n",
    "df = df.drop(columns=columns_to_drop)\n",
    "\n",
    "# Değişiklik sonrası\n",
    "df.columns"
   ]
  },
  {
   "cell_type": "markdown",
   "metadata": {},
   "source": [
    "18. 'Latitude'\n",
    "19. 'Longitude' Sütunlarını gözden geçiriyoruz"
   ]
  },
  {
   "cell_type": "code",
   "execution_count": 124,
   "metadata": {},
   "outputs": [
    {
     "name": "stdout",
     "output_type": "stream",
     "text": [
      "\n",
      "Number of Null Values in 'Latitude' Column:  3\n",
      "\n",
      "Number of Null Values in 'Longitude' Column:  3\n"
     ]
    }
   ],
   "source": [
    "# Sütun değerlerini gözden geçirelim\n",
    "print(\"\\nNumber of Null Values in 'Latitude' Column: \",df['Latitude'].isnull().sum())\n",
    "print(\"\\nNumber of Null Values in 'Longitude' Column: \",df['Longitude'].isnull().sum())"
   ]
  },
  {
   "cell_type": "code",
   "execution_count": 125,
   "metadata": {},
   "outputs": [
    {
     "name": "stdout",
     "output_type": "stream",
     "text": [
      "\n",
      "Number of Null Values in 'Latitude' Column:  0\n",
      "\n",
      "Number of Null Values in 'Longitude' Column:  0\n"
     ]
    }
   ],
   "source": [
    "# Boş değerler için enlem ve boylam hesaplamasının nasıl olacağını bilemediğim için\n",
    "# ve boş değer olan satırlar az olduğu için o satırların silinmesi uygun görülmiştür. \n",
    "df.dropna(subset=['Latitude'], inplace=True)\n",
    "df.dropna(subset=['Longitude'], inplace=True)\n",
    "\n",
    "# Değişiklik sonrası\n",
    "print(\"\\nNumber of Null Values in 'Latitude' Column: \",df['Latitude'].isnull().sum())\n",
    "print(\"\\nNumber of Null Values in 'Longitude' Column: \",df['Longitude'].isnull().sum())"
   ]
  },
  {
   "cell_type": "markdown",
   "metadata": {},
   "source": [
    "20. Verilerimizi gözden geçirelim"
   ]
  },
  {
   "cell_type": "code",
   "execution_count": 126,
   "metadata": {},
   "outputs": [
    {
     "data": {
      "text/plain": [
       "<Axes: >"
      ]
     },
     "execution_count": 126,
     "metadata": {},
     "output_type": "execute_result"
    },
    {
     "data": {
      "image/png": "[encoded data removed]",
      "text/plain": [
       "<Figure size 640x480 with 1 Axes>"
      ]
     },
     "metadata": {},
     "output_type": "display_data"
    }
   ],
   "source": [
    "# Tabloda da göreceğimiz üzere veri setinde null değer kalmamıştır\n",
    "sns.heatmap(df.isnull(), cbar=False)"
   ]
  },
  {
   "cell_type": "markdown",
   "metadata": {},
   "source": [
    "21. Sütunların veri tiplerini gözden geçirelim"
   ]
  },
  {
   "cell_type": "code",
   "execution_count": 127,
   "metadata": {},
   "outputs": [
    {
     "data": {
      "text/html": [
       "<div>\n",
       "<style scoped>\n",
       "    .dataframe tbody tr th:only-of-type {\n",
       "        vertical-align: middle;\n",
       "    }\n",
       "\n",
       "    .dataframe tbody tr th {\n",
       "        vertical-align: top;\n",
       "    }\n",
       "\n",
       "    .dataframe thead th {\n",
       "        text-align: right;\n",
       "    }\n",
       "</style>\n",
       "<table border=\"1\" class=\"dataframe\">\n",
       "  <thead>\n",
       "    <tr style=\"text-align: right;\">\n",
       "      <th></th>\n",
       "      <th>Blast Day Type</th>\n",
       "      <th>City</th>\n",
       "      <th>Latitude</th>\n",
       "      <th>Longitude</th>\n",
       "      <th>Province</th>\n",
       "      <th>Location Category</th>\n",
       "      <th>Location Sensitivity</th>\n",
       "      <th>Open/Closed Space</th>\n",
       "      <th>Target Type</th>\n",
       "      <th>Killed Min</th>\n",
       "      <th>Killed Max</th>\n",
       "      <th>Injured Min</th>\n",
       "      <th>Injured Max</th>\n",
       "      <th>No. of Suicide Blasts</th>\n",
       "      <th>Year</th>\n",
       "      <th>Month</th>\n",
       "      <th>Day</th>\n",
       "      <th>Islamic Year</th>\n",
       "      <th>Islamic Month</th>\n",
       "      <th>Islamic Day</th>\n",
       "    </tr>\n",
       "  </thead>\n",
       "  <tbody>\n",
       "    <tr>\n",
       "      <th>0</th>\n",
       "      <td>Holiday</td>\n",
       "      <td>islamabad</td>\n",
       "      <td>33.7180</td>\n",
       "      <td>73.0718</td>\n",
       "      <td>capital</td>\n",
       "      <td>Foreign</td>\n",
       "      <td>High</td>\n",
       "      <td>Closed</td>\n",
       "      <td>Foreigner</td>\n",
       "      <td>14.000000</td>\n",
       "      <td>15.0</td>\n",
       "      <td>31.39726</td>\n",
       "      <td>60.0</td>\n",
       "      <td>2.0</td>\n",
       "      <td>1995</td>\n",
       "      <td>11</td>\n",
       "      <td>19</td>\n",
       "      <td>1416</td>\n",
       "      <td>6</td>\n",
       "      <td>26</td>\n",
       "    </tr>\n",
       "    <tr>\n",
       "      <th>1</th>\n",
       "      <td>Working Day</td>\n",
       "      <td>karachi</td>\n",
       "      <td>24.9918</td>\n",
       "      <td>66.9911</td>\n",
       "      <td>sindh</td>\n",
       "      <td>Office Building</td>\n",
       "      <td>Low</td>\n",
       "      <td>Closed</td>\n",
       "      <td>Media</td>\n",
       "      <td>14.725714</td>\n",
       "      <td>3.0</td>\n",
       "      <td>31.39726</td>\n",
       "      <td>3.0</td>\n",
       "      <td>1.0</td>\n",
       "      <td>2000</td>\n",
       "      <td>11</td>\n",
       "      <td>6</td>\n",
       "      <td>1421</td>\n",
       "      <td>8</td>\n",
       "      <td>10</td>\n",
       "    </tr>\n",
       "    <tr>\n",
       "      <th>2</th>\n",
       "      <td>Working Day</td>\n",
       "      <td>karachi</td>\n",
       "      <td>24.9918</td>\n",
       "      <td>66.9911</td>\n",
       "      <td>sindh</td>\n",
       "      <td>Hotel</td>\n",
       "      <td>Medium</td>\n",
       "      <td>Closed</td>\n",
       "      <td>Foreigner</td>\n",
       "      <td>13.000000</td>\n",
       "      <td>15.0</td>\n",
       "      <td>20.00000</td>\n",
       "      <td>40.0</td>\n",
       "      <td>1.0</td>\n",
       "      <td>2002</td>\n",
       "      <td>5</td>\n",
       "      <td>8</td>\n",
       "      <td>1423</td>\n",
       "      <td>2</td>\n",
       "      <td>25</td>\n",
       "    </tr>\n",
       "    <tr>\n",
       "      <th>3</th>\n",
       "      <td>Working Day</td>\n",
       "      <td>karachi</td>\n",
       "      <td>24.9918</td>\n",
       "      <td>66.9911</td>\n",
       "      <td>sindh</td>\n",
       "      <td>Foreign</td>\n",
       "      <td>High</td>\n",
       "      <td>Closed</td>\n",
       "      <td>Foreigner</td>\n",
       "      <td>14.725714</td>\n",
       "      <td>12.0</td>\n",
       "      <td>31.39726</td>\n",
       "      <td>51.0</td>\n",
       "      <td>1.0</td>\n",
       "      <td>2002</td>\n",
       "      <td>6</td>\n",
       "      <td>14</td>\n",
       "      <td>1423</td>\n",
       "      <td>4</td>\n",
       "      <td>3</td>\n",
       "    </tr>\n",
       "    <tr>\n",
       "      <th>4</th>\n",
       "      <td>Working Day</td>\n",
       "      <td>quetta</td>\n",
       "      <td>30.2095</td>\n",
       "      <td>67.0182</td>\n",
       "      <td>balochistan</td>\n",
       "      <td>Religious</td>\n",
       "      <td>Medium</td>\n",
       "      <td>Closed</td>\n",
       "      <td>Religious</td>\n",
       "      <td>44.000000</td>\n",
       "      <td>47.0</td>\n",
       "      <td>31.39726</td>\n",
       "      <td>65.0</td>\n",
       "      <td>1.0</td>\n",
       "      <td>2003</td>\n",
       "      <td>7</td>\n",
       "      <td>4</td>\n",
       "      <td>1424</td>\n",
       "      <td>5</td>\n",
       "      <td>4</td>\n",
       "    </tr>\n",
       "  </tbody>\n",
       "</table>\n",
       "</div>"
      ],
      "text/plain": [
       "  Blast Day Type       City  Latitude Longitude     Province  \\\n",
       "0        Holiday  islamabad   33.7180   73.0718      capital   \n",
       "1    Working Day    karachi   24.9918   66.9911        sindh   \n",
       "2    Working Day    karachi   24.9918   66.9911        sindh   \n",
       "3    Working Day    karachi   24.9918   66.9911        sindh   \n",
       "4    Working Day     quetta   30.2095   67.0182  balochistan   \n",
       "\n",
       "  Location Category Location Sensitivity Open/Closed Space Target Type  \\\n",
       "0           Foreign                 High            Closed   Foreigner   \n",
       "1   Office Building                  Low            Closed       Media   \n",
       "2             Hotel               Medium            Closed   Foreigner   \n",
       "3           Foreign                 High            Closed   Foreigner   \n",
       "4         Religious               Medium            Closed   Religious   \n",
       "\n",
       "   Killed Min  Killed Max  Injured Min  Injured Max  No. of Suicide Blasts  \\\n",
       "0   14.000000        15.0     31.39726         60.0                    2.0   \n",
       "1   14.725714         3.0     31.39726          3.0                    1.0   \n",
       "2   13.000000        15.0     20.00000         40.0                    1.0   \n",
       "3   14.725714        12.0     31.39726         51.0                    1.0   \n",
       "4   44.000000        47.0     31.39726         65.0                    1.0   \n",
       "\n",
       "   Year  Month  Day Islamic Year Islamic Month Islamic Day  \n",
       "0  1995     11   19         1416             6          26  \n",
       "1  2000     11    6         1421             8          10  \n",
       "2  2002      5    8         1423             2          25  \n",
       "3  2002      6   14         1423             4           3  \n",
       "4  2003      7    4         1424             5           4  "
      ]
     },
     "execution_count": 127,
     "metadata": {},
     "output_type": "execute_result"
    }
   ],
   "source": [
    "df.head()"
   ]
  },
  {
   "cell_type": "code",
   "execution_count": 128,
   "metadata": {},
   "outputs": [
    {
     "name": "stdout",
     "output_type": "stream",
     "text": [
      "<class 'pandas.core.frame.DataFrame'>\n",
      "Index: 492 entries, 0 to 495\n",
      "Data columns (total 20 columns):\n",
      " #   Column                 Non-Null Count  Dtype  \n",
      "---  ------                 --------------  -----  \n",
      " 0   Blast Day Type         492 non-null    object \n",
      " 1   City                   492 non-null    object \n",
      " 2   Latitude               492 non-null    float64\n",
      " 3   Longitude              492 non-null    object \n",
      " 4   Province               492 non-null    object \n",
      " 5   Location Category      492 non-null    object \n",
      " 6   Location Sensitivity   492 non-null    object \n",
      " 7   Open/Closed Space      492 non-null    object \n",
      " 8   Target Type            492 non-null    object \n",
      " 9   Killed Min             492 non-null    float64\n",
      " 10  Killed Max             492 non-null    float64\n",
      " 11  Injured Min            492 non-null    float64\n",
      " 12  Injured Max            492 non-null    float64\n",
      " 13  No. of Suicide Blasts  492 non-null    float64\n",
      " 14  Year                   492 non-null    int32  \n",
      " 15  Month                  492 non-null    int32  \n",
      " 16  Day                    492 non-null    int32  \n",
      " 17  Islamic Year           492 non-null    object \n",
      " 18  Islamic Month          492 non-null    object \n",
      " 19  Islamic Day            492 non-null    object \n",
      "dtypes: float64(6), int32(3), object(11)\n",
      "memory usage: 75.0+ KB\n"
     ]
    }
   ],
   "source": [
    "df.info()"
   ]
  },
  {
   "cell_type": "code",
   "execution_count": 129,
   "metadata": {},
   "outputs": [
    {
     "name": "stdout",
     "output_type": "stream",
     "text": [
      "<class 'pandas.core.frame.DataFrame'>\n",
      "Index: 492 entries, 0 to 495\n",
      "Data columns (total 20 columns):\n",
      " #   Column                 Non-Null Count  Dtype   \n",
      "---  ------                 --------------  -----   \n",
      " 0   Blast Day Type         492 non-null    category\n",
      " 1   City                   492 non-null    category\n",
      " 2   Latitude               492 non-null    float64 \n",
      " 3   Longitude              492 non-null    float64 \n",
      " 4   Province               492 non-null    category\n",
      " 5   Location Category      492 non-null    category\n",
      " 6   Location Sensitivity   492 non-null    category\n",
      " 7   Open/Closed Space      492 non-null    category\n",
      " 8   Target Type            492 non-null    category\n",
      " 9   Killed Min             492 non-null    float64 \n",
      " 10  Killed Max             492 non-null    float64 \n",
      " 11  Injured Min            492 non-null    float64 \n",
      " 12  Injured Max            492 non-null    float64 \n",
      " 13  No. of Suicide Blasts  492 non-null    float64 \n",
      " 14  Year                   492 non-null    int32   \n",
      " 15  Month                  492 non-null    int32   \n",
      " 16  Day                    492 non-null    int32   \n",
      " 17  Islamic Year           492 non-null    int64   \n",
      " 18  Islamic Month          492 non-null    int64   \n",
      " 19  Islamic Day            492 non-null    int64   \n",
      "dtypes: category(7), float64(7), int32(3), int64(3)\n",
      "memory usage: 55.7 KB\n"
     ]
    }
   ],
   "source": [
    "# Veri tiplerini sayısal veriye ya da kategorik veri tipine çevirelim\n",
    "df[\"Blast Day Type\"] = df[\"Blast Day Type\"].astype('category')\n",
    "df[\"City\"] = df[\"City\"].astype('category')\n",
    "df[\"Longitude\"] = df[\"Longitude\"].astype(float)\n",
    "df[\"Province\"] = df[\"Province\"].astype('category')\n",
    "df[\"Location Category\"] = df[\"Location Category\"].astype('category')\n",
    "df[\"Location Sensitivity\"] = df[\"Location Sensitivity\"].astype('category')\n",
    "df[\"Open/Closed Space\"] = df[\"Open/Closed Space\"].astype('category')\n",
    "df[\"Target Type\"] = df[\"Target Type\"].astype('category')\n",
    "df[\"Islamic Year\"] = df[\"Islamic Year\"].astype(int)\n",
    "df[\"Islamic Month\"] = df[\"Islamic Month\"].astype(int)\n",
    "df[\"Islamic Day\"] = df[\"Islamic Day\"].astype(int)\n",
    "\n",
    "# Değişiklik sonrası\n",
    "df.info()"
   ]
  },
  {
   "cell_type": "code",
   "execution_count": 130,
   "metadata": {},
   "outputs": [],
   "source": [
    "# Kategorik değerleri de sayısal değere çevirelim\n",
    "# Bunun için Label Encode kullanılmıştır. (Bunun yerine One Hot Coding de kullanılabilir)\n",
    "# Sütunların sayısal verilerini yeni sütunlara atıyoruz\n",
    "label_encoder = LabelEncoder()\n",
    "df[\"Blast Day Type Num\"] = label_encoder.fit_transform(df[\"Blast Day Type\"])\n",
    "df[\"City Num\"] = label_encoder.fit_transform(df[\"City\"])\n",
    "df[\"Province Num\"] = label_encoder.fit_transform(df[\"Province\"])\n",
    "df[\"Location Category Num\"] = label_encoder.fit_transform(df[\"Location Category\"])\n",
    "df[\"Location Sensitivity Num\"] = label_encoder.fit_transform(df[\"Location Sensitivity\"])\n",
    "df[\"Open/Closed Space Num\"] = label_encoder.fit_transform(df[\"Open/Closed Space\"])\n",
    "df[\"Target Type Num\"] = label_encoder.fit_transform(df[\"Target Type\"])\n",
    "\n",
    "# Artık eski sütunları silebilriz\n",
    "df = df.drop(columns={'City', 'Province', 'Blast Day Type', 'Location Category', 'Location Sensitivity', 'Open/Closed Space', 'Target Type'})"
   ]
  },
  {
   "cell_type": "markdown",
   "metadata": {},
   "source": [
    "22. Verilerimizin son hali"
   ]
  },
  {
   "cell_type": "code",
   "execution_count": 131,
   "metadata": {},
   "outputs": [
    {
     "data": {
      "text/plain": [
       "<Axes: >"
      ]
     },
     "execution_count": 131,
     "metadata": {},
     "output_type": "execute_result"
    },
    {
     "data": {
      "image/png": "[encoded data removed]",
      "text/plain": [
       "<Figure size 640x480 with 1 Axes>"
      ]
     },
     "metadata": {},
     "output_type": "display_data"
    }
   ],
   "source": [
    "sns.heatmap(df.isnull(), cbar=False)"
   ]
  },
  {
   "cell_type": "code",
   "execution_count": 132,
   "metadata": {},
   "outputs": [
    {
     "data": {
      "text/html": [
       "<div>\n",
       "<style scoped>\n",
       "    .dataframe tbody tr th:only-of-type {\n",
       "        vertical-align: middle;\n",
       "    }\n",
       "\n",
       "    .dataframe tbody tr th {\n",
       "        vertical-align: top;\n",
       "    }\n",
       "\n",
       "    .dataframe thead th {\n",
       "        text-align: right;\n",
       "    }\n",
       "</style>\n",
       "<table border=\"1\" class=\"dataframe\">\n",
       "  <thead>\n",
       "    <tr style=\"text-align: right;\">\n",
       "      <th></th>\n",
       "      <th>Latitude</th>\n",
       "      <th>Longitude</th>\n",
       "      <th>Killed Min</th>\n",
       "      <th>Killed Max</th>\n",
       "      <th>Injured Min</th>\n",
       "      <th>Injured Max</th>\n",
       "      <th>No. of Suicide Blasts</th>\n",
       "      <th>Year</th>\n",
       "      <th>Month</th>\n",
       "      <th>Day</th>\n",
       "      <th>Islamic Year</th>\n",
       "      <th>Islamic Month</th>\n",
       "      <th>Islamic Day</th>\n",
       "      <th>Blast Day Type Num</th>\n",
       "      <th>City Num</th>\n",
       "      <th>Province Num</th>\n",
       "      <th>Location Category Num</th>\n",
       "      <th>Location Sensitivity Num</th>\n",
       "      <th>Open/Closed Space Num</th>\n",
       "      <th>Target Type Num</th>\n",
       "    </tr>\n",
       "  </thead>\n",
       "  <tbody>\n",
       "    <tr>\n",
       "      <th>0</th>\n",
       "      <td>33.718000</td>\n",
       "      <td>73.071800</td>\n",
       "      <td>14.000000</td>\n",
       "      <td>15.0</td>\n",
       "      <td>31.39726</td>\n",
       "      <td>60.00000</td>\n",
       "      <td>2.0</td>\n",
       "      <td>1995</td>\n",
       "      <td>11</td>\n",
       "      <td>19</td>\n",
       "      <td>1416</td>\n",
       "      <td>6</td>\n",
       "      <td>26</td>\n",
       "      <td>0</td>\n",
       "      <td>17</td>\n",
       "      <td>2</td>\n",
       "      <td>4</td>\n",
       "      <td>0</td>\n",
       "      <td>0</td>\n",
       "      <td>2</td>\n",
       "    </tr>\n",
       "    <tr>\n",
       "      <th>1</th>\n",
       "      <td>24.991800</td>\n",
       "      <td>66.991100</td>\n",
       "      <td>14.725714</td>\n",
       "      <td>3.0</td>\n",
       "      <td>31.39726</td>\n",
       "      <td>3.00000</td>\n",
       "      <td>1.0</td>\n",
       "      <td>2000</td>\n",
       "      <td>11</td>\n",
       "      <td>6</td>\n",
       "      <td>1421</td>\n",
       "      <td>8</td>\n",
       "      <td>10</td>\n",
       "      <td>2</td>\n",
       "      <td>19</td>\n",
       "      <td>6</td>\n",
       "      <td>11</td>\n",
       "      <td>1</td>\n",
       "      <td>0</td>\n",
       "      <td>4</td>\n",
       "    </tr>\n",
       "    <tr>\n",
       "      <th>2</th>\n",
       "      <td>24.991800</td>\n",
       "      <td>66.991100</td>\n",
       "      <td>13.000000</td>\n",
       "      <td>15.0</td>\n",
       "      <td>20.00000</td>\n",
       "      <td>40.00000</td>\n",
       "      <td>1.0</td>\n",
       "      <td>2002</td>\n",
       "      <td>5</td>\n",
       "      <td>8</td>\n",
       "      <td>1423</td>\n",
       "      <td>2</td>\n",
       "      <td>25</td>\n",
       "      <td>2</td>\n",
       "      <td>19</td>\n",
       "      <td>6</td>\n",
       "      <td>7</td>\n",
       "      <td>2</td>\n",
       "      <td>0</td>\n",
       "      <td>2</td>\n",
       "    </tr>\n",
       "    <tr>\n",
       "      <th>3</th>\n",
       "      <td>24.991800</td>\n",
       "      <td>66.991100</td>\n",
       "      <td>14.725714</td>\n",
       "      <td>12.0</td>\n",
       "      <td>31.39726</td>\n",
       "      <td>51.00000</td>\n",
       "      <td>1.0</td>\n",
       "      <td>2002</td>\n",
       "      <td>6</td>\n",
       "      <td>14</td>\n",
       "      <td>1423</td>\n",
       "      <td>4</td>\n",
       "      <td>3</td>\n",
       "      <td>2</td>\n",
       "      <td>19</td>\n",
       "      <td>6</td>\n",
       "      <td>4</td>\n",
       "      <td>0</td>\n",
       "      <td>0</td>\n",
       "      <td>2</td>\n",
       "    </tr>\n",
       "    <tr>\n",
       "      <th>4</th>\n",
       "      <td>30.209500</td>\n",
       "      <td>67.018200</td>\n",
       "      <td>44.000000</td>\n",
       "      <td>47.0</td>\n",
       "      <td>31.39726</td>\n",
       "      <td>65.00000</td>\n",
       "      <td>1.0</td>\n",
       "      <td>2003</td>\n",
       "      <td>7</td>\n",
       "      <td>4</td>\n",
       "      <td>1424</td>\n",
       "      <td>5</td>\n",
       "      <td>4</td>\n",
       "      <td>2</td>\n",
       "      <td>43</td>\n",
       "      <td>1</td>\n",
       "      <td>14</td>\n",
       "      <td>2</td>\n",
       "      <td>0</td>\n",
       "      <td>7</td>\n",
       "    </tr>\n",
       "    <tr>\n",
       "      <th>...</th>\n",
       "      <td>...</td>\n",
       "      <td>...</td>\n",
       "      <td>...</td>\n",
       "      <td>...</td>\n",
       "      <td>...</td>\n",
       "      <td>...</td>\n",
       "      <td>...</td>\n",
       "      <td>...</td>\n",
       "      <td>...</td>\n",
       "      <td>...</td>\n",
       "      <td>...</td>\n",
       "      <td>...</td>\n",
       "      <td>...</td>\n",
       "      <td>...</td>\n",
       "      <td>...</td>\n",
       "      <td>...</td>\n",
       "      <td>...</td>\n",
       "      <td>...</td>\n",
       "      <td>...</td>\n",
       "      <td>...</td>\n",
       "    </tr>\n",
       "    <tr>\n",
       "      <th>490</th>\n",
       "      <td>30.203658</td>\n",
       "      <td>67.004469</td>\n",
       "      <td>15.000000</td>\n",
       "      <td>15.0</td>\n",
       "      <td>40.00000</td>\n",
       "      <td>40.00000</td>\n",
       "      <td>1.0</td>\n",
       "      <td>2017</td>\n",
       "      <td>8</td>\n",
       "      <td>12</td>\n",
       "      <td>1438</td>\n",
       "      <td>11</td>\n",
       "      <td>20</td>\n",
       "      <td>1</td>\n",
       "      <td>43</td>\n",
       "      <td>1</td>\n",
       "      <td>17</td>\n",
       "      <td>2</td>\n",
       "      <td>1</td>\n",
       "      <td>5</td>\n",
       "    </tr>\n",
       "    <tr>\n",
       "      <th>491</th>\n",
       "      <td>28.571051</td>\n",
       "      <td>67.496895</td>\n",
       "      <td>21.000000</td>\n",
       "      <td>22.0</td>\n",
       "      <td>25.00000</td>\n",
       "      <td>39.45987</td>\n",
       "      <td>1.0</td>\n",
       "      <td>2017</td>\n",
       "      <td>10</td>\n",
       "      <td>5</td>\n",
       "      <td>1439</td>\n",
       "      <td>1</td>\n",
       "      <td>15</td>\n",
       "      <td>2</td>\n",
       "      <td>43</td>\n",
       "      <td>1</td>\n",
       "      <td>14</td>\n",
       "      <td>0</td>\n",
       "      <td>1</td>\n",
       "      <td>1</td>\n",
       "    </tr>\n",
       "    <tr>\n",
       "      <th>493</th>\n",
       "      <td>30.221057</td>\n",
       "      <td>67.002524</td>\n",
       "      <td>2.000000</td>\n",
       "      <td>2.0</td>\n",
       "      <td>8.00000</td>\n",
       "      <td>8.00000</td>\n",
       "      <td>1.0</td>\n",
       "      <td>2017</td>\n",
       "      <td>11</td>\n",
       "      <td>9</td>\n",
       "      <td>1439</td>\n",
       "      <td>2</td>\n",
       "      <td>20</td>\n",
       "      <td>2</td>\n",
       "      <td>43</td>\n",
       "      <td>1</td>\n",
       "      <td>13</td>\n",
       "      <td>1</td>\n",
       "      <td>1</td>\n",
       "      <td>6</td>\n",
       "    </tr>\n",
       "    <tr>\n",
       "      <th>494</th>\n",
       "      <td>33.970623</td>\n",
       "      <td>71.438620</td>\n",
       "      <td>1.000000</td>\n",
       "      <td>3.0</td>\n",
       "      <td>6.00000</td>\n",
       "      <td>8.00000</td>\n",
       "      <td>1.0</td>\n",
       "      <td>2017</td>\n",
       "      <td>11</td>\n",
       "      <td>24</td>\n",
       "      <td>1439</td>\n",
       "      <td>3</td>\n",
       "      <td>6</td>\n",
       "      <td>2</td>\n",
       "      <td>40</td>\n",
       "      <td>4</td>\n",
       "      <td>13</td>\n",
       "      <td>1</td>\n",
       "      <td>1</td>\n",
       "      <td>6</td>\n",
       "    </tr>\n",
       "    <tr>\n",
       "      <th>495</th>\n",
       "      <td>30.139626</td>\n",
       "      <td>66.981476</td>\n",
       "      <td>4.000000</td>\n",
       "      <td>4.0</td>\n",
       "      <td>16.00000</td>\n",
       "      <td>22.00000</td>\n",
       "      <td>1.0</td>\n",
       "      <td>2017</td>\n",
       "      <td>11</td>\n",
       "      <td>25</td>\n",
       "      <td>1439</td>\n",
       "      <td>3</td>\n",
       "      <td>7</td>\n",
       "      <td>2</td>\n",
       "      <td>43</td>\n",
       "      <td>1</td>\n",
       "      <td>9</td>\n",
       "      <td>2</td>\n",
       "      <td>1</td>\n",
       "      <td>5</td>\n",
       "    </tr>\n",
       "  </tbody>\n",
       "</table>\n",
       "<p>492 rows × 20 columns</p>\n",
       "</div>"
      ],
      "text/plain": [
       "      Latitude  Longitude  Killed Min  Killed Max  Injured Min  Injured Max  \\\n",
       "0    33.718000  73.071800   14.000000        15.0     31.39726     60.00000   \n",
       "1    24.991800  66.991100   14.725714         3.0     31.39726      3.00000   \n",
       "2    24.991800  66.991100   13.000000        15.0     20.00000     40.00000   \n",
       "3    24.991800  66.991100   14.725714        12.0     31.39726     51.00000   \n",
       "4    30.209500  67.018200   44.000000        47.0     31.39726     65.00000   \n",
       "..         ...        ...         ...         ...          ...          ...   \n",
       "490  30.203658  67.004469   15.000000        15.0     40.00000     40.00000   \n",
       "491  28.571051  67.496895   21.000000        22.0     25.00000     39.45987   \n",
       "493  30.221057  67.002524    2.000000         2.0      8.00000      8.00000   \n",
       "494  33.970623  71.438620    1.000000         3.0      6.00000      8.00000   \n",
       "495  30.139626  66.981476    4.000000         4.0     16.00000     22.00000   \n",
       "\n",
       "     No. of Suicide Blasts  Year  Month  Day  Islamic Year  Islamic Month  \\\n",
       "0                      2.0  1995     11   19          1416              6   \n",
       "1                      1.0  2000     11    6          1421              8   \n",
       "2                      1.0  2002      5    8          1423              2   \n",
       "3                      1.0  2002      6   14          1423              4   \n",
       "4                      1.0  2003      7    4          1424              5   \n",
       "..                     ...   ...    ...  ...           ...            ...   \n",
       "490                    1.0  2017      8   12          1438             11   \n",
       "491                    1.0  2017     10    5          1439              1   \n",
       "493                    1.0  2017     11    9          1439              2   \n",
       "494                    1.0  2017     11   24          1439              3   \n",
       "495                    1.0  2017     11   25          1439              3   \n",
       "\n",
       "     Islamic Day  Blast Day Type Num  City Num  Province Num  \\\n",
       "0             26                   0        17             2   \n",
       "1             10                   2        19             6   \n",
       "2             25                   2        19             6   \n",
       "3              3                   2        19             6   \n",
       "4              4                   2        43             1   \n",
       "..           ...                 ...       ...           ...   \n",
       "490           20                   1        43             1   \n",
       "491           15                   2        43             1   \n",
       "493           20                   2        43             1   \n",
       "494            6                   2        40             4   \n",
       "495            7                   2        43             1   \n",
       "\n",
       "     Location Category Num  Location Sensitivity Num  Open/Closed Space Num  \\\n",
       "0                        4                         0                      0   \n",
       "1                       11                         1                      0   \n",
       "2                        7                         2                      0   \n",
       "3                        4                         0                      0   \n",
       "4                       14                         2                      0   \n",
       "..                     ...                       ...                    ...   \n",
       "490                     17                         2                      1   \n",
       "491                     14                         0                      1   \n",
       "493                     13                         1                      1   \n",
       "494                     13                         1                      1   \n",
       "495                      9                         2                      1   \n",
       "\n",
       "     Target Type Num  \n",
       "0                  2  \n",
       "1                  4  \n",
       "2                  2  \n",
       "3                  2  \n",
       "4                  7  \n",
       "..               ...  \n",
       "490                5  \n",
       "491                1  \n",
       "493                6  \n",
       "494                6  \n",
       "495                5  \n",
       "\n",
       "[492 rows x 20 columns]"
      ]
     },
     "execution_count": 132,
     "metadata": {},
     "output_type": "execute_result"
    }
   ],
   "source": [
    "df"
   ]
  },
  {
   "cell_type": "code",
   "execution_count": 133,
   "metadata": {},
   "outputs": [
    {
     "name": "stdout",
     "output_type": "stream",
     "text": [
      "<class 'pandas.core.frame.DataFrame'>\n",
      "Index: 492 entries, 0 to 495\n",
      "Data columns (total 20 columns):\n",
      " #   Column                    Non-Null Count  Dtype  \n",
      "---  ------                    --------------  -----  \n",
      " 0   Latitude                  492 non-null    float64\n",
      " 1   Longitude                 492 non-null    float64\n",
      " 2   Killed Min                492 non-null    float64\n",
      " 3   Killed Max                492 non-null    float64\n",
      " 4   Injured Min               492 non-null    float64\n",
      " 5   Injured Max               492 non-null    float64\n",
      " 6   No. of Suicide Blasts     492 non-null    float64\n",
      " 7   Year                      492 non-null    int32  \n",
      " 8   Month                     492 non-null    int32  \n",
      " 9   Day                       492 non-null    int32  \n",
      " 10  Islamic Year              492 non-null    int64  \n",
      " 11  Islamic Month             492 non-null    int64  \n",
      " 12  Islamic Day               492 non-null    int64  \n",
      " 13  Blast Day Type Num        492 non-null    int64  \n",
      " 14  City Num                  492 non-null    int64  \n",
      " 15  Province Num              492 non-null    int64  \n",
      " 16  Location Category Num     492 non-null    int64  \n",
      " 17  Location Sensitivity Num  492 non-null    int64  \n",
      " 18  Open/Closed Space Num     492 non-null    int64  \n",
      " 19  Target Type Num           492 non-null    int64  \n",
      "dtypes: float64(7), int32(3), int64(10)\n",
      "memory usage: 75.0 KB\n"
     ]
    }
   ],
   "source": [
    "df.info()"
   ]
  },
  {
   "cell_type": "markdown",
   "metadata": {},
   "source": [
    "23. Temizlenmiş veriyi yeni dosya olarak kaydetme"
   ]
  },
  {
   "cell_type": "code",
   "execution_count": 134,
   "metadata": {},
   "outputs": [],
   "source": [
    "df.to_csv('Dataset/CleanData.csv')"
   ]
  },
  {
   "cell_type": "code",
   "execution_count": 135,
   "metadata": {},
   "outputs": [
    {
     "data": {
      "text/plain": [
       "['Latitude',\n",
       " 'Longitude',\n",
       " 'Killed Min',\n",
       " 'Killed Max',\n",
       " 'Injured Min',\n",
       " 'Injured Max',\n",
       " 'No. of Suicide Blasts',\n",
       " 'Year',\n",
       " 'Month',\n",
       " 'Day',\n",
       " 'Islamic Year',\n",
       " 'Islamic Month',\n",
       " 'Islamic Day',\n",
       " 'Blast Day Type Num',\n",
       " 'City Num',\n",
       " 'Province Num',\n",
       " 'Location Category Num',\n",
       " 'Location Sensitivity Num',\n",
       " 'Open/Closed Space Num',\n",
       " 'Target Type Num']"
      ]
     },
     "execution_count": 135,
     "metadata": {},
     "output_type": "execute_result"
    }
   ],
   "source": [
    "[\n",
    "    'Latitude', 'Longitude', 'Killed Min', 'Killed Max', 'Injured Min', 'Injured Max',\n",
    "    'No. of Suicide Blasts', 'Year', 'Month', 'Day', 'Islamic Year', 'Islamic Month',\n",
    "    'Islamic Day', 'Blast Day Type Num', 'City Num', 'Province Num', 'Location Category Num',\n",
    "    'Location Sensitivity Num', 'Open/Closed Space Num', 'Target Type Num'\n",
    "]"
   ]
  },
  {
   "cell_type": "code",
   "execution_count": 136,
   "metadata": {},
   "outputs": [],
   "source": [
    "# Modeller\n",
    "from sklearn.linear_model import LinearRegression\n",
    "from sklearn.discriminant_analysis import LinearDiscriminantAnalysis\n",
    "from sklearn.linear_model import Ridge\n",
    "from sklearn.linear_model import ElasticNet\n",
    "from xgboost import XGBRegressor\n",
    "from lightgbm import LGBMRegressor\n",
    "from sklearn.ensemble import RandomForestRegressor\n",
    "from sklearn.linear_model import LogisticRegression\n",
    "\n",
    "# İlgili hesaplamalar\n",
    "from sklearn.model_selection import train_test_split\n",
    "from sklearn.metrics import mean_squared_error, r2_score, mean_absolute_error\n",
    "from sklearn.metrics import accuracy_score, confusion_matrix"
   ]
  },
  {
   "cell_type": "code",
   "execution_count": 137,
   "metadata": {},
   "outputs": [
    {
     "name": "stdout",
     "output_type": "stream",
     "text": [
      "Killed Min\n",
      "Mean Squared Error: 100.72299062022675\n",
      "R-Squared: 0.6774173051154627\n",
      "Mean Absolute Error: 4.929213852813854\n"
     ]
    },
    {
     "data": {
      "image/png": "[encoded data removed]",
      "text/plain": [
       "<Figure size 1000x600 with 1 Axes>"
      ]
     },
     "metadata": {},
     "output_type": "display_data"
    }
   ],
   "source": [
    "print(\"Killed Min\")\n",
    "\n",
    "column_names = [\n",
    "    'Latitude', 'Longitude', 'Killed Max', 'Injured Min', 'Injured Max',\n",
    "    'No. of Suicide Blasts', 'Year', 'Month', 'Day', 'Islamic Year', 'Islamic Month',\n",
    "    'Islamic Day', 'Blast Day Type Num', 'City Num', 'Province Num', 'Location Category Num',\n",
    "    'Location Sensitivity Num', 'Open/Closed Space Num', 'Target Type Num'\n",
    "]\n",
    "\n",
    "X = df[column_names]\n",
    "y = df['Killed Min']\n",
    "\n",
    "# Veri setini eğitim ve test setlerine bölelim\n",
    "X_train, X_test, y_train, y_test = train_test_split(X, y, test_size=0.2, random_state=42)\n",
    "\n",
    "# Rastgele Orman Regresyon modelini oluştur ve eğit\n",
    "model = RandomForestRegressor()\n",
    "model.fit(X_train, y_train)\n",
    "\n",
    "# Modeli test et ve tahminleri yap\n",
    "y_pred = model.predict(X_test)\n",
    "\n",
    "# Model performansını değerlendir\n",
    "mse = mean_squared_error(y_test, y_pred)\n",
    "r2 = r2_score(y_test, y_pred)\n",
    "mae = mean_absolute_error(y_test, y_pred)\n",
    "\n",
    "print(\"Mean Squared Error:\", mse)\n",
    "print(\"R-Squared:\", r2)\n",
    "print(\"Mean Absolute Error:\", mae)\n",
    "\n",
    "# Gerçek ve tahmin edilen değerler arasındaki ilişkiyi gösteren bir scatter plot çiz\n",
    "plt.figure(figsize=(10, 6))\n",
    "plt.scatter(y_test, y_pred, color='blue', alpha=0.5)\n",
    "plt.plot([y_test.min(), y_test.max()], [y_test.min(), y_test.max()], 'k--', lw=2)\n",
    "plt.xlabel('Gerçek Değerler')\n",
    "plt.ylabel('Tahmin Edilen Değerler')\n",
    "plt.title('Random Forest: Gerçek Değerler vs. Tahmin Edilen Değerler')\n",
    "plt.show()"
   ]
  },
  {
   "cell_type": "code",
   "execution_count": 138,
   "metadata": {},
   "outputs": [
    {
     "name": "stdout",
     "output_type": "stream",
     "text": [
      "Killed Max\n",
      "Mean Squared Error: 259.29091609229005\n",
      "R-Squared: 0.6153717981305342\n",
      "Mean Absolute Error: 6.308950126262626\n"
     ]
    },
    {
     "data": {
      "image/png": "[encoded data removed]",
      "text/plain": [
       "<Figure size 1000x600 with 1 Axes>"
      ]
     },
     "metadata": {},
     "output_type": "display_data"
    }
   ],
   "source": [
    "print(\"Killed Max\")\n",
    "\n",
    "column_names = [\n",
    "    'Latitude', 'Longitude', 'Killed Min', 'Injured Min', 'Injured Max',\n",
    "    'No. of Suicide Blasts', 'Year', 'Month', 'Day', 'Islamic Year', 'Islamic Month',\n",
    "    'Islamic Day', 'Blast Day Type Num', 'City Num', 'Province Num', 'Location Category Num',\n",
    "    'Location Sensitivity Num', 'Open/Closed Space Num', 'Target Type Num'\n",
    "]\n",
    "\n",
    "X = df[column_names]\n",
    "y = df['Killed Max']\n",
    "\n",
    "# Veri setini eğitim ve test setlerine bölelim\n",
    "X_train, X_test, y_train, y_test = train_test_split(X, y, test_size=0.2, random_state=42)\n",
    "\n",
    "# Rastgele Orman Regresyon modelini oluştur ve eğit\n",
    "model = RandomForestRegressor()\n",
    "model.fit(X_train, y_train)\n",
    "\n",
    "# Modeli test et ve tahminleri yap\n",
    "y_pred = model.predict(X_test)\n",
    "\n",
    "# Model performansını değerlendir\n",
    "mse = mean_squared_error(y_test, y_pred)\n",
    "r2 = r2_score(y_test, y_pred)\n",
    "mae = mean_absolute_error(y_test, y_pred)\n",
    "\n",
    "print(\"Mean Squared Error:\", mse)\n",
    "print(\"R-Squared:\", r2)\n",
    "print(\"Mean Absolute Error:\", mae)\n",
    "\n",
    "# Gerçek ve tahmin edilen değerler arasındaki ilişkiyi gösteren bir scatter plot çiz\n",
    "plt.figure(figsize=(10, 6))\n",
    "plt.scatter(y_test, y_pred, color='blue', alpha=0.5)\n",
    "plt.plot([y_test.min(), y_test.max()], [y_test.min(), y_test.max()], 'k--', lw=2)\n",
    "plt.xlabel('Gerçek Değerler')\n",
    "plt.ylabel('Tahmin Edilen Değerler')\n",
    "plt.title('Random Forest: Gerçek Değerler vs. Tahmin Edilen Değerler')\n",
    "plt.show()"
   ]
  },
  {
   "cell_type": "code",
   "execution_count": 139,
   "metadata": {},
   "outputs": [
    {
     "name": "stdout",
     "output_type": "stream",
     "text": [
      "Injured Min\n",
      "Mean Squared Error: 373.69845891813617\n",
      "R-Squared: 0.5306220331600842\n",
      "Mean Absolute Error: 11.413426041234258\n"
     ]
    },
    {
     "data": {
      "image/png": "[encoded data removed]",
      "text/plain": [
       "<Figure size 1000x600 with 1 Axes>"
      ]
     },
     "metadata": {},
     "output_type": "display_data"
    }
   ],
   "source": [
    "print(\"Injured Min\")\n",
    "\n",
    "column_names = [\n",
    "    'Latitude', 'Longitude', 'Killed Min', 'Killed Max', 'Injured Max',\n",
    "    'No. of Suicide Blasts', 'Year', 'Month', 'Day', 'Islamic Year', 'Islamic Month',\n",
    "    'Islamic Day', 'Blast Day Type Num', 'City Num', 'Province Num', 'Location Category Num',\n",
    "    'Location Sensitivity Num', 'Open/Closed Space Num', 'Target Type Num'\n",
    "]\n",
    "\n",
    "X = df[column_names]\n",
    "y = df['Injured Min']\n",
    "\n",
    "# Veri setini eğitim ve test setlerine bölelim\n",
    "X_train, X_test, y_train, y_test = train_test_split(X, y, test_size=0.2, random_state=42)\n",
    "\n",
    "# Rastgele Orman Regresyon modelini oluştur ve eğit\n",
    "model = RandomForestRegressor()\n",
    "model.fit(X_train, y_train)\n",
    "\n",
    "# Modeli test et ve tahminleri yap\n",
    "y_pred = model.predict(X_test)\n",
    "\n",
    "# Model performansını değerlendir\n",
    "mse = mean_squared_error(y_test, y_pred)\n",
    "r2 = r2_score(y_test, y_pred)\n",
    "mae = mean_absolute_error(y_test, y_pred)\n",
    "\n",
    "print(\"Mean Squared Error:\", mse)\n",
    "print(\"R-Squared:\", r2)\n",
    "print(\"Mean Absolute Error:\", mae)\n",
    "\n",
    "# Gerçek ve tahmin edilen değerler arasındaki ilişkiyi gösteren bir scatter plot çiz\n",
    "plt.figure(figsize=(10, 6))\n",
    "plt.scatter(y_test, y_pred, color='blue', alpha=0.5)\n",
    "plt.plot([y_test.min(), y_test.max()], [y_test.min(), y_test.max()], 'k--', lw=2)\n",
    "plt.xlabel('Gerçek Değerler')\n",
    "plt.ylabel('Tahmin Edilen Değerler')\n",
    "plt.title('Random Forest: Gerçek Değerler vs. Tahmin Edilen Değerler')\n",
    "plt.show()"
   ]
  },
  {
   "cell_type": "code",
   "execution_count": 140,
   "metadata": {},
   "outputs": [
    {
     "name": "stdout",
     "output_type": "stream",
     "text": [
      "Injured Max\n",
      "Mean Squared Error: 1961.8610180735698\n",
      "R-Squared: 0.5117432812827984\n",
      "Mean Absolute Error: 17.302483621464102\n"
     ]
    },
    {
     "data": {
      "image/png": "[encoded data removed]",
      "text/plain": [
       "<Figure size 1000x600 with 1 Axes>"
      ]
     },
     "metadata": {},
     "output_type": "display_data"
    }
   ],
   "source": [
    "print(\"Injured Max\")\n",
    "\n",
    "column_names = [\n",
    "    'Latitude', 'Longitude', 'Killed Min', 'Killed Max', 'Injured Min',\n",
    "    'No. of Suicide Blasts', 'Year', 'Month', 'Day', 'Islamic Year', 'Islamic Month',\n",
    "    'Islamic Day', 'Blast Day Type Num', 'City Num', 'Province Num', 'Location Category Num',\n",
    "    'Location Sensitivity Num', 'Open/Closed Space Num', 'Target Type Num'\n",
    "]\n",
    "\n",
    "X = df[column_names]\n",
    "y = df['Injured Max']\n",
    "\n",
    "# Veri setini eğitim ve test setlerine bölelim\n",
    "X_train, X_test, y_train, y_test = train_test_split(X, y, test_size=0.2, random_state=42)\n",
    "\n",
    "# Rastgele Orman Regresyon modelini oluştur ve eğit\n",
    "model = RandomForestRegressor()\n",
    "model.fit(X_train, y_train)\n",
    "\n",
    "# Modeli test et ve tahminleri yap\n",
    "y_pred = model.predict(X_test)\n",
    "\n",
    "# Model performansını değerlendir\n",
    "mse = mean_squared_error(y_test, y_pred)\n",
    "r2 = r2_score(y_test, y_pred)\n",
    "mae = mean_absolute_error(y_test, y_pred)\n",
    "\n",
    "print(\"Mean Squared Error:\", mse)\n",
    "print(\"R-Squared:\", r2)\n",
    "print(\"Mean Absolute Error:\", mae)\n",
    "\n",
    "# Gerçek ve tahmin edilen değerler arasındaki ilişkiyi gösteren bir scatter plot çiz\n",
    "plt.figure(figsize=(10, 6))\n",
    "plt.scatter(y_test, y_pred, color='blue', alpha=0.5)\n",
    "plt.plot([y_test.min(), y_test.max()], [y_test.min(), y_test.max()], 'k--', lw=2)\n",
    "plt.xlabel('Gerçek Değerler')\n",
    "plt.ylabel('Tahmin Edilen Değerler')\n",
    "plt.title('Random Forest: Gerçek Değerler vs. Tahmin Edilen Değerler')\n",
    "plt.show()"
   ]
  }
 ],
 "metadata": {
  "kernelspec": {
   "display_name": "Python 3",
   "language": "python",
   "name": "python3"
  },
  "language_info": {
   "codemirror_mode": {
    "name": "ipython",
    "version": 3
   },
   "file_extension": ".py",
   "mimetype": "text/x-python",
   "name": "python",
   "nbconvert_exporter": "python",
   "pygments_lexer": "ipython3",
   "version": "3.12.0"
  }
 },
 "nbformat": 4,
 "nbformat_minor": 2
}
